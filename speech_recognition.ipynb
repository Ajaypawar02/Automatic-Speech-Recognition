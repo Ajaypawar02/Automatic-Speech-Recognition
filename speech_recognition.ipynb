{
  "nbformat": 4,
  "nbformat_minor": 0,
  "metadata": {
    "accelerator": "GPU",
    "colab": {
      "name": "speech recognition",
      "provenance": []
    },
    "kernelspec": {
      "display_name": "Python 3",
      "name": "python3"
    },
    "language_info": {
      "name": "python"
    },
    "widgets": {
      "application/vnd.jupyter.widget-state+json": {
        "14580e838ca94d3db263917575d75f58": {
          "model_module": "@jupyter-widgets/controls",
          "model_name": "HBoxModel",
          "state": {
            "_view_name": "HBoxView",
            "_dom_classes": [],
            "_model_name": "HBoxModel",
            "_view_module": "@jupyter-widgets/controls",
            "_model_module_version": "1.5.0",
            "_view_count": null,
            "_view_module_version": "1.5.0",
            "box_style": "",
            "layout": "IPY_MODEL_7a7bec61cf714ee4b438a21eff277ea5",
            "_model_module": "@jupyter-widgets/controls",
            "children": [
              "IPY_MODEL_310103dc6e234c6ca01648fe2ca0f0d0",
              "IPY_MODEL_b4f22331adc049e09097e44289017ecd"
            ]
          }
        },
        "7a7bec61cf714ee4b438a21eff277ea5": {
          "model_module": "@jupyter-widgets/base",
          "model_name": "LayoutModel",
          "state": {
            "_view_name": "LayoutView",
            "grid_template_rows": null,
            "right": null,
            "justify_content": null,
            "_view_module": "@jupyter-widgets/base",
            "overflow": null,
            "_model_module_version": "1.2.0",
            "_view_count": null,
            "flex_flow": null,
            "width": null,
            "min_width": null,
            "border": null,
            "align_items": null,
            "bottom": null,
            "_model_module": "@jupyter-widgets/base",
            "top": null,
            "grid_column": null,
            "overflow_y": null,
            "overflow_x": null,
            "grid_auto_flow": null,
            "grid_area": null,
            "grid_template_columns": null,
            "flex": null,
            "_model_name": "LayoutModel",
            "justify_items": null,
            "grid_row": null,
            "max_height": null,
            "align_content": null,
            "visibility": null,
            "align_self": null,
            "height": null,
            "min_height": null,
            "padding": null,
            "grid_auto_rows": null,
            "grid_gap": null,
            "max_width": null,
            "order": null,
            "_view_module_version": "1.2.0",
            "grid_template_areas": null,
            "object_position": null,
            "object_fit": null,
            "grid_auto_columns": null,
            "margin": null,
            "display": null,
            "left": null
          }
        },
        "310103dc6e234c6ca01648fe2ca0f0d0": {
          "model_module": "@jupyter-widgets/controls",
          "model_name": "FloatProgressModel",
          "state": {
            "_view_name": "ProgressView",
            "style": "IPY_MODEL_d60bebaff67a4dfc89fbd02a2d7fe80f",
            "_dom_classes": [],
            "description": "",
            "_model_name": "FloatProgressModel",
            "bar_style": "info",
            "max": 1,
            "_view_module": "@jupyter-widgets/controls",
            "_model_module_version": "1.5.0",
            "value": 1,
            "_view_count": null,
            "_view_module_version": "1.5.0",
            "orientation": "horizontal",
            "min": 0,
            "description_tooltip": null,
            "_model_module": "@jupyter-widgets/controls",
            "layout": "IPY_MODEL_f7358b81873541a5a357590df19f1287"
          }
        },
        "b4f22331adc049e09097e44289017ecd": {
          "model_module": "@jupyter-widgets/controls",
          "model_name": "HTMLModel",
          "state": {
            "_view_name": "HTMLView",
            "style": "IPY_MODEL_98a3ba45228a4806bd99dc357e811cc3",
            "_dom_classes": [],
            "description": "",
            "_model_name": "HTMLModel",
            "placeholder": "​",
            "_view_module": "@jupyter-widgets/controls",
            "_model_module_version": "1.5.0",
            "value": " 1/? [00:00&lt;00:00, 11.54 tables/s]",
            "_view_count": null,
            "_view_module_version": "1.5.0",
            "description_tooltip": null,
            "_model_module": "@jupyter-widgets/controls",
            "layout": "IPY_MODEL_1c31606d82494905906264b8aaeb7f67"
          }
        },
        "d60bebaff67a4dfc89fbd02a2d7fe80f": {
          "model_module": "@jupyter-widgets/controls",
          "model_name": "ProgressStyleModel",
          "state": {
            "_view_name": "StyleView",
            "_model_name": "ProgressStyleModel",
            "description_width": "initial",
            "_view_module": "@jupyter-widgets/base",
            "_model_module_version": "1.5.0",
            "_view_count": null,
            "_view_module_version": "1.2.0",
            "bar_color": null,
            "_model_module": "@jupyter-widgets/controls"
          }
        },
        "f7358b81873541a5a357590df19f1287": {
          "model_module": "@jupyter-widgets/base",
          "model_name": "LayoutModel",
          "state": {
            "_view_name": "LayoutView",
            "grid_template_rows": null,
            "right": null,
            "justify_content": null,
            "_view_module": "@jupyter-widgets/base",
            "overflow": null,
            "_model_module_version": "1.2.0",
            "_view_count": null,
            "flex_flow": null,
            "width": null,
            "min_width": null,
            "border": null,
            "align_items": null,
            "bottom": null,
            "_model_module": "@jupyter-widgets/base",
            "top": null,
            "grid_column": null,
            "overflow_y": null,
            "overflow_x": null,
            "grid_auto_flow": null,
            "grid_area": null,
            "grid_template_columns": null,
            "flex": null,
            "_model_name": "LayoutModel",
            "justify_items": null,
            "grid_row": null,
            "max_height": null,
            "align_content": null,
            "visibility": null,
            "align_self": null,
            "height": null,
            "min_height": null,
            "padding": null,
            "grid_auto_rows": null,
            "grid_gap": null,
            "max_width": null,
            "order": null,
            "_view_module_version": "1.2.0",
            "grid_template_areas": null,
            "object_position": null,
            "object_fit": null,
            "grid_auto_columns": null,
            "margin": null,
            "display": null,
            "left": null
          }
        },
        "98a3ba45228a4806bd99dc357e811cc3": {
          "model_module": "@jupyter-widgets/controls",
          "model_name": "DescriptionStyleModel",
          "state": {
            "_view_name": "StyleView",
            "_model_name": "DescriptionStyleModel",
            "description_width": "",
            "_view_module": "@jupyter-widgets/base",
            "_model_module_version": "1.5.0",
            "_view_count": null,
            "_view_module_version": "1.2.0",
            "_model_module": "@jupyter-widgets/controls"
          }
        },
        "1c31606d82494905906264b8aaeb7f67": {
          "model_module": "@jupyter-widgets/base",
          "model_name": "LayoutModel",
          "state": {
            "_view_name": "LayoutView",
            "grid_template_rows": null,
            "right": null,
            "justify_content": null,
            "_view_module": "@jupyter-widgets/base",
            "overflow": null,
            "_model_module_version": "1.2.0",
            "_view_count": null,
            "flex_flow": null,
            "width": null,
            "min_width": null,
            "border": null,
            "align_items": null,
            "bottom": null,
            "_model_module": "@jupyter-widgets/base",
            "top": null,
            "grid_column": null,
            "overflow_y": null,
            "overflow_x": null,
            "grid_auto_flow": null,
            "grid_area": null,
            "grid_template_columns": null,
            "flex": null,
            "_model_name": "LayoutModel",
            "justify_items": null,
            "grid_row": null,
            "max_height": null,
            "align_content": null,
            "visibility": null,
            "align_self": null,
            "height": null,
            "min_height": null,
            "padding": null,
            "grid_auto_rows": null,
            "grid_gap": null,
            "max_width": null,
            "order": null,
            "_view_module_version": "1.2.0",
            "grid_template_areas": null,
            "object_position": null,
            "object_fit": null,
            "grid_auto_columns": null,
            "margin": null,
            "display": null,
            "left": null
          }
        },
        "ca154b054def4cb9993133da49ae2ff2": {
          "model_module": "@jupyter-widgets/controls",
          "model_name": "HBoxModel",
          "state": {
            "_view_name": "HBoxView",
            "_dom_classes": [],
            "_model_name": "HBoxModel",
            "_view_module": "@jupyter-widgets/controls",
            "_model_module_version": "1.5.0",
            "_view_count": null,
            "_view_module_version": "1.5.0",
            "box_style": "",
            "layout": "IPY_MODEL_c417b9be638549f4b7393c8b4c436aca",
            "_model_module": "@jupyter-widgets/controls",
            "children": [
              "IPY_MODEL_9c1893419f8248528e3da11da3818872",
              "IPY_MODEL_cf4ebcd3d8f34c84bfc23e8414220ad6"
            ]
          }
        },
        "c417b9be638549f4b7393c8b4c436aca": {
          "model_module": "@jupyter-widgets/base",
          "model_name": "LayoutModel",
          "state": {
            "_view_name": "LayoutView",
            "grid_template_rows": null,
            "right": null,
            "justify_content": null,
            "_view_module": "@jupyter-widgets/base",
            "overflow": null,
            "_model_module_version": "1.2.0",
            "_view_count": null,
            "flex_flow": null,
            "width": null,
            "min_width": null,
            "border": null,
            "align_items": null,
            "bottom": null,
            "_model_module": "@jupyter-widgets/base",
            "top": null,
            "grid_column": null,
            "overflow_y": null,
            "overflow_x": null,
            "grid_auto_flow": null,
            "grid_area": null,
            "grid_template_columns": null,
            "flex": null,
            "_model_name": "LayoutModel",
            "justify_items": null,
            "grid_row": null,
            "max_height": null,
            "align_content": null,
            "visibility": null,
            "align_self": null,
            "height": null,
            "min_height": null,
            "padding": null,
            "grid_auto_rows": null,
            "grid_gap": null,
            "max_width": null,
            "order": null,
            "_view_module_version": "1.2.0",
            "grid_template_areas": null,
            "object_position": null,
            "object_fit": null,
            "grid_auto_columns": null,
            "margin": null,
            "display": null,
            "left": null
          }
        },
        "9c1893419f8248528e3da11da3818872": {
          "model_module": "@jupyter-widgets/controls",
          "model_name": "FloatProgressModel",
          "state": {
            "_view_name": "ProgressView",
            "style": "IPY_MODEL_04f131d4f5d94b7eab5b8e989994ddad",
            "_dom_classes": [],
            "description": "100%",
            "_model_name": "FloatProgressModel",
            "bar_style": "success",
            "max": 4500,
            "_view_module": "@jupyter-widgets/controls",
            "_model_module_version": "1.5.0",
            "value": 4500,
            "_view_count": null,
            "_view_module_version": "1.5.0",
            "orientation": "horizontal",
            "min": 0,
            "description_tooltip": null,
            "_model_module": "@jupyter-widgets/controls",
            "layout": "IPY_MODEL_71ef8f8ca1064dbda8700d406e7ffe03"
          }
        },
        "cf4ebcd3d8f34c84bfc23e8414220ad6": {
          "model_module": "@jupyter-widgets/controls",
          "model_name": "HTMLModel",
          "state": {
            "_view_name": "HTMLView",
            "style": "IPY_MODEL_603c38091b7e458aa60d45eabe493f1a",
            "_dom_classes": [],
            "description": "",
            "_model_name": "HTMLModel",
            "placeholder": "​",
            "_view_module": "@jupyter-widgets/controls",
            "_model_module_version": "1.5.0",
            "value": " 4500/4500 [00:05&lt;00:00, 830.90ex/s]",
            "_view_count": null,
            "_view_module_version": "1.5.0",
            "description_tooltip": null,
            "_model_module": "@jupyter-widgets/controls",
            "layout": "IPY_MODEL_0354d168d522488d9d66ffa6647de263"
          }
        },
        "04f131d4f5d94b7eab5b8e989994ddad": {
          "model_module": "@jupyter-widgets/controls",
          "model_name": "ProgressStyleModel",
          "state": {
            "_view_name": "StyleView",
            "_model_name": "ProgressStyleModel",
            "description_width": "initial",
            "_view_module": "@jupyter-widgets/base",
            "_model_module_version": "1.5.0",
            "_view_count": null,
            "_view_module_version": "1.2.0",
            "bar_color": null,
            "_model_module": "@jupyter-widgets/controls"
          }
        },
        "71ef8f8ca1064dbda8700d406e7ffe03": {
          "model_module": "@jupyter-widgets/base",
          "model_name": "LayoutModel",
          "state": {
            "_view_name": "LayoutView",
            "grid_template_rows": null,
            "right": null,
            "justify_content": null,
            "_view_module": "@jupyter-widgets/base",
            "overflow": null,
            "_model_module_version": "1.2.0",
            "_view_count": null,
            "flex_flow": null,
            "width": null,
            "min_width": null,
            "border": null,
            "align_items": null,
            "bottom": null,
            "_model_module": "@jupyter-widgets/base",
            "top": null,
            "grid_column": null,
            "overflow_y": null,
            "overflow_x": null,
            "grid_auto_flow": null,
            "grid_area": null,
            "grid_template_columns": null,
            "flex": null,
            "_model_name": "LayoutModel",
            "justify_items": null,
            "grid_row": null,
            "max_height": null,
            "align_content": null,
            "visibility": null,
            "align_self": null,
            "height": null,
            "min_height": null,
            "padding": null,
            "grid_auto_rows": null,
            "grid_gap": null,
            "max_width": null,
            "order": null,
            "_view_module_version": "1.2.0",
            "grid_template_areas": null,
            "object_position": null,
            "object_fit": null,
            "grid_auto_columns": null,
            "margin": null,
            "display": null,
            "left": null
          }
        },
        "603c38091b7e458aa60d45eabe493f1a": {
          "model_module": "@jupyter-widgets/controls",
          "model_name": "DescriptionStyleModel",
          "state": {
            "_view_name": "StyleView",
            "_model_name": "DescriptionStyleModel",
            "description_width": "",
            "_view_module": "@jupyter-widgets/base",
            "_model_module_version": "1.5.0",
            "_view_count": null,
            "_view_module_version": "1.2.0",
            "_model_module": "@jupyter-widgets/controls"
          }
        },
        "0354d168d522488d9d66ffa6647de263": {
          "model_module": "@jupyter-widgets/base",
          "model_name": "LayoutModel",
          "state": {
            "_view_name": "LayoutView",
            "grid_template_rows": null,
            "right": null,
            "justify_content": null,
            "_view_module": "@jupyter-widgets/base",
            "overflow": null,
            "_model_module_version": "1.2.0",
            "_view_count": null,
            "flex_flow": null,
            "width": null,
            "min_width": null,
            "border": null,
            "align_items": null,
            "bottom": null,
            "_model_module": "@jupyter-widgets/base",
            "top": null,
            "grid_column": null,
            "overflow_y": null,
            "overflow_x": null,
            "grid_auto_flow": null,
            "grid_area": null,
            "grid_template_columns": null,
            "flex": null,
            "_model_name": "LayoutModel",
            "justify_items": null,
            "grid_row": null,
            "max_height": null,
            "align_content": null,
            "visibility": null,
            "align_self": null,
            "height": null,
            "min_height": null,
            "padding": null,
            "grid_auto_rows": null,
            "grid_gap": null,
            "max_width": null,
            "order": null,
            "_view_module_version": "1.2.0",
            "grid_template_areas": null,
            "object_position": null,
            "object_fit": null,
            "grid_auto_columns": null,
            "margin": null,
            "display": null,
            "left": null
          }
        },
        "fa51187e310646a0a27dd08785d8b2ce": {
          "model_module": "@jupyter-widgets/controls",
          "model_name": "HBoxModel",
          "state": {
            "_view_name": "HBoxView",
            "_dom_classes": [],
            "_model_name": "HBoxModel",
            "_view_module": "@jupyter-widgets/controls",
            "_model_module_version": "1.5.0",
            "_view_count": null,
            "_view_module_version": "1.5.0",
            "box_style": "",
            "layout": "IPY_MODEL_4fc746e3aed6426194ce9ba31f9e8f9e",
            "_model_module": "@jupyter-widgets/controls",
            "children": [
              "IPY_MODEL_f70a29d0b7684dc39ea5bc89b15a9ccf",
              "IPY_MODEL_8f2910ad22364a35881d0ad86dc47985"
            ]
          }
        },
        "4fc746e3aed6426194ce9ba31f9e8f9e": {
          "model_module": "@jupyter-widgets/base",
          "model_name": "LayoutModel",
          "state": {
            "_view_name": "LayoutView",
            "grid_template_rows": null,
            "right": null,
            "justify_content": null,
            "_view_module": "@jupyter-widgets/base",
            "overflow": null,
            "_model_module_version": "1.2.0",
            "_view_count": null,
            "flex_flow": null,
            "width": null,
            "min_width": null,
            "border": null,
            "align_items": null,
            "bottom": null,
            "_model_module": "@jupyter-widgets/base",
            "top": null,
            "grid_column": null,
            "overflow_y": null,
            "overflow_x": null,
            "grid_auto_flow": null,
            "grid_area": null,
            "grid_template_columns": null,
            "flex": null,
            "_model_name": "LayoutModel",
            "justify_items": null,
            "grid_row": null,
            "max_height": null,
            "align_content": null,
            "visibility": null,
            "align_self": null,
            "height": null,
            "min_height": null,
            "padding": null,
            "grid_auto_rows": null,
            "grid_gap": null,
            "max_width": null,
            "order": null,
            "_view_module_version": "1.2.0",
            "grid_template_areas": null,
            "object_position": null,
            "object_fit": null,
            "grid_auto_columns": null,
            "margin": null,
            "display": null,
            "left": null
          }
        },
        "f70a29d0b7684dc39ea5bc89b15a9ccf": {
          "model_module": "@jupyter-widgets/controls",
          "model_name": "FloatProgressModel",
          "state": {
            "_view_name": "ProgressView",
            "style": "IPY_MODEL_1ca87157ac584beeaa5b495200e9936d",
            "_dom_classes": [],
            "description": "100%",
            "_model_name": "FloatProgressModel",
            "bar_style": "success",
            "max": 501,
            "_view_module": "@jupyter-widgets/controls",
            "_model_module_version": "1.5.0",
            "value": 501,
            "_view_count": null,
            "_view_module_version": "1.5.0",
            "orientation": "horizontal",
            "min": 0,
            "description_tooltip": null,
            "_model_module": "@jupyter-widgets/controls",
            "layout": "IPY_MODEL_ecbb9501d2a34ec1b9a5d2232af66c10"
          }
        },
        "8f2910ad22364a35881d0ad86dc47985": {
          "model_module": "@jupyter-widgets/controls",
          "model_name": "HTMLModel",
          "state": {
            "_view_name": "HTMLView",
            "style": "IPY_MODEL_282ded4cb8394041b8b2193fcc91f5ff",
            "_dom_classes": [],
            "description": "",
            "_model_name": "HTMLModel",
            "placeholder": "​",
            "_view_module": "@jupyter-widgets/controls",
            "_model_module_version": "1.5.0",
            "value": " 501/501 [00:31&lt;00:00, 16.15ex/s]",
            "_view_count": null,
            "_view_module_version": "1.5.0",
            "description_tooltip": null,
            "_model_module": "@jupyter-widgets/controls",
            "layout": "IPY_MODEL_5777e2cdd7784e438cbe12a5744fa1bd"
          }
        },
        "1ca87157ac584beeaa5b495200e9936d": {
          "model_module": "@jupyter-widgets/controls",
          "model_name": "ProgressStyleModel",
          "state": {
            "_view_name": "StyleView",
            "_model_name": "ProgressStyleModel",
            "description_width": "initial",
            "_view_module": "@jupyter-widgets/base",
            "_model_module_version": "1.5.0",
            "_view_count": null,
            "_view_module_version": "1.2.0",
            "bar_color": null,
            "_model_module": "@jupyter-widgets/controls"
          }
        },
        "ecbb9501d2a34ec1b9a5d2232af66c10": {
          "model_module": "@jupyter-widgets/base",
          "model_name": "LayoutModel",
          "state": {
            "_view_name": "LayoutView",
            "grid_template_rows": null,
            "right": null,
            "justify_content": null,
            "_view_module": "@jupyter-widgets/base",
            "overflow": null,
            "_model_module_version": "1.2.0",
            "_view_count": null,
            "flex_flow": null,
            "width": null,
            "min_width": null,
            "border": null,
            "align_items": null,
            "bottom": null,
            "_model_module": "@jupyter-widgets/base",
            "top": null,
            "grid_column": null,
            "overflow_y": null,
            "overflow_x": null,
            "grid_auto_flow": null,
            "grid_area": null,
            "grid_template_columns": null,
            "flex": null,
            "_model_name": "LayoutModel",
            "justify_items": null,
            "grid_row": null,
            "max_height": null,
            "align_content": null,
            "visibility": null,
            "align_self": null,
            "height": null,
            "min_height": null,
            "padding": null,
            "grid_auto_rows": null,
            "grid_gap": null,
            "max_width": null,
            "order": null,
            "_view_module_version": "1.2.0",
            "grid_template_areas": null,
            "object_position": null,
            "object_fit": null,
            "grid_auto_columns": null,
            "margin": null,
            "display": null,
            "left": null
          }
        },
        "282ded4cb8394041b8b2193fcc91f5ff": {
          "model_module": "@jupyter-widgets/controls",
          "model_name": "DescriptionStyleModel",
          "state": {
            "_view_name": "StyleView",
            "_model_name": "DescriptionStyleModel",
            "description_width": "",
            "_view_module": "@jupyter-widgets/base",
            "_model_module_version": "1.5.0",
            "_view_count": null,
            "_view_module_version": "1.2.0",
            "_model_module": "@jupyter-widgets/controls"
          }
        },
        "5777e2cdd7784e438cbe12a5744fa1bd": {
          "model_module": "@jupyter-widgets/base",
          "model_name": "LayoutModel",
          "state": {
            "_view_name": "LayoutView",
            "grid_template_rows": null,
            "right": null,
            "justify_content": null,
            "_view_module": "@jupyter-widgets/base",
            "overflow": null,
            "_model_module_version": "1.2.0",
            "_view_count": null,
            "flex_flow": null,
            "width": null,
            "min_width": null,
            "border": null,
            "align_items": null,
            "bottom": null,
            "_model_module": "@jupyter-widgets/base",
            "top": null,
            "grid_column": null,
            "overflow_y": null,
            "overflow_x": null,
            "grid_auto_flow": null,
            "grid_area": null,
            "grid_template_columns": null,
            "flex": null,
            "_model_name": "LayoutModel",
            "justify_items": null,
            "grid_row": null,
            "max_height": null,
            "align_content": null,
            "visibility": null,
            "align_self": null,
            "height": null,
            "min_height": null,
            "padding": null,
            "grid_auto_rows": null,
            "grid_gap": null,
            "max_width": null,
            "order": null,
            "_view_module_version": "1.2.0",
            "grid_template_areas": null,
            "object_position": null,
            "object_fit": null,
            "grid_auto_columns": null,
            "margin": null,
            "display": null,
            "left": null
          }
        },
        "854a9ebb32734dac9af99f3cc4d03d22": {
          "model_module": "@jupyter-widgets/controls",
          "model_name": "HBoxModel",
          "state": {
            "_view_name": "HBoxView",
            "_dom_classes": [],
            "_model_name": "HBoxModel",
            "_view_module": "@jupyter-widgets/controls",
            "_model_module_version": "1.5.0",
            "_view_count": null,
            "_view_module_version": "1.5.0",
            "box_style": "",
            "layout": "IPY_MODEL_7580a708c2eb43f68b79a52c18889a65",
            "_model_module": "@jupyter-widgets/controls",
            "children": [
              "IPY_MODEL_f04814e383bb4ec9b911dfac10f4d680",
              "IPY_MODEL_4a3ab1e1a5d841b1b2b65923d1f45f4c"
            ]
          }
        },
        "7580a708c2eb43f68b79a52c18889a65": {
          "model_module": "@jupyter-widgets/base",
          "model_name": "LayoutModel",
          "state": {
            "_view_name": "LayoutView",
            "grid_template_rows": null,
            "right": null,
            "justify_content": null,
            "_view_module": "@jupyter-widgets/base",
            "overflow": null,
            "_model_module_version": "1.2.0",
            "_view_count": null,
            "flex_flow": null,
            "width": null,
            "min_width": null,
            "border": null,
            "align_items": null,
            "bottom": null,
            "_model_module": "@jupyter-widgets/base",
            "top": null,
            "grid_column": null,
            "overflow_y": null,
            "overflow_x": null,
            "grid_auto_flow": null,
            "grid_area": null,
            "grid_template_columns": null,
            "flex": null,
            "_model_name": "LayoutModel",
            "justify_items": null,
            "grid_row": null,
            "max_height": null,
            "align_content": null,
            "visibility": null,
            "align_self": null,
            "height": null,
            "min_height": null,
            "padding": null,
            "grid_auto_rows": null,
            "grid_gap": null,
            "max_width": null,
            "order": null,
            "_view_module_version": "1.2.0",
            "grid_template_areas": null,
            "object_position": null,
            "object_fit": null,
            "grid_auto_columns": null,
            "margin": null,
            "display": null,
            "left": null
          }
        },
        "f04814e383bb4ec9b911dfac10f4d680": {
          "model_module": "@jupyter-widgets/controls",
          "model_name": "FloatProgressModel",
          "state": {
            "_view_name": "ProgressView",
            "style": "IPY_MODEL_1c3b52d7d08b4c4c89a427e51423fbe0",
            "_dom_classes": [],
            "description": "100%",
            "_model_name": "FloatProgressModel",
            "bar_style": "success",
            "max": 1,
            "_view_module": "@jupyter-widgets/controls",
            "_model_module_version": "1.5.0",
            "value": 1,
            "_view_count": null,
            "_view_module_version": "1.5.0",
            "orientation": "horizontal",
            "min": 0,
            "description_tooltip": null,
            "_model_module": "@jupyter-widgets/controls",
            "layout": "IPY_MODEL_28f24a01e181414ca04c55822f3569e3"
          }
        },
        "4a3ab1e1a5d841b1b2b65923d1f45f4c": {
          "model_module": "@jupyter-widgets/controls",
          "model_name": "HTMLModel",
          "state": {
            "_view_name": "HTMLView",
            "style": "IPY_MODEL_d9eccdc0ebf549b8ac1e0ee9bf641c85",
            "_dom_classes": [],
            "description": "",
            "_model_name": "HTMLModel",
            "placeholder": "​",
            "_view_module": "@jupyter-widgets/controls",
            "_model_module_version": "1.5.0",
            "value": " 1/1 [00:00&lt;00:00, 12.71ba/s]",
            "_view_count": null,
            "_view_module_version": "1.5.0",
            "description_tooltip": null,
            "_model_module": "@jupyter-widgets/controls",
            "layout": "IPY_MODEL_334c7f6cb7b64615ad8ae4bb712a55df"
          }
        },
        "1c3b52d7d08b4c4c89a427e51423fbe0": {
          "model_module": "@jupyter-widgets/controls",
          "model_name": "ProgressStyleModel",
          "state": {
            "_view_name": "StyleView",
            "_model_name": "ProgressStyleModel",
            "description_width": "initial",
            "_view_module": "@jupyter-widgets/base",
            "_model_module_version": "1.5.0",
            "_view_count": null,
            "_view_module_version": "1.2.0",
            "bar_color": null,
            "_model_module": "@jupyter-widgets/controls"
          }
        },
        "28f24a01e181414ca04c55822f3569e3": {
          "model_module": "@jupyter-widgets/base",
          "model_name": "LayoutModel",
          "state": {
            "_view_name": "LayoutView",
            "grid_template_rows": null,
            "right": null,
            "justify_content": null,
            "_view_module": "@jupyter-widgets/base",
            "overflow": null,
            "_model_module_version": "1.2.0",
            "_view_count": null,
            "flex_flow": null,
            "width": null,
            "min_width": null,
            "border": null,
            "align_items": null,
            "bottom": null,
            "_model_module": "@jupyter-widgets/base",
            "top": null,
            "grid_column": null,
            "overflow_y": null,
            "overflow_x": null,
            "grid_auto_flow": null,
            "grid_area": null,
            "grid_template_columns": null,
            "flex": null,
            "_model_name": "LayoutModel",
            "justify_items": null,
            "grid_row": null,
            "max_height": null,
            "align_content": null,
            "visibility": null,
            "align_self": null,
            "height": null,
            "min_height": null,
            "padding": null,
            "grid_auto_rows": null,
            "grid_gap": null,
            "max_width": null,
            "order": null,
            "_view_module_version": "1.2.0",
            "grid_template_areas": null,
            "object_position": null,
            "object_fit": null,
            "grid_auto_columns": null,
            "margin": null,
            "display": null,
            "left": null
          }
        },
        "d9eccdc0ebf549b8ac1e0ee9bf641c85": {
          "model_module": "@jupyter-widgets/controls",
          "model_name": "DescriptionStyleModel",
          "state": {
            "_view_name": "StyleView",
            "_model_name": "DescriptionStyleModel",
            "description_width": "",
            "_view_module": "@jupyter-widgets/base",
            "_model_module_version": "1.5.0",
            "_view_count": null,
            "_view_module_version": "1.2.0",
            "_model_module": "@jupyter-widgets/controls"
          }
        },
        "334c7f6cb7b64615ad8ae4bb712a55df": {
          "model_module": "@jupyter-widgets/base",
          "model_name": "LayoutModel",
          "state": {
            "_view_name": "LayoutView",
            "grid_template_rows": null,
            "right": null,
            "justify_content": null,
            "_view_module": "@jupyter-widgets/base",
            "overflow": null,
            "_model_module_version": "1.2.0",
            "_view_count": null,
            "flex_flow": null,
            "width": null,
            "min_width": null,
            "border": null,
            "align_items": null,
            "bottom": null,
            "_model_module": "@jupyter-widgets/base",
            "top": null,
            "grid_column": null,
            "overflow_y": null,
            "overflow_x": null,
            "grid_auto_flow": null,
            "grid_area": null,
            "grid_template_columns": null,
            "flex": null,
            "_model_name": "LayoutModel",
            "justify_items": null,
            "grid_row": null,
            "max_height": null,
            "align_content": null,
            "visibility": null,
            "align_self": null,
            "height": null,
            "min_height": null,
            "padding": null,
            "grid_auto_rows": null,
            "grid_gap": null,
            "max_width": null,
            "order": null,
            "_view_module_version": "1.2.0",
            "grid_template_areas": null,
            "object_position": null,
            "object_fit": null,
            "grid_auto_columns": null,
            "margin": null,
            "display": null,
            "left": null
          }
        },
        "c30898ba2ba54fd58097aadeaf080459": {
          "model_module": "@jupyter-widgets/controls",
          "model_name": "HBoxModel",
          "state": {
            "_view_name": "HBoxView",
            "_dom_classes": [],
            "_model_name": "HBoxModel",
            "_view_module": "@jupyter-widgets/controls",
            "_model_module_version": "1.5.0",
            "_view_count": null,
            "_view_module_version": "1.5.0",
            "box_style": "",
            "layout": "IPY_MODEL_319cbffecdee4045806c038fe34e33e7",
            "_model_module": "@jupyter-widgets/controls",
            "children": [
              "IPY_MODEL_c7a46c2e6e354eb1a19aae8beb08939d",
              "IPY_MODEL_d6cbbfb49217498f9cf776892f994df2"
            ]
          }
        },
        "319cbffecdee4045806c038fe34e33e7": {
          "model_module": "@jupyter-widgets/base",
          "model_name": "LayoutModel",
          "state": {
            "_view_name": "LayoutView",
            "grid_template_rows": null,
            "right": null,
            "justify_content": null,
            "_view_module": "@jupyter-widgets/base",
            "overflow": null,
            "_model_module_version": "1.2.0",
            "_view_count": null,
            "flex_flow": null,
            "width": null,
            "min_width": null,
            "border": null,
            "align_items": null,
            "bottom": null,
            "_model_module": "@jupyter-widgets/base",
            "top": null,
            "grid_column": null,
            "overflow_y": null,
            "overflow_x": null,
            "grid_auto_flow": null,
            "grid_area": null,
            "grid_template_columns": null,
            "flex": null,
            "_model_name": "LayoutModel",
            "justify_items": null,
            "grid_row": null,
            "max_height": null,
            "align_content": null,
            "visibility": null,
            "align_self": null,
            "height": null,
            "min_height": null,
            "padding": null,
            "grid_auto_rows": null,
            "grid_gap": null,
            "max_width": null,
            "order": null,
            "_view_module_version": "1.2.0",
            "grid_template_areas": null,
            "object_position": null,
            "object_fit": null,
            "grid_auto_columns": null,
            "margin": null,
            "display": null,
            "left": null
          }
        },
        "c7a46c2e6e354eb1a19aae8beb08939d": {
          "model_module": "@jupyter-widgets/controls",
          "model_name": "FloatProgressModel",
          "state": {
            "_view_name": "ProgressView",
            "style": "IPY_MODEL_710deab2a72048e5afbeb2e9cf747d3b",
            "_dom_classes": [],
            "description": "100%",
            "_model_name": "FloatProgressModel",
            "bar_style": "success",
            "max": 1,
            "_view_module": "@jupyter-widgets/controls",
            "_model_module_version": "1.5.0",
            "value": 1,
            "_view_count": null,
            "_view_module_version": "1.5.0",
            "orientation": "horizontal",
            "min": 0,
            "description_tooltip": null,
            "_model_module": "@jupyter-widgets/controls",
            "layout": "IPY_MODEL_37d2f05cd1454980ba61bd97dec9e643"
          }
        },
        "d6cbbfb49217498f9cf776892f994df2": {
          "model_module": "@jupyter-widgets/controls",
          "model_name": "HTMLModel",
          "state": {
            "_view_name": "HTMLView",
            "style": "IPY_MODEL_3459386f4661469ca9e1e31af8b87e3f",
            "_dom_classes": [],
            "description": "",
            "_model_name": "HTMLModel",
            "placeholder": "​",
            "_view_module": "@jupyter-widgets/controls",
            "_model_module_version": "1.5.0",
            "value": " 1/1 [00:22&lt;00:00, 22.37s/ba]",
            "_view_count": null,
            "_view_module_version": "1.5.0",
            "description_tooltip": null,
            "_model_module": "@jupyter-widgets/controls",
            "layout": "IPY_MODEL_43d3f6317a5c4d97b57185dc8bfaa542"
          }
        },
        "710deab2a72048e5afbeb2e9cf747d3b": {
          "model_module": "@jupyter-widgets/controls",
          "model_name": "ProgressStyleModel",
          "state": {
            "_view_name": "StyleView",
            "_model_name": "ProgressStyleModel",
            "description_width": "initial",
            "_view_module": "@jupyter-widgets/base",
            "_model_module_version": "1.5.0",
            "_view_count": null,
            "_view_module_version": "1.2.0",
            "bar_color": null,
            "_model_module": "@jupyter-widgets/controls"
          }
        },
        "37d2f05cd1454980ba61bd97dec9e643": {
          "model_module": "@jupyter-widgets/base",
          "model_name": "LayoutModel",
          "state": {
            "_view_name": "LayoutView",
            "grid_template_rows": null,
            "right": null,
            "justify_content": null,
            "_view_module": "@jupyter-widgets/base",
            "overflow": null,
            "_model_module_version": "1.2.0",
            "_view_count": null,
            "flex_flow": null,
            "width": null,
            "min_width": null,
            "border": null,
            "align_items": null,
            "bottom": null,
            "_model_module": "@jupyter-widgets/base",
            "top": null,
            "grid_column": null,
            "overflow_y": null,
            "overflow_x": null,
            "grid_auto_flow": null,
            "grid_area": null,
            "grid_template_columns": null,
            "flex": null,
            "_model_name": "LayoutModel",
            "justify_items": null,
            "grid_row": null,
            "max_height": null,
            "align_content": null,
            "visibility": null,
            "align_self": null,
            "height": null,
            "min_height": null,
            "padding": null,
            "grid_auto_rows": null,
            "grid_gap": null,
            "max_width": null,
            "order": null,
            "_view_module_version": "1.2.0",
            "grid_template_areas": null,
            "object_position": null,
            "object_fit": null,
            "grid_auto_columns": null,
            "margin": null,
            "display": null,
            "left": null
          }
        },
        "3459386f4661469ca9e1e31af8b87e3f": {
          "model_module": "@jupyter-widgets/controls",
          "model_name": "DescriptionStyleModel",
          "state": {
            "_view_name": "StyleView",
            "_model_name": "DescriptionStyleModel",
            "description_width": "",
            "_view_module": "@jupyter-widgets/base",
            "_model_module_version": "1.5.0",
            "_view_count": null,
            "_view_module_version": "1.2.0",
            "_model_module": "@jupyter-widgets/controls"
          }
        },
        "43d3f6317a5c4d97b57185dc8bfaa542": {
          "model_module": "@jupyter-widgets/base",
          "model_name": "LayoutModel",
          "state": {
            "_view_name": "LayoutView",
            "grid_template_rows": null,
            "right": null,
            "justify_content": null,
            "_view_module": "@jupyter-widgets/base",
            "overflow": null,
            "_model_module_version": "1.2.0",
            "_view_count": null,
            "flex_flow": null,
            "width": null,
            "min_width": null,
            "border": null,
            "align_items": null,
            "bottom": null,
            "_model_module": "@jupyter-widgets/base",
            "top": null,
            "grid_column": null,
            "overflow_y": null,
            "overflow_x": null,
            "grid_auto_flow": null,
            "grid_area": null,
            "grid_template_columns": null,
            "flex": null,
            "_model_name": "LayoutModel",
            "justify_items": null,
            "grid_row": null,
            "max_height": null,
            "align_content": null,
            "visibility": null,
            "align_self": null,
            "height": null,
            "min_height": null,
            "padding": null,
            "grid_auto_rows": null,
            "grid_gap": null,
            "max_width": null,
            "order": null,
            "_view_module_version": "1.2.0",
            "grid_template_areas": null,
            "object_position": null,
            "object_fit": null,
            "grid_auto_columns": null,
            "margin": null,
            "display": null,
            "left": null
          }
        },
        "37bd8a2c4cd54e24a9223d425abbe975": {
          "model_module": "@jupyter-widgets/controls",
          "model_name": "HBoxModel",
          "state": {
            "_view_name": "HBoxView",
            "_dom_classes": [],
            "_model_name": "HBoxModel",
            "_view_module": "@jupyter-widgets/controls",
            "_model_module_version": "1.5.0",
            "_view_count": null,
            "_view_module_version": "1.5.0",
            "box_style": "",
            "layout": "IPY_MODEL_702afb9d58f84858a89acc043ea76efc",
            "_model_module": "@jupyter-widgets/controls",
            "children": [
              "IPY_MODEL_59cec870ad6f4280a22bbb2be03c354c",
              "IPY_MODEL_cc293d27bdd44360a76ff805e052de00"
            ]
          }
        },
        "702afb9d58f84858a89acc043ea76efc": {
          "model_module": "@jupyter-widgets/base",
          "model_name": "LayoutModel",
          "state": {
            "_view_name": "LayoutView",
            "grid_template_rows": null,
            "right": null,
            "justify_content": null,
            "_view_module": "@jupyter-widgets/base",
            "overflow": null,
            "_model_module_version": "1.2.0",
            "_view_count": null,
            "flex_flow": null,
            "width": null,
            "min_width": null,
            "border": null,
            "align_items": null,
            "bottom": null,
            "_model_module": "@jupyter-widgets/base",
            "top": null,
            "grid_column": null,
            "overflow_y": null,
            "overflow_x": null,
            "grid_auto_flow": null,
            "grid_area": null,
            "grid_template_columns": null,
            "flex": null,
            "_model_name": "LayoutModel",
            "justify_items": null,
            "grid_row": null,
            "max_height": null,
            "align_content": null,
            "visibility": null,
            "align_self": null,
            "height": null,
            "min_height": null,
            "padding": null,
            "grid_auto_rows": null,
            "grid_gap": null,
            "max_width": null,
            "order": null,
            "_view_module_version": "1.2.0",
            "grid_template_areas": null,
            "object_position": null,
            "object_fit": null,
            "grid_auto_columns": null,
            "margin": null,
            "display": null,
            "left": null
          }
        },
        "59cec870ad6f4280a22bbb2be03c354c": {
          "model_module": "@jupyter-widgets/controls",
          "model_name": "FloatProgressModel",
          "state": {
            "_view_name": "ProgressView",
            "style": "IPY_MODEL_c434a7565c88465bb014e7ba450f2ab4",
            "_dom_classes": [],
            "description": "#1: 100%",
            "_model_name": "FloatProgressModel",
            "bar_style": "success",
            "max": 1125,
            "_view_module": "@jupyter-widgets/controls",
            "_model_module_version": "1.5.0",
            "value": 1125,
            "_view_count": null,
            "_view_module_version": "1.5.0",
            "orientation": "horizontal",
            "min": 0,
            "description_tooltip": null,
            "_model_module": "@jupyter-widgets/controls",
            "layout": "IPY_MODEL_a3dfbb59ac5c4e388c286e55f73a4fc9"
          }
        },
        "cc293d27bdd44360a76ff805e052de00": {
          "model_module": "@jupyter-widgets/controls",
          "model_name": "HTMLModel",
          "state": {
            "_view_name": "HTMLView",
            "style": "IPY_MODEL_337dd1fa8f5145bc80267fd418b230c5",
            "_dom_classes": [],
            "description": "",
            "_model_name": "HTMLModel",
            "placeholder": "​",
            "_view_module": "@jupyter-widgets/controls",
            "_model_module_version": "1.5.0",
            "value": " 1125/1125 [06:57&lt;00:00,  2.69ex/s]",
            "_view_count": null,
            "_view_module_version": "1.5.0",
            "description_tooltip": null,
            "_model_module": "@jupyter-widgets/controls",
            "layout": "IPY_MODEL_164b94cde38c4d2b8b40347500d66cb0"
          }
        },
        "c434a7565c88465bb014e7ba450f2ab4": {
          "model_module": "@jupyter-widgets/controls",
          "model_name": "ProgressStyleModel",
          "state": {
            "_view_name": "StyleView",
            "_model_name": "ProgressStyleModel",
            "description_width": "initial",
            "_view_module": "@jupyter-widgets/base",
            "_model_module_version": "1.5.0",
            "_view_count": null,
            "_view_module_version": "1.2.0",
            "bar_color": null,
            "_model_module": "@jupyter-widgets/controls"
          }
        },
        "a3dfbb59ac5c4e388c286e55f73a4fc9": {
          "model_module": "@jupyter-widgets/base",
          "model_name": "LayoutModel",
          "state": {
            "_view_name": "LayoutView",
            "grid_template_rows": null,
            "right": null,
            "justify_content": null,
            "_view_module": "@jupyter-widgets/base",
            "overflow": null,
            "_model_module_version": "1.2.0",
            "_view_count": null,
            "flex_flow": null,
            "width": null,
            "min_width": null,
            "border": null,
            "align_items": null,
            "bottom": null,
            "_model_module": "@jupyter-widgets/base",
            "top": null,
            "grid_column": null,
            "overflow_y": null,
            "overflow_x": null,
            "grid_auto_flow": null,
            "grid_area": null,
            "grid_template_columns": null,
            "flex": null,
            "_model_name": "LayoutModel",
            "justify_items": null,
            "grid_row": null,
            "max_height": null,
            "align_content": null,
            "visibility": null,
            "align_self": null,
            "height": null,
            "min_height": null,
            "padding": null,
            "grid_auto_rows": null,
            "grid_gap": null,
            "max_width": null,
            "order": null,
            "_view_module_version": "1.2.0",
            "grid_template_areas": null,
            "object_position": null,
            "object_fit": null,
            "grid_auto_columns": null,
            "margin": null,
            "display": null,
            "left": null
          }
        },
        "337dd1fa8f5145bc80267fd418b230c5": {
          "model_module": "@jupyter-widgets/controls",
          "model_name": "DescriptionStyleModel",
          "state": {
            "_view_name": "StyleView",
            "_model_name": "DescriptionStyleModel",
            "description_width": "",
            "_view_module": "@jupyter-widgets/base",
            "_model_module_version": "1.5.0",
            "_view_count": null,
            "_view_module_version": "1.2.0",
            "_model_module": "@jupyter-widgets/controls"
          }
        },
        "164b94cde38c4d2b8b40347500d66cb0": {
          "model_module": "@jupyter-widgets/base",
          "model_name": "LayoutModel",
          "state": {
            "_view_name": "LayoutView",
            "grid_template_rows": null,
            "right": null,
            "justify_content": null,
            "_view_module": "@jupyter-widgets/base",
            "overflow": null,
            "_model_module_version": "1.2.0",
            "_view_count": null,
            "flex_flow": null,
            "width": null,
            "min_width": null,
            "border": null,
            "align_items": null,
            "bottom": null,
            "_model_module": "@jupyter-widgets/base",
            "top": null,
            "grid_column": null,
            "overflow_y": null,
            "overflow_x": null,
            "grid_auto_flow": null,
            "grid_area": null,
            "grid_template_columns": null,
            "flex": null,
            "_model_name": "LayoutModel",
            "justify_items": null,
            "grid_row": null,
            "max_height": null,
            "align_content": null,
            "visibility": null,
            "align_self": null,
            "height": null,
            "min_height": null,
            "padding": null,
            "grid_auto_rows": null,
            "grid_gap": null,
            "max_width": null,
            "order": null,
            "_view_module_version": "1.2.0",
            "grid_template_areas": null,
            "object_position": null,
            "object_fit": null,
            "grid_auto_columns": null,
            "margin": null,
            "display": null,
            "left": null
          }
        },
        "3b738d35c09c444ea296eaa0e7b92fc6": {
          "model_module": "@jupyter-widgets/controls",
          "model_name": "HBoxModel",
          "state": {
            "_view_name": "HBoxView",
            "_dom_classes": [],
            "_model_name": "HBoxModel",
            "_view_module": "@jupyter-widgets/controls",
            "_model_module_version": "1.5.0",
            "_view_count": null,
            "_view_module_version": "1.5.0",
            "box_style": "",
            "layout": "IPY_MODEL_eff0e15677824c4da41e516f5f7111ae",
            "_model_module": "@jupyter-widgets/controls",
            "children": [
              "IPY_MODEL_7c965595fa9c4aaaaab91523f2aa85ac",
              "IPY_MODEL_5be8b106eba34e2195de57877787c506"
            ]
          }
        },
        "eff0e15677824c4da41e516f5f7111ae": {
          "model_module": "@jupyter-widgets/base",
          "model_name": "LayoutModel",
          "state": {
            "_view_name": "LayoutView",
            "grid_template_rows": null,
            "right": null,
            "justify_content": null,
            "_view_module": "@jupyter-widgets/base",
            "overflow": null,
            "_model_module_version": "1.2.0",
            "_view_count": null,
            "flex_flow": null,
            "width": null,
            "min_width": null,
            "border": null,
            "align_items": null,
            "bottom": null,
            "_model_module": "@jupyter-widgets/base",
            "top": null,
            "grid_column": null,
            "overflow_y": null,
            "overflow_x": null,
            "grid_auto_flow": null,
            "grid_area": null,
            "grid_template_columns": null,
            "flex": null,
            "_model_name": "LayoutModel",
            "justify_items": null,
            "grid_row": null,
            "max_height": null,
            "align_content": null,
            "visibility": null,
            "align_self": null,
            "height": null,
            "min_height": null,
            "padding": null,
            "grid_auto_rows": null,
            "grid_gap": null,
            "max_width": null,
            "order": null,
            "_view_module_version": "1.2.0",
            "grid_template_areas": null,
            "object_position": null,
            "object_fit": null,
            "grid_auto_columns": null,
            "margin": null,
            "display": null,
            "left": null
          }
        },
        "7c965595fa9c4aaaaab91523f2aa85ac": {
          "model_module": "@jupyter-widgets/controls",
          "model_name": "FloatProgressModel",
          "state": {
            "_view_name": "ProgressView",
            "style": "IPY_MODEL_2118d88727c64ec3ae662dbca78ba9e2",
            "_dom_classes": [],
            "description": "#0: 100%",
            "_model_name": "FloatProgressModel",
            "bar_style": "success",
            "max": 1125,
            "_view_module": "@jupyter-widgets/controls",
            "_model_module_version": "1.5.0",
            "value": 1125,
            "_view_count": null,
            "_view_module_version": "1.5.0",
            "orientation": "horizontal",
            "min": 0,
            "description_tooltip": null,
            "_model_module": "@jupyter-widgets/controls",
            "layout": "IPY_MODEL_d33cd2ba753c498da912895b19c4515e"
          }
        },
        "5be8b106eba34e2195de57877787c506": {
          "model_module": "@jupyter-widgets/controls",
          "model_name": "HTMLModel",
          "state": {
            "_view_name": "HTMLView",
            "style": "IPY_MODEL_b49ed7ae25da4d47b2578a0ec092d340",
            "_dom_classes": [],
            "description": "",
            "_model_name": "HTMLModel",
            "placeholder": "​",
            "_view_module": "@jupyter-widgets/controls",
            "_model_module_version": "1.5.0",
            "value": " 1125/1125 [07:05&lt;00:00,  2.64ex/s]",
            "_view_count": null,
            "_view_module_version": "1.5.0",
            "description_tooltip": null,
            "_model_module": "@jupyter-widgets/controls",
            "layout": "IPY_MODEL_9ab95f588b934cc1b54ae01ae6122f3e"
          }
        },
        "2118d88727c64ec3ae662dbca78ba9e2": {
          "model_module": "@jupyter-widgets/controls",
          "model_name": "ProgressStyleModel",
          "state": {
            "_view_name": "StyleView",
            "_model_name": "ProgressStyleModel",
            "description_width": "initial",
            "_view_module": "@jupyter-widgets/base",
            "_model_module_version": "1.5.0",
            "_view_count": null,
            "_view_module_version": "1.2.0",
            "bar_color": null,
            "_model_module": "@jupyter-widgets/controls"
          }
        },
        "d33cd2ba753c498da912895b19c4515e": {
          "model_module": "@jupyter-widgets/base",
          "model_name": "LayoutModel",
          "state": {
            "_view_name": "LayoutView",
            "grid_template_rows": null,
            "right": null,
            "justify_content": null,
            "_view_module": "@jupyter-widgets/base",
            "overflow": null,
            "_model_module_version": "1.2.0",
            "_view_count": null,
            "flex_flow": null,
            "width": null,
            "min_width": null,
            "border": null,
            "align_items": null,
            "bottom": null,
            "_model_module": "@jupyter-widgets/base",
            "top": null,
            "grid_column": null,
            "overflow_y": null,
            "overflow_x": null,
            "grid_auto_flow": null,
            "grid_area": null,
            "grid_template_columns": null,
            "flex": null,
            "_model_name": "LayoutModel",
            "justify_items": null,
            "grid_row": null,
            "max_height": null,
            "align_content": null,
            "visibility": null,
            "align_self": null,
            "height": null,
            "min_height": null,
            "padding": null,
            "grid_auto_rows": null,
            "grid_gap": null,
            "max_width": null,
            "order": null,
            "_view_module_version": "1.2.0",
            "grid_template_areas": null,
            "object_position": null,
            "object_fit": null,
            "grid_auto_columns": null,
            "margin": null,
            "display": null,
            "left": null
          }
        },
        "b49ed7ae25da4d47b2578a0ec092d340": {
          "model_module": "@jupyter-widgets/controls",
          "model_name": "DescriptionStyleModel",
          "state": {
            "_view_name": "StyleView",
            "_model_name": "DescriptionStyleModel",
            "description_width": "",
            "_view_module": "@jupyter-widgets/base",
            "_model_module_version": "1.5.0",
            "_view_count": null,
            "_view_module_version": "1.2.0",
            "_model_module": "@jupyter-widgets/controls"
          }
        },
        "9ab95f588b934cc1b54ae01ae6122f3e": {
          "model_module": "@jupyter-widgets/base",
          "model_name": "LayoutModel",
          "state": {
            "_view_name": "LayoutView",
            "grid_template_rows": null,
            "right": null,
            "justify_content": null,
            "_view_module": "@jupyter-widgets/base",
            "overflow": null,
            "_model_module_version": "1.2.0",
            "_view_count": null,
            "flex_flow": null,
            "width": null,
            "min_width": null,
            "border": null,
            "align_items": null,
            "bottom": null,
            "_model_module": "@jupyter-widgets/base",
            "top": null,
            "grid_column": null,
            "overflow_y": null,
            "overflow_x": null,
            "grid_auto_flow": null,
            "grid_area": null,
            "grid_template_columns": null,
            "flex": null,
            "_model_name": "LayoutModel",
            "justify_items": null,
            "grid_row": null,
            "max_height": null,
            "align_content": null,
            "visibility": null,
            "align_self": null,
            "height": null,
            "min_height": null,
            "padding": null,
            "grid_auto_rows": null,
            "grid_gap": null,
            "max_width": null,
            "order": null,
            "_view_module_version": "1.2.0",
            "grid_template_areas": null,
            "object_position": null,
            "object_fit": null,
            "grid_auto_columns": null,
            "margin": null,
            "display": null,
            "left": null
          }
        },
        "ad285773f778421f882e9fb480ed92cc": {
          "model_module": "@jupyter-widgets/controls",
          "model_name": "HBoxModel",
          "state": {
            "_view_name": "HBoxView",
            "_dom_classes": [],
            "_model_name": "HBoxModel",
            "_view_module": "@jupyter-widgets/controls",
            "_model_module_version": "1.5.0",
            "_view_count": null,
            "_view_module_version": "1.5.0",
            "box_style": "",
            "layout": "IPY_MODEL_113472cd232c4121b1f8a40ae89d0eb0",
            "_model_module": "@jupyter-widgets/controls",
            "children": [
              "IPY_MODEL_7039bed05be84d86932e8144decc8a86",
              "IPY_MODEL_ded011090ac2451d95bacf883aef36fa"
            ]
          }
        },
        "113472cd232c4121b1f8a40ae89d0eb0": {
          "model_module": "@jupyter-widgets/base",
          "model_name": "LayoutModel",
          "state": {
            "_view_name": "LayoutView",
            "grid_template_rows": null,
            "right": null,
            "justify_content": null,
            "_view_module": "@jupyter-widgets/base",
            "overflow": null,
            "_model_module_version": "1.2.0",
            "_view_count": null,
            "flex_flow": null,
            "width": null,
            "min_width": null,
            "border": null,
            "align_items": null,
            "bottom": null,
            "_model_module": "@jupyter-widgets/base",
            "top": null,
            "grid_column": null,
            "overflow_y": null,
            "overflow_x": null,
            "grid_auto_flow": null,
            "grid_area": null,
            "grid_template_columns": null,
            "flex": null,
            "_model_name": "LayoutModel",
            "justify_items": null,
            "grid_row": null,
            "max_height": null,
            "align_content": null,
            "visibility": null,
            "align_self": null,
            "height": null,
            "min_height": null,
            "padding": null,
            "grid_auto_rows": null,
            "grid_gap": null,
            "max_width": null,
            "order": null,
            "_view_module_version": "1.2.0",
            "grid_template_areas": null,
            "object_position": null,
            "object_fit": null,
            "grid_auto_columns": null,
            "margin": null,
            "display": null,
            "left": null
          }
        },
        "7039bed05be84d86932e8144decc8a86": {
          "model_module": "@jupyter-widgets/controls",
          "model_name": "FloatProgressModel",
          "state": {
            "_view_name": "ProgressView",
            "style": "IPY_MODEL_268d1729b79f485daacb6dcee2f13afd",
            "_dom_classes": [],
            "description": "#2: 100%",
            "_model_name": "FloatProgressModel",
            "bar_style": "success",
            "max": 1125,
            "_view_module": "@jupyter-widgets/controls",
            "_model_module_version": "1.5.0",
            "value": 1125,
            "_view_count": null,
            "_view_module_version": "1.5.0",
            "orientation": "horizontal",
            "min": 0,
            "description_tooltip": null,
            "_model_module": "@jupyter-widgets/controls",
            "layout": "IPY_MODEL_237aa96ab06545b9a1d7e46325414dab"
          }
        },
        "ded011090ac2451d95bacf883aef36fa": {
          "model_module": "@jupyter-widgets/controls",
          "model_name": "HTMLModel",
          "state": {
            "_view_name": "HTMLView",
            "style": "IPY_MODEL_89aa3909b8714513a4fde7ba278bc2e7",
            "_dom_classes": [],
            "description": "",
            "_model_name": "HTMLModel",
            "placeholder": "​",
            "_view_module": "@jupyter-widgets/controls",
            "_model_module_version": "1.5.0",
            "value": " 1125/1125 [06:59&lt;00:00,  2.68ex/s]",
            "_view_count": null,
            "_view_module_version": "1.5.0",
            "description_tooltip": null,
            "_model_module": "@jupyter-widgets/controls",
            "layout": "IPY_MODEL_257de9624f1649d4adcc84540bc719f2"
          }
        },
        "268d1729b79f485daacb6dcee2f13afd": {
          "model_module": "@jupyter-widgets/controls",
          "model_name": "ProgressStyleModel",
          "state": {
            "_view_name": "StyleView",
            "_model_name": "ProgressStyleModel",
            "description_width": "initial",
            "_view_module": "@jupyter-widgets/base",
            "_model_module_version": "1.5.0",
            "_view_count": null,
            "_view_module_version": "1.2.0",
            "bar_color": null,
            "_model_module": "@jupyter-widgets/controls"
          }
        },
        "237aa96ab06545b9a1d7e46325414dab": {
          "model_module": "@jupyter-widgets/base",
          "model_name": "LayoutModel",
          "state": {
            "_view_name": "LayoutView",
            "grid_template_rows": null,
            "right": null,
            "justify_content": null,
            "_view_module": "@jupyter-widgets/base",
            "overflow": null,
            "_model_module_version": "1.2.0",
            "_view_count": null,
            "flex_flow": null,
            "width": null,
            "min_width": null,
            "border": null,
            "align_items": null,
            "bottom": null,
            "_model_module": "@jupyter-widgets/base",
            "top": null,
            "grid_column": null,
            "overflow_y": null,
            "overflow_x": null,
            "grid_auto_flow": null,
            "grid_area": null,
            "grid_template_columns": null,
            "flex": null,
            "_model_name": "LayoutModel",
            "justify_items": null,
            "grid_row": null,
            "max_height": null,
            "align_content": null,
            "visibility": null,
            "align_self": null,
            "height": null,
            "min_height": null,
            "padding": null,
            "grid_auto_rows": null,
            "grid_gap": null,
            "max_width": null,
            "order": null,
            "_view_module_version": "1.2.0",
            "grid_template_areas": null,
            "object_position": null,
            "object_fit": null,
            "grid_auto_columns": null,
            "margin": null,
            "display": null,
            "left": null
          }
        },
        "89aa3909b8714513a4fde7ba278bc2e7": {
          "model_module": "@jupyter-widgets/controls",
          "model_name": "DescriptionStyleModel",
          "state": {
            "_view_name": "StyleView",
            "_model_name": "DescriptionStyleModel",
            "description_width": "",
            "_view_module": "@jupyter-widgets/base",
            "_model_module_version": "1.5.0",
            "_view_count": null,
            "_view_module_version": "1.2.0",
            "_model_module": "@jupyter-widgets/controls"
          }
        },
        "257de9624f1649d4adcc84540bc719f2": {
          "model_module": "@jupyter-widgets/base",
          "model_name": "LayoutModel",
          "state": {
            "_view_name": "LayoutView",
            "grid_template_rows": null,
            "right": null,
            "justify_content": null,
            "_view_module": "@jupyter-widgets/base",
            "overflow": null,
            "_model_module_version": "1.2.0",
            "_view_count": null,
            "flex_flow": null,
            "width": null,
            "min_width": null,
            "border": null,
            "align_items": null,
            "bottom": null,
            "_model_module": "@jupyter-widgets/base",
            "top": null,
            "grid_column": null,
            "overflow_y": null,
            "overflow_x": null,
            "grid_auto_flow": null,
            "grid_area": null,
            "grid_template_columns": null,
            "flex": null,
            "_model_name": "LayoutModel",
            "justify_items": null,
            "grid_row": null,
            "max_height": null,
            "align_content": null,
            "visibility": null,
            "align_self": null,
            "height": null,
            "min_height": null,
            "padding": null,
            "grid_auto_rows": null,
            "grid_gap": null,
            "max_width": null,
            "order": null,
            "_view_module_version": "1.2.0",
            "grid_template_areas": null,
            "object_position": null,
            "object_fit": null,
            "grid_auto_columns": null,
            "margin": null,
            "display": null,
            "left": null
          }
        },
        "0345c0f226484cabbb98b572750eddd1": {
          "model_module": "@jupyter-widgets/controls",
          "model_name": "HBoxModel",
          "state": {
            "_view_name": "HBoxView",
            "_dom_classes": [],
            "_model_name": "HBoxModel",
            "_view_module": "@jupyter-widgets/controls",
            "_model_module_version": "1.5.0",
            "_view_count": null,
            "_view_module_version": "1.5.0",
            "box_style": "",
            "layout": "IPY_MODEL_e168bd9539da43c89e97d1959be2a8bb",
            "_model_module": "@jupyter-widgets/controls",
            "children": [
              "IPY_MODEL_a3cfbd91bc8c4055a5923cf7fac7f162",
              "IPY_MODEL_394e5ac886ad4565bde67759c6972e83"
            ]
          }
        },
        "e168bd9539da43c89e97d1959be2a8bb": {
          "model_module": "@jupyter-widgets/base",
          "model_name": "LayoutModel",
          "state": {
            "_view_name": "LayoutView",
            "grid_template_rows": null,
            "right": null,
            "justify_content": null,
            "_view_module": "@jupyter-widgets/base",
            "overflow": null,
            "_model_module_version": "1.2.0",
            "_view_count": null,
            "flex_flow": null,
            "width": null,
            "min_width": null,
            "border": null,
            "align_items": null,
            "bottom": null,
            "_model_module": "@jupyter-widgets/base",
            "top": null,
            "grid_column": null,
            "overflow_y": null,
            "overflow_x": null,
            "grid_auto_flow": null,
            "grid_area": null,
            "grid_template_columns": null,
            "flex": null,
            "_model_name": "LayoutModel",
            "justify_items": null,
            "grid_row": null,
            "max_height": null,
            "align_content": null,
            "visibility": null,
            "align_self": null,
            "height": null,
            "min_height": null,
            "padding": null,
            "grid_auto_rows": null,
            "grid_gap": null,
            "max_width": null,
            "order": null,
            "_view_module_version": "1.2.0",
            "grid_template_areas": null,
            "object_position": null,
            "object_fit": null,
            "grid_auto_columns": null,
            "margin": null,
            "display": null,
            "left": null
          }
        },
        "a3cfbd91bc8c4055a5923cf7fac7f162": {
          "model_module": "@jupyter-widgets/controls",
          "model_name": "FloatProgressModel",
          "state": {
            "_view_name": "ProgressView",
            "style": "IPY_MODEL_eebfaf85326a4baab6bb50ac7de71052",
            "_dom_classes": [],
            "description": "#3: 100%",
            "_model_name": "FloatProgressModel",
            "bar_style": "success",
            "max": 1125,
            "_view_module": "@jupyter-widgets/controls",
            "_model_module_version": "1.5.0",
            "value": 1125,
            "_view_count": null,
            "_view_module_version": "1.5.0",
            "orientation": "horizontal",
            "min": 0,
            "description_tooltip": null,
            "_model_module": "@jupyter-widgets/controls",
            "layout": "IPY_MODEL_234f626c1e734db0a14da78b30978dca"
          }
        },
        "394e5ac886ad4565bde67759c6972e83": {
          "model_module": "@jupyter-widgets/controls",
          "model_name": "HTMLModel",
          "state": {
            "_view_name": "HTMLView",
            "style": "IPY_MODEL_fc688a5735644f4cb4a84e1c2a398c5a",
            "_dom_classes": [],
            "description": "",
            "_model_name": "HTMLModel",
            "placeholder": "​",
            "_view_module": "@jupyter-widgets/controls",
            "_model_module_version": "1.5.0",
            "value": " 1125/1125 [06:58&lt;00:00,  2.69ex/s]",
            "_view_count": null,
            "_view_module_version": "1.5.0",
            "description_tooltip": null,
            "_model_module": "@jupyter-widgets/controls",
            "layout": "IPY_MODEL_34ebae730ae04370bc29440c2ce50c04"
          }
        },
        "eebfaf85326a4baab6bb50ac7de71052": {
          "model_module": "@jupyter-widgets/controls",
          "model_name": "ProgressStyleModel",
          "state": {
            "_view_name": "StyleView",
            "_model_name": "ProgressStyleModel",
            "description_width": "initial",
            "_view_module": "@jupyter-widgets/base",
            "_model_module_version": "1.5.0",
            "_view_count": null,
            "_view_module_version": "1.2.0",
            "bar_color": null,
            "_model_module": "@jupyter-widgets/controls"
          }
        },
        "234f626c1e734db0a14da78b30978dca": {
          "model_module": "@jupyter-widgets/base",
          "model_name": "LayoutModel",
          "state": {
            "_view_name": "LayoutView",
            "grid_template_rows": null,
            "right": null,
            "justify_content": null,
            "_view_module": "@jupyter-widgets/base",
            "overflow": null,
            "_model_module_version": "1.2.0",
            "_view_count": null,
            "flex_flow": null,
            "width": null,
            "min_width": null,
            "border": null,
            "align_items": null,
            "bottom": null,
            "_model_module": "@jupyter-widgets/base",
            "top": null,
            "grid_column": null,
            "overflow_y": null,
            "overflow_x": null,
            "grid_auto_flow": null,
            "grid_area": null,
            "grid_template_columns": null,
            "flex": null,
            "_model_name": "LayoutModel",
            "justify_items": null,
            "grid_row": null,
            "max_height": null,
            "align_content": null,
            "visibility": null,
            "align_self": null,
            "height": null,
            "min_height": null,
            "padding": null,
            "grid_auto_rows": null,
            "grid_gap": null,
            "max_width": null,
            "order": null,
            "_view_module_version": "1.2.0",
            "grid_template_areas": null,
            "object_position": null,
            "object_fit": null,
            "grid_auto_columns": null,
            "margin": null,
            "display": null,
            "left": null
          }
        },
        "fc688a5735644f4cb4a84e1c2a398c5a": {
          "model_module": "@jupyter-widgets/controls",
          "model_name": "DescriptionStyleModel",
          "state": {
            "_view_name": "StyleView",
            "_model_name": "DescriptionStyleModel",
            "description_width": "",
            "_view_module": "@jupyter-widgets/base",
            "_model_module_version": "1.5.0",
            "_view_count": null,
            "_view_module_version": "1.2.0",
            "_model_module": "@jupyter-widgets/controls"
          }
        },
        "34ebae730ae04370bc29440c2ce50c04": {
          "model_module": "@jupyter-widgets/base",
          "model_name": "LayoutModel",
          "state": {
            "_view_name": "LayoutView",
            "grid_template_rows": null,
            "right": null,
            "justify_content": null,
            "_view_module": "@jupyter-widgets/base",
            "overflow": null,
            "_model_module_version": "1.2.0",
            "_view_count": null,
            "flex_flow": null,
            "width": null,
            "min_width": null,
            "border": null,
            "align_items": null,
            "bottom": null,
            "_model_module": "@jupyter-widgets/base",
            "top": null,
            "grid_column": null,
            "overflow_y": null,
            "overflow_x": null,
            "grid_auto_flow": null,
            "grid_area": null,
            "grid_template_columns": null,
            "flex": null,
            "_model_name": "LayoutModel",
            "justify_items": null,
            "grid_row": null,
            "max_height": null,
            "align_content": null,
            "visibility": null,
            "align_self": null,
            "height": null,
            "min_height": null,
            "padding": null,
            "grid_auto_rows": null,
            "grid_gap": null,
            "max_width": null,
            "order": null,
            "_view_module_version": "1.2.0",
            "grid_template_areas": null,
            "object_position": null,
            "object_fit": null,
            "grid_auto_columns": null,
            "margin": null,
            "display": null,
            "left": null
          }
        },
        "30133fcaa0e7457f8aebca51881d0acd": {
          "model_module": "@jupyter-widgets/controls",
          "model_name": "HBoxModel",
          "state": {
            "_view_name": "HBoxView",
            "_dom_classes": [],
            "_model_name": "HBoxModel",
            "_view_module": "@jupyter-widgets/controls",
            "_model_module_version": "1.5.0",
            "_view_count": null,
            "_view_module_version": "1.5.0",
            "box_style": "",
            "layout": "IPY_MODEL_08dce7300c134806b1aec18bc8475d84",
            "_model_module": "@jupyter-widgets/controls",
            "children": [
              "IPY_MODEL_dee848b6e4ce4df8ae9e4913f3aeb89f",
              "IPY_MODEL_3ef3ae0ee96647ebb4b9d7ce1cdd7e20"
            ]
          }
        },
        "08dce7300c134806b1aec18bc8475d84": {
          "model_module": "@jupyter-widgets/base",
          "model_name": "LayoutModel",
          "state": {
            "_view_name": "LayoutView",
            "grid_template_rows": null,
            "right": null,
            "justify_content": null,
            "_view_module": "@jupyter-widgets/base",
            "overflow": null,
            "_model_module_version": "1.2.0",
            "_view_count": null,
            "flex_flow": null,
            "width": null,
            "min_width": null,
            "border": null,
            "align_items": null,
            "bottom": null,
            "_model_module": "@jupyter-widgets/base",
            "top": null,
            "grid_column": null,
            "overflow_y": null,
            "overflow_x": null,
            "grid_auto_flow": null,
            "grid_area": null,
            "grid_template_columns": null,
            "flex": null,
            "_model_name": "LayoutModel",
            "justify_items": null,
            "grid_row": null,
            "max_height": null,
            "align_content": null,
            "visibility": null,
            "align_self": null,
            "height": null,
            "min_height": null,
            "padding": null,
            "grid_auto_rows": null,
            "grid_gap": null,
            "max_width": null,
            "order": null,
            "_view_module_version": "1.2.0",
            "grid_template_areas": null,
            "object_position": null,
            "object_fit": null,
            "grid_auto_columns": null,
            "margin": null,
            "display": null,
            "left": null
          }
        },
        "dee848b6e4ce4df8ae9e4913f3aeb89f": {
          "model_module": "@jupyter-widgets/controls",
          "model_name": "FloatProgressModel",
          "state": {
            "_view_name": "ProgressView",
            "style": "IPY_MODEL_a366c17bc2044ae68c8de624d0e0a061",
            "_dom_classes": [],
            "description": "#0: 100%",
            "_model_name": "FloatProgressModel",
            "bar_style": "success",
            "max": 126,
            "_view_module": "@jupyter-widgets/controls",
            "_model_module_version": "1.5.0",
            "value": 126,
            "_view_count": null,
            "_view_module_version": "1.5.0",
            "orientation": "horizontal",
            "min": 0,
            "description_tooltip": null,
            "_model_module": "@jupyter-widgets/controls",
            "layout": "IPY_MODEL_db0f218ff86341a79ee0d891438b8df6"
          }
        },
        "3ef3ae0ee96647ebb4b9d7ce1cdd7e20": {
          "model_module": "@jupyter-widgets/controls",
          "model_name": "HTMLModel",
          "state": {
            "_view_name": "HTMLView",
            "style": "IPY_MODEL_bafd0a1627c54c7ca7f2dda96e3fd6d2",
            "_dom_classes": [],
            "description": "",
            "_model_name": "HTMLModel",
            "placeholder": "​",
            "_view_module": "@jupyter-widgets/controls",
            "_model_module_version": "1.5.0",
            "value": " 126/126 [00:43&lt;00:00,  2.91ex/s]",
            "_view_count": null,
            "_view_module_version": "1.5.0",
            "description_tooltip": null,
            "_model_module": "@jupyter-widgets/controls",
            "layout": "IPY_MODEL_b86fe02ad31c4ca481f28d204cd25174"
          }
        },
        "a366c17bc2044ae68c8de624d0e0a061": {
          "model_module": "@jupyter-widgets/controls",
          "model_name": "ProgressStyleModel",
          "state": {
            "_view_name": "StyleView",
            "_model_name": "ProgressStyleModel",
            "description_width": "initial",
            "_view_module": "@jupyter-widgets/base",
            "_model_module_version": "1.5.0",
            "_view_count": null,
            "_view_module_version": "1.2.0",
            "bar_color": null,
            "_model_module": "@jupyter-widgets/controls"
          }
        },
        "db0f218ff86341a79ee0d891438b8df6": {
          "model_module": "@jupyter-widgets/base",
          "model_name": "LayoutModel",
          "state": {
            "_view_name": "LayoutView",
            "grid_template_rows": null,
            "right": null,
            "justify_content": null,
            "_view_module": "@jupyter-widgets/base",
            "overflow": null,
            "_model_module_version": "1.2.0",
            "_view_count": null,
            "flex_flow": null,
            "width": null,
            "min_width": null,
            "border": null,
            "align_items": null,
            "bottom": null,
            "_model_module": "@jupyter-widgets/base",
            "top": null,
            "grid_column": null,
            "overflow_y": null,
            "overflow_x": null,
            "grid_auto_flow": null,
            "grid_area": null,
            "grid_template_columns": null,
            "flex": null,
            "_model_name": "LayoutModel",
            "justify_items": null,
            "grid_row": null,
            "max_height": null,
            "align_content": null,
            "visibility": null,
            "align_self": null,
            "height": null,
            "min_height": null,
            "padding": null,
            "grid_auto_rows": null,
            "grid_gap": null,
            "max_width": null,
            "order": null,
            "_view_module_version": "1.2.0",
            "grid_template_areas": null,
            "object_position": null,
            "object_fit": null,
            "grid_auto_columns": null,
            "margin": null,
            "display": null,
            "left": null
          }
        },
        "bafd0a1627c54c7ca7f2dda96e3fd6d2": {
          "model_module": "@jupyter-widgets/controls",
          "model_name": "DescriptionStyleModel",
          "state": {
            "_view_name": "StyleView",
            "_model_name": "DescriptionStyleModel",
            "description_width": "",
            "_view_module": "@jupyter-widgets/base",
            "_model_module_version": "1.5.0",
            "_view_count": null,
            "_view_module_version": "1.2.0",
            "_model_module": "@jupyter-widgets/controls"
          }
        },
        "b86fe02ad31c4ca481f28d204cd25174": {
          "model_module": "@jupyter-widgets/base",
          "model_name": "LayoutModel",
          "state": {
            "_view_name": "LayoutView",
            "grid_template_rows": null,
            "right": null,
            "justify_content": null,
            "_view_module": "@jupyter-widgets/base",
            "overflow": null,
            "_model_module_version": "1.2.0",
            "_view_count": null,
            "flex_flow": null,
            "width": null,
            "min_width": null,
            "border": null,
            "align_items": null,
            "bottom": null,
            "_model_module": "@jupyter-widgets/base",
            "top": null,
            "grid_column": null,
            "overflow_y": null,
            "overflow_x": null,
            "grid_auto_flow": null,
            "grid_area": null,
            "grid_template_columns": null,
            "flex": null,
            "_model_name": "LayoutModel",
            "justify_items": null,
            "grid_row": null,
            "max_height": null,
            "align_content": null,
            "visibility": null,
            "align_self": null,
            "height": null,
            "min_height": null,
            "padding": null,
            "grid_auto_rows": null,
            "grid_gap": null,
            "max_width": null,
            "order": null,
            "_view_module_version": "1.2.0",
            "grid_template_areas": null,
            "object_position": null,
            "object_fit": null,
            "grid_auto_columns": null,
            "margin": null,
            "display": null,
            "left": null
          }
        },
        "caec6436d76e4ef89c3ca69a249c0853": {
          "model_module": "@jupyter-widgets/controls",
          "model_name": "HBoxModel",
          "state": {
            "_view_name": "HBoxView",
            "_dom_classes": [],
            "_model_name": "HBoxModel",
            "_view_module": "@jupyter-widgets/controls",
            "_model_module_version": "1.5.0",
            "_view_count": null,
            "_view_module_version": "1.5.0",
            "box_style": "",
            "layout": "IPY_MODEL_4a4712e6afeb4362bdc630a30f9441a6",
            "_model_module": "@jupyter-widgets/controls",
            "children": [
              "IPY_MODEL_b18618aaa3cb4245beb334f9d84e281f",
              "IPY_MODEL_db5bcf81db124d45839e8a0fbe06fc6d"
            ]
          }
        },
        "4a4712e6afeb4362bdc630a30f9441a6": {
          "model_module": "@jupyter-widgets/base",
          "model_name": "LayoutModel",
          "state": {
            "_view_name": "LayoutView",
            "grid_template_rows": null,
            "right": null,
            "justify_content": null,
            "_view_module": "@jupyter-widgets/base",
            "overflow": null,
            "_model_module_version": "1.2.0",
            "_view_count": null,
            "flex_flow": null,
            "width": null,
            "min_width": null,
            "border": null,
            "align_items": null,
            "bottom": null,
            "_model_module": "@jupyter-widgets/base",
            "top": null,
            "grid_column": null,
            "overflow_y": null,
            "overflow_x": null,
            "grid_auto_flow": null,
            "grid_area": null,
            "grid_template_columns": null,
            "flex": null,
            "_model_name": "LayoutModel",
            "justify_items": null,
            "grid_row": null,
            "max_height": null,
            "align_content": null,
            "visibility": null,
            "align_self": null,
            "height": null,
            "min_height": null,
            "padding": null,
            "grid_auto_rows": null,
            "grid_gap": null,
            "max_width": null,
            "order": null,
            "_view_module_version": "1.2.0",
            "grid_template_areas": null,
            "object_position": null,
            "object_fit": null,
            "grid_auto_columns": null,
            "margin": null,
            "display": null,
            "left": null
          }
        },
        "b18618aaa3cb4245beb334f9d84e281f": {
          "model_module": "@jupyter-widgets/controls",
          "model_name": "FloatProgressModel",
          "state": {
            "_view_name": "ProgressView",
            "style": "IPY_MODEL_844378f865234a5e9b8fd6848108e2c4",
            "_dom_classes": [],
            "description": "#1: 100%",
            "_model_name": "FloatProgressModel",
            "bar_style": "success",
            "max": 125,
            "_view_module": "@jupyter-widgets/controls",
            "_model_module_version": "1.5.0",
            "value": 125,
            "_view_count": null,
            "_view_module_version": "1.5.0",
            "orientation": "horizontal",
            "min": 0,
            "description_tooltip": null,
            "_model_module": "@jupyter-widgets/controls",
            "layout": "IPY_MODEL_d937b2ca34d34c51b699b4b5932dd49c"
          }
        },
        "db5bcf81db124d45839e8a0fbe06fc6d": {
          "model_module": "@jupyter-widgets/controls",
          "model_name": "HTMLModel",
          "state": {
            "_view_name": "HTMLView",
            "style": "IPY_MODEL_56f0aab418924931a56a20d136fb576a",
            "_dom_classes": [],
            "description": "",
            "_model_name": "HTMLModel",
            "placeholder": "​",
            "_view_module": "@jupyter-widgets/controls",
            "_model_module_version": "1.5.0",
            "value": " 125/125 [00:45&lt;00:00,  2.76ex/s]",
            "_view_count": null,
            "_view_module_version": "1.5.0",
            "description_tooltip": null,
            "_model_module": "@jupyter-widgets/controls",
            "layout": "IPY_MODEL_c0d0ba95cacd47cdb70cdbe16d07cf1d"
          }
        },
        "844378f865234a5e9b8fd6848108e2c4": {
          "model_module": "@jupyter-widgets/controls",
          "model_name": "ProgressStyleModel",
          "state": {
            "_view_name": "StyleView",
            "_model_name": "ProgressStyleModel",
            "description_width": "initial",
            "_view_module": "@jupyter-widgets/base",
            "_model_module_version": "1.5.0",
            "_view_count": null,
            "_view_module_version": "1.2.0",
            "bar_color": null,
            "_model_module": "@jupyter-widgets/controls"
          }
        },
        "d937b2ca34d34c51b699b4b5932dd49c": {
          "model_module": "@jupyter-widgets/base",
          "model_name": "LayoutModel",
          "state": {
            "_view_name": "LayoutView",
            "grid_template_rows": null,
            "right": null,
            "justify_content": null,
            "_view_module": "@jupyter-widgets/base",
            "overflow": null,
            "_model_module_version": "1.2.0",
            "_view_count": null,
            "flex_flow": null,
            "width": null,
            "min_width": null,
            "border": null,
            "align_items": null,
            "bottom": null,
            "_model_module": "@jupyter-widgets/base",
            "top": null,
            "grid_column": null,
            "overflow_y": null,
            "overflow_x": null,
            "grid_auto_flow": null,
            "grid_area": null,
            "grid_template_columns": null,
            "flex": null,
            "_model_name": "LayoutModel",
            "justify_items": null,
            "grid_row": null,
            "max_height": null,
            "align_content": null,
            "visibility": null,
            "align_self": null,
            "height": null,
            "min_height": null,
            "padding": null,
            "grid_auto_rows": null,
            "grid_gap": null,
            "max_width": null,
            "order": null,
            "_view_module_version": "1.2.0",
            "grid_template_areas": null,
            "object_position": null,
            "object_fit": null,
            "grid_auto_columns": null,
            "margin": null,
            "display": null,
            "left": null
          }
        },
        "56f0aab418924931a56a20d136fb576a": {
          "model_module": "@jupyter-widgets/controls",
          "model_name": "DescriptionStyleModel",
          "state": {
            "_view_name": "StyleView",
            "_model_name": "DescriptionStyleModel",
            "description_width": "",
            "_view_module": "@jupyter-widgets/base",
            "_model_module_version": "1.5.0",
            "_view_count": null,
            "_view_module_version": "1.2.0",
            "_model_module": "@jupyter-widgets/controls"
          }
        },
        "c0d0ba95cacd47cdb70cdbe16d07cf1d": {
          "model_module": "@jupyter-widgets/base",
          "model_name": "LayoutModel",
          "state": {
            "_view_name": "LayoutView",
            "grid_template_rows": null,
            "right": null,
            "justify_content": null,
            "_view_module": "@jupyter-widgets/base",
            "overflow": null,
            "_model_module_version": "1.2.0",
            "_view_count": null,
            "flex_flow": null,
            "width": null,
            "min_width": null,
            "border": null,
            "align_items": null,
            "bottom": null,
            "_model_module": "@jupyter-widgets/base",
            "top": null,
            "grid_column": null,
            "overflow_y": null,
            "overflow_x": null,
            "grid_auto_flow": null,
            "grid_area": null,
            "grid_template_columns": null,
            "flex": null,
            "_model_name": "LayoutModel",
            "justify_items": null,
            "grid_row": null,
            "max_height": null,
            "align_content": null,
            "visibility": null,
            "align_self": null,
            "height": null,
            "min_height": null,
            "padding": null,
            "grid_auto_rows": null,
            "grid_gap": null,
            "max_width": null,
            "order": null,
            "_view_module_version": "1.2.0",
            "grid_template_areas": null,
            "object_position": null,
            "object_fit": null,
            "grid_auto_columns": null,
            "margin": null,
            "display": null,
            "left": null
          }
        },
        "e33c93b84bb4409cae2b0acf5f67f58b": {
          "model_module": "@jupyter-widgets/controls",
          "model_name": "HBoxModel",
          "state": {
            "_view_name": "HBoxView",
            "_dom_classes": [],
            "_model_name": "HBoxModel",
            "_view_module": "@jupyter-widgets/controls",
            "_model_module_version": "1.5.0",
            "_view_count": null,
            "_view_module_version": "1.5.0",
            "box_style": "",
            "layout": "IPY_MODEL_0f88d736300a4a478504b8c51e31389b",
            "_model_module": "@jupyter-widgets/controls",
            "children": [
              "IPY_MODEL_5d9ab44153e94abfbbe5fb8dd8375bf7",
              "IPY_MODEL_1a18850cfcc84907b123a08282bc693e"
            ]
          }
        },
        "0f88d736300a4a478504b8c51e31389b": {
          "model_module": "@jupyter-widgets/base",
          "model_name": "LayoutModel",
          "state": {
            "_view_name": "LayoutView",
            "grid_template_rows": null,
            "right": null,
            "justify_content": null,
            "_view_module": "@jupyter-widgets/base",
            "overflow": null,
            "_model_module_version": "1.2.0",
            "_view_count": null,
            "flex_flow": null,
            "width": null,
            "min_width": null,
            "border": null,
            "align_items": null,
            "bottom": null,
            "_model_module": "@jupyter-widgets/base",
            "top": null,
            "grid_column": null,
            "overflow_y": null,
            "overflow_x": null,
            "grid_auto_flow": null,
            "grid_area": null,
            "grid_template_columns": null,
            "flex": null,
            "_model_name": "LayoutModel",
            "justify_items": null,
            "grid_row": null,
            "max_height": null,
            "align_content": null,
            "visibility": null,
            "align_self": null,
            "height": null,
            "min_height": null,
            "padding": null,
            "grid_auto_rows": null,
            "grid_gap": null,
            "max_width": null,
            "order": null,
            "_view_module_version": "1.2.0",
            "grid_template_areas": null,
            "object_position": null,
            "object_fit": null,
            "grid_auto_columns": null,
            "margin": null,
            "display": null,
            "left": null
          }
        },
        "5d9ab44153e94abfbbe5fb8dd8375bf7": {
          "model_module": "@jupyter-widgets/controls",
          "model_name": "FloatProgressModel",
          "state": {
            "_view_name": "ProgressView",
            "style": "IPY_MODEL_a9468973b37a40d8b8a6e79a42db01a5",
            "_dom_classes": [],
            "description": "#3: 100%",
            "_model_name": "FloatProgressModel",
            "bar_style": "success",
            "max": 125,
            "_view_module": "@jupyter-widgets/controls",
            "_model_module_version": "1.5.0",
            "value": 125,
            "_view_count": null,
            "_view_module_version": "1.5.0",
            "orientation": "horizontal",
            "min": 0,
            "description_tooltip": null,
            "_model_module": "@jupyter-widgets/controls",
            "layout": "IPY_MODEL_3e07a3fa32214b89ac562946eaff47ad"
          }
        },
        "1a18850cfcc84907b123a08282bc693e": {
          "model_module": "@jupyter-widgets/controls",
          "model_name": "HTMLModel",
          "state": {
            "_view_name": "HTMLView",
            "style": "IPY_MODEL_7444e354b7804fd180d946c96871e509",
            "_dom_classes": [],
            "description": "",
            "_model_name": "HTMLModel",
            "placeholder": "​",
            "_view_module": "@jupyter-widgets/controls",
            "_model_module_version": "1.5.0",
            "value": " 125/125 [00:43&lt;00:00,  2.86ex/s]",
            "_view_count": null,
            "_view_module_version": "1.5.0",
            "description_tooltip": null,
            "_model_module": "@jupyter-widgets/controls",
            "layout": "IPY_MODEL_bd6ce08ce62146b5849f554b865eef5f"
          }
        },
        "a9468973b37a40d8b8a6e79a42db01a5": {
          "model_module": "@jupyter-widgets/controls",
          "model_name": "ProgressStyleModel",
          "state": {
            "_view_name": "StyleView",
            "_model_name": "ProgressStyleModel",
            "description_width": "initial",
            "_view_module": "@jupyter-widgets/base",
            "_model_module_version": "1.5.0",
            "_view_count": null,
            "_view_module_version": "1.2.0",
            "bar_color": null,
            "_model_module": "@jupyter-widgets/controls"
          }
        },
        "3e07a3fa32214b89ac562946eaff47ad": {
          "model_module": "@jupyter-widgets/base",
          "model_name": "LayoutModel",
          "state": {
            "_view_name": "LayoutView",
            "grid_template_rows": null,
            "right": null,
            "justify_content": null,
            "_view_module": "@jupyter-widgets/base",
            "overflow": null,
            "_model_module_version": "1.2.0",
            "_view_count": null,
            "flex_flow": null,
            "width": null,
            "min_width": null,
            "border": null,
            "align_items": null,
            "bottom": null,
            "_model_module": "@jupyter-widgets/base",
            "top": null,
            "grid_column": null,
            "overflow_y": null,
            "overflow_x": null,
            "grid_auto_flow": null,
            "grid_area": null,
            "grid_template_columns": null,
            "flex": null,
            "_model_name": "LayoutModel",
            "justify_items": null,
            "grid_row": null,
            "max_height": null,
            "align_content": null,
            "visibility": null,
            "align_self": null,
            "height": null,
            "min_height": null,
            "padding": null,
            "grid_auto_rows": null,
            "grid_gap": null,
            "max_width": null,
            "order": null,
            "_view_module_version": "1.2.0",
            "grid_template_areas": null,
            "object_position": null,
            "object_fit": null,
            "grid_auto_columns": null,
            "margin": null,
            "display": null,
            "left": null
          }
        },
        "7444e354b7804fd180d946c96871e509": {
          "model_module": "@jupyter-widgets/controls",
          "model_name": "DescriptionStyleModel",
          "state": {
            "_view_name": "StyleView",
            "_model_name": "DescriptionStyleModel",
            "description_width": "",
            "_view_module": "@jupyter-widgets/base",
            "_model_module_version": "1.5.0",
            "_view_count": null,
            "_view_module_version": "1.2.0",
            "_model_module": "@jupyter-widgets/controls"
          }
        },
        "bd6ce08ce62146b5849f554b865eef5f": {
          "model_module": "@jupyter-widgets/base",
          "model_name": "LayoutModel",
          "state": {
            "_view_name": "LayoutView",
            "grid_template_rows": null,
            "right": null,
            "justify_content": null,
            "_view_module": "@jupyter-widgets/base",
            "overflow": null,
            "_model_module_version": "1.2.0",
            "_view_count": null,
            "flex_flow": null,
            "width": null,
            "min_width": null,
            "border": null,
            "align_items": null,
            "bottom": null,
            "_model_module": "@jupyter-widgets/base",
            "top": null,
            "grid_column": null,
            "overflow_y": null,
            "overflow_x": null,
            "grid_auto_flow": null,
            "grid_area": null,
            "grid_template_columns": null,
            "flex": null,
            "_model_name": "LayoutModel",
            "justify_items": null,
            "grid_row": null,
            "max_height": null,
            "align_content": null,
            "visibility": null,
            "align_self": null,
            "height": null,
            "min_height": null,
            "padding": null,
            "grid_auto_rows": null,
            "grid_gap": null,
            "max_width": null,
            "order": null,
            "_view_module_version": "1.2.0",
            "grid_template_areas": null,
            "object_position": null,
            "object_fit": null,
            "grid_auto_columns": null,
            "margin": null,
            "display": null,
            "left": null
          }
        },
        "dcf192e994d4492bbb406447621f9e40": {
          "model_module": "@jupyter-widgets/controls",
          "model_name": "HBoxModel",
          "state": {
            "_view_name": "HBoxView",
            "_dom_classes": [],
            "_model_name": "HBoxModel",
            "_view_module": "@jupyter-widgets/controls",
            "_model_module_version": "1.5.0",
            "_view_count": null,
            "_view_module_version": "1.5.0",
            "box_style": "",
            "layout": "IPY_MODEL_105a53c34cf14bf3bb38a6b3101c2765",
            "_model_module": "@jupyter-widgets/controls",
            "children": [
              "IPY_MODEL_4313cd8df59747ee9e7816fe46800653",
              "IPY_MODEL_8b140ebc2ec6418ebb82758ebd315fc7"
            ]
          }
        },
        "105a53c34cf14bf3bb38a6b3101c2765": {
          "model_module": "@jupyter-widgets/base",
          "model_name": "LayoutModel",
          "state": {
            "_view_name": "LayoutView",
            "grid_template_rows": null,
            "right": null,
            "justify_content": null,
            "_view_module": "@jupyter-widgets/base",
            "overflow": null,
            "_model_module_version": "1.2.0",
            "_view_count": null,
            "flex_flow": null,
            "width": null,
            "min_width": null,
            "border": null,
            "align_items": null,
            "bottom": null,
            "_model_module": "@jupyter-widgets/base",
            "top": null,
            "grid_column": null,
            "overflow_y": null,
            "overflow_x": null,
            "grid_auto_flow": null,
            "grid_area": null,
            "grid_template_columns": null,
            "flex": null,
            "_model_name": "LayoutModel",
            "justify_items": null,
            "grid_row": null,
            "max_height": null,
            "align_content": null,
            "visibility": null,
            "align_self": null,
            "height": null,
            "min_height": null,
            "padding": null,
            "grid_auto_rows": null,
            "grid_gap": null,
            "max_width": null,
            "order": null,
            "_view_module_version": "1.2.0",
            "grid_template_areas": null,
            "object_position": null,
            "object_fit": null,
            "grid_auto_columns": null,
            "margin": null,
            "display": null,
            "left": null
          }
        },
        "4313cd8df59747ee9e7816fe46800653": {
          "model_module": "@jupyter-widgets/controls",
          "model_name": "FloatProgressModel",
          "state": {
            "_view_name": "ProgressView",
            "style": "IPY_MODEL_30814414e9bf483b8f035d9af1f8e48f",
            "_dom_classes": [],
            "description": "#2: 100%",
            "_model_name": "FloatProgressModel",
            "bar_style": "success",
            "max": 125,
            "_view_module": "@jupyter-widgets/controls",
            "_model_module_version": "1.5.0",
            "value": 125,
            "_view_count": null,
            "_view_module_version": "1.5.0",
            "orientation": "horizontal",
            "min": 0,
            "description_tooltip": null,
            "_model_module": "@jupyter-widgets/controls",
            "layout": "IPY_MODEL_00ad024a693245199ef9a7294b69fec9"
          }
        },
        "8b140ebc2ec6418ebb82758ebd315fc7": {
          "model_module": "@jupyter-widgets/controls",
          "model_name": "HTMLModel",
          "state": {
            "_view_name": "HTMLView",
            "style": "IPY_MODEL_5badea5447b540a595b6bf90ec7622e8",
            "_dom_classes": [],
            "description": "",
            "_model_name": "HTMLModel",
            "placeholder": "​",
            "_view_module": "@jupyter-widgets/controls",
            "_model_module_version": "1.5.0",
            "value": " 125/125 [00:43&lt;00:00,  2.86ex/s]",
            "_view_count": null,
            "_view_module_version": "1.5.0",
            "description_tooltip": null,
            "_model_module": "@jupyter-widgets/controls",
            "layout": "IPY_MODEL_4f6b4337a4f8470a9b33c41ed51f227c"
          }
        },
        "30814414e9bf483b8f035d9af1f8e48f": {
          "model_module": "@jupyter-widgets/controls",
          "model_name": "ProgressStyleModel",
          "state": {
            "_view_name": "StyleView",
            "_model_name": "ProgressStyleModel",
            "description_width": "initial",
            "_view_module": "@jupyter-widgets/base",
            "_model_module_version": "1.5.0",
            "_view_count": null,
            "_view_module_version": "1.2.0",
            "bar_color": null,
            "_model_module": "@jupyter-widgets/controls"
          }
        },
        "00ad024a693245199ef9a7294b69fec9": {
          "model_module": "@jupyter-widgets/base",
          "model_name": "LayoutModel",
          "state": {
            "_view_name": "LayoutView",
            "grid_template_rows": null,
            "right": null,
            "justify_content": null,
            "_view_module": "@jupyter-widgets/base",
            "overflow": null,
            "_model_module_version": "1.2.0",
            "_view_count": null,
            "flex_flow": null,
            "width": null,
            "min_width": null,
            "border": null,
            "align_items": null,
            "bottom": null,
            "_model_module": "@jupyter-widgets/base",
            "top": null,
            "grid_column": null,
            "overflow_y": null,
            "overflow_x": null,
            "grid_auto_flow": null,
            "grid_area": null,
            "grid_template_columns": null,
            "flex": null,
            "_model_name": "LayoutModel",
            "justify_items": null,
            "grid_row": null,
            "max_height": null,
            "align_content": null,
            "visibility": null,
            "align_self": null,
            "height": null,
            "min_height": null,
            "padding": null,
            "grid_auto_rows": null,
            "grid_gap": null,
            "max_width": null,
            "order": null,
            "_view_module_version": "1.2.0",
            "grid_template_areas": null,
            "object_position": null,
            "object_fit": null,
            "grid_auto_columns": null,
            "margin": null,
            "display": null,
            "left": null
          }
        },
        "5badea5447b540a595b6bf90ec7622e8": {
          "model_module": "@jupyter-widgets/controls",
          "model_name": "DescriptionStyleModel",
          "state": {
            "_view_name": "StyleView",
            "_model_name": "DescriptionStyleModel",
            "description_width": "",
            "_view_module": "@jupyter-widgets/base",
            "_model_module_version": "1.5.0",
            "_view_count": null,
            "_view_module_version": "1.2.0",
            "_model_module": "@jupyter-widgets/controls"
          }
        },
        "4f6b4337a4f8470a9b33c41ed51f227c": {
          "model_module": "@jupyter-widgets/base",
          "model_name": "LayoutModel",
          "state": {
            "_view_name": "LayoutView",
            "grid_template_rows": null,
            "right": null,
            "justify_content": null,
            "_view_module": "@jupyter-widgets/base",
            "overflow": null,
            "_model_module_version": "1.2.0",
            "_view_count": null,
            "flex_flow": null,
            "width": null,
            "min_width": null,
            "border": null,
            "align_items": null,
            "bottom": null,
            "_model_module": "@jupyter-widgets/base",
            "top": null,
            "grid_column": null,
            "overflow_y": null,
            "overflow_x": null,
            "grid_auto_flow": null,
            "grid_area": null,
            "grid_template_columns": null,
            "flex": null,
            "_model_name": "LayoutModel",
            "justify_items": null,
            "grid_row": null,
            "max_height": null,
            "align_content": null,
            "visibility": null,
            "align_self": null,
            "height": null,
            "min_height": null,
            "padding": null,
            "grid_auto_rows": null,
            "grid_gap": null,
            "max_width": null,
            "order": null,
            "_view_module_version": "1.2.0",
            "grid_template_areas": null,
            "object_position": null,
            "object_fit": null,
            "grid_auto_columns": null,
            "margin": null,
            "display": null,
            "left": null
          }
        },
        "6e1208452f85409ea4a557c14b810c02": {
          "model_module": "@jupyter-widgets/controls",
          "model_name": "HBoxModel",
          "state": {
            "_view_name": "HBoxView",
            "_dom_classes": [],
            "_model_name": "HBoxModel",
            "_view_module": "@jupyter-widgets/controls",
            "_model_module_version": "1.5.0",
            "_view_count": null,
            "_view_module_version": "1.5.0",
            "box_style": "",
            "layout": "IPY_MODEL_573ca74a98b04ce69c1eaa9ac00807ac",
            "_model_module": "@jupyter-widgets/controls",
            "children": [
              "IPY_MODEL_9197550de1cd4f718689af9aba080cd6",
              "IPY_MODEL_e05fba74e38948fc83b0c771bd5be68c"
            ]
          }
        },
        "573ca74a98b04ce69c1eaa9ac00807ac": {
          "model_module": "@jupyter-widgets/base",
          "model_name": "LayoutModel",
          "state": {
            "_view_name": "LayoutView",
            "grid_template_rows": null,
            "right": null,
            "justify_content": null,
            "_view_module": "@jupyter-widgets/base",
            "overflow": null,
            "_model_module_version": "1.2.0",
            "_view_count": null,
            "flex_flow": null,
            "width": null,
            "min_width": null,
            "border": null,
            "align_items": null,
            "bottom": null,
            "_model_module": "@jupyter-widgets/base",
            "top": null,
            "grid_column": null,
            "overflow_y": null,
            "overflow_x": null,
            "grid_auto_flow": null,
            "grid_area": null,
            "grid_template_columns": null,
            "flex": null,
            "_model_name": "LayoutModel",
            "justify_items": null,
            "grid_row": null,
            "max_height": null,
            "align_content": null,
            "visibility": null,
            "align_self": null,
            "height": null,
            "min_height": null,
            "padding": null,
            "grid_auto_rows": null,
            "grid_gap": null,
            "max_width": null,
            "order": null,
            "_view_module_version": "1.2.0",
            "grid_template_areas": null,
            "object_position": null,
            "object_fit": null,
            "grid_auto_columns": null,
            "margin": null,
            "display": null,
            "left": null
          }
        },
        "9197550de1cd4f718689af9aba080cd6": {
          "model_module": "@jupyter-widgets/controls",
          "model_name": "FloatProgressModel",
          "state": {
            "_view_name": "ProgressView",
            "style": "IPY_MODEL_e7cffd16a4f5442aaf8285291b833909",
            "_dom_classes": [],
            "description": "#1: 100%",
            "_model_name": "FloatProgressModel",
            "bar_style": "success",
            "max": 141,
            "_view_module": "@jupyter-widgets/controls",
            "_model_module_version": "1.5.0",
            "value": 141,
            "_view_count": null,
            "_view_module_version": "1.5.0",
            "orientation": "horizontal",
            "min": 0,
            "description_tooltip": null,
            "_model_module": "@jupyter-widgets/controls",
            "layout": "IPY_MODEL_bfa7dffc47f148d2aee3a3dd411d099b"
          }
        },
        "e05fba74e38948fc83b0c771bd5be68c": {
          "model_module": "@jupyter-widgets/controls",
          "model_name": "HTMLModel",
          "state": {
            "_view_name": "HTMLView",
            "style": "IPY_MODEL_a85f6dcce7434fde8ef51d4da5f145e8",
            "_dom_classes": [],
            "description": "",
            "_model_name": "HTMLModel",
            "placeholder": "​",
            "_view_module": "@jupyter-widgets/controls",
            "_model_module_version": "1.5.0",
            "value": " 141/141 [01:12&lt;00:00,  1.95ba/s]",
            "_view_count": null,
            "_view_module_version": "1.5.0",
            "description_tooltip": null,
            "_model_module": "@jupyter-widgets/controls",
            "layout": "IPY_MODEL_472fc30d42d946d386a60d2c87039aed"
          }
        },
        "e7cffd16a4f5442aaf8285291b833909": {
          "model_module": "@jupyter-widgets/controls",
          "model_name": "ProgressStyleModel",
          "state": {
            "_view_name": "StyleView",
            "_model_name": "ProgressStyleModel",
            "description_width": "initial",
            "_view_module": "@jupyter-widgets/base",
            "_model_module_version": "1.5.0",
            "_view_count": null,
            "_view_module_version": "1.2.0",
            "bar_color": null,
            "_model_module": "@jupyter-widgets/controls"
          }
        },
        "bfa7dffc47f148d2aee3a3dd411d099b": {
          "model_module": "@jupyter-widgets/base",
          "model_name": "LayoutModel",
          "state": {
            "_view_name": "LayoutView",
            "grid_template_rows": null,
            "right": null,
            "justify_content": null,
            "_view_module": "@jupyter-widgets/base",
            "overflow": null,
            "_model_module_version": "1.2.0",
            "_view_count": null,
            "flex_flow": null,
            "width": null,
            "min_width": null,
            "border": null,
            "align_items": null,
            "bottom": null,
            "_model_module": "@jupyter-widgets/base",
            "top": null,
            "grid_column": null,
            "overflow_y": null,
            "overflow_x": null,
            "grid_auto_flow": null,
            "grid_area": null,
            "grid_template_columns": null,
            "flex": null,
            "_model_name": "LayoutModel",
            "justify_items": null,
            "grid_row": null,
            "max_height": null,
            "align_content": null,
            "visibility": null,
            "align_self": null,
            "height": null,
            "min_height": null,
            "padding": null,
            "grid_auto_rows": null,
            "grid_gap": null,
            "max_width": null,
            "order": null,
            "_view_module_version": "1.2.0",
            "grid_template_areas": null,
            "object_position": null,
            "object_fit": null,
            "grid_auto_columns": null,
            "margin": null,
            "display": null,
            "left": null
          }
        },
        "a85f6dcce7434fde8ef51d4da5f145e8": {
          "model_module": "@jupyter-widgets/controls",
          "model_name": "DescriptionStyleModel",
          "state": {
            "_view_name": "StyleView",
            "_model_name": "DescriptionStyleModel",
            "description_width": "",
            "_view_module": "@jupyter-widgets/base",
            "_model_module_version": "1.5.0",
            "_view_count": null,
            "_view_module_version": "1.2.0",
            "_model_module": "@jupyter-widgets/controls"
          }
        },
        "472fc30d42d946d386a60d2c87039aed": {
          "model_module": "@jupyter-widgets/base",
          "model_name": "LayoutModel",
          "state": {
            "_view_name": "LayoutView",
            "grid_template_rows": null,
            "right": null,
            "justify_content": null,
            "_view_module": "@jupyter-widgets/base",
            "overflow": null,
            "_model_module_version": "1.2.0",
            "_view_count": null,
            "flex_flow": null,
            "width": null,
            "min_width": null,
            "border": null,
            "align_items": null,
            "bottom": null,
            "_model_module": "@jupyter-widgets/base",
            "top": null,
            "grid_column": null,
            "overflow_y": null,
            "overflow_x": null,
            "grid_auto_flow": null,
            "grid_area": null,
            "grid_template_columns": null,
            "flex": null,
            "_model_name": "LayoutModel",
            "justify_items": null,
            "grid_row": null,
            "max_height": null,
            "align_content": null,
            "visibility": null,
            "align_self": null,
            "height": null,
            "min_height": null,
            "padding": null,
            "grid_auto_rows": null,
            "grid_gap": null,
            "max_width": null,
            "order": null,
            "_view_module_version": "1.2.0",
            "grid_template_areas": null,
            "object_position": null,
            "object_fit": null,
            "grid_auto_columns": null,
            "margin": null,
            "display": null,
            "left": null
          }
        },
        "52a3bac4df594287b149bff5a2ae817f": {
          "model_module": "@jupyter-widgets/controls",
          "model_name": "HBoxModel",
          "state": {
            "_view_name": "HBoxView",
            "_dom_classes": [],
            "_model_name": "HBoxModel",
            "_view_module": "@jupyter-widgets/controls",
            "_model_module_version": "1.5.0",
            "_view_count": null,
            "_view_module_version": "1.5.0",
            "box_style": "",
            "layout": "IPY_MODEL_896057ae8255458b916c8d4f89633a9e",
            "_model_module": "@jupyter-widgets/controls",
            "children": [
              "IPY_MODEL_e48a50b1aab645b0af16a12e0c5deda7",
              "IPY_MODEL_e90721d401014f5185398ce4c5cc9726"
            ]
          }
        },
        "896057ae8255458b916c8d4f89633a9e": {
          "model_module": "@jupyter-widgets/base",
          "model_name": "LayoutModel",
          "state": {
            "_view_name": "LayoutView",
            "grid_template_rows": null,
            "right": null,
            "justify_content": null,
            "_view_module": "@jupyter-widgets/base",
            "overflow": null,
            "_model_module_version": "1.2.0",
            "_view_count": null,
            "flex_flow": null,
            "width": null,
            "min_width": null,
            "border": null,
            "align_items": null,
            "bottom": null,
            "_model_module": "@jupyter-widgets/base",
            "top": null,
            "grid_column": null,
            "overflow_y": null,
            "overflow_x": null,
            "grid_auto_flow": null,
            "grid_area": null,
            "grid_template_columns": null,
            "flex": null,
            "_model_name": "LayoutModel",
            "justify_items": null,
            "grid_row": null,
            "max_height": null,
            "align_content": null,
            "visibility": null,
            "align_self": null,
            "height": null,
            "min_height": null,
            "padding": null,
            "grid_auto_rows": null,
            "grid_gap": null,
            "max_width": null,
            "order": null,
            "_view_module_version": "1.2.0",
            "grid_template_areas": null,
            "object_position": null,
            "object_fit": null,
            "grid_auto_columns": null,
            "margin": null,
            "display": null,
            "left": null
          }
        },
        "e48a50b1aab645b0af16a12e0c5deda7": {
          "model_module": "@jupyter-widgets/controls",
          "model_name": "FloatProgressModel",
          "state": {
            "_view_name": "ProgressView",
            "style": "IPY_MODEL_4b048892c1924cae9fd581e52057751b",
            "_dom_classes": [],
            "description": "#0: 100%",
            "_model_name": "FloatProgressModel",
            "bar_style": "success",
            "max": 141,
            "_view_module": "@jupyter-widgets/controls",
            "_model_module_version": "1.5.0",
            "value": 141,
            "_view_count": null,
            "_view_module_version": "1.5.0",
            "orientation": "horizontal",
            "min": 0,
            "description_tooltip": null,
            "_model_module": "@jupyter-widgets/controls",
            "layout": "IPY_MODEL_581ff42324b7453d9311e334402d1c81"
          }
        },
        "e90721d401014f5185398ce4c5cc9726": {
          "model_module": "@jupyter-widgets/controls",
          "model_name": "HTMLModel",
          "state": {
            "_view_name": "HTMLView",
            "style": "IPY_MODEL_a0389879b9014eccaad7b03453d99e26",
            "_dom_classes": [],
            "description": "",
            "_model_name": "HTMLModel",
            "placeholder": "​",
            "_view_module": "@jupyter-widgets/controls",
            "_model_module_version": "1.5.0",
            "value": " 141/141 [01:12&lt;00:00,  1.95ba/s]",
            "_view_count": null,
            "_view_module_version": "1.5.0",
            "description_tooltip": null,
            "_model_module": "@jupyter-widgets/controls",
            "layout": "IPY_MODEL_79cfc24883a64187838ad8e010a032f3"
          }
        },
        "4b048892c1924cae9fd581e52057751b": {
          "model_module": "@jupyter-widgets/controls",
          "model_name": "ProgressStyleModel",
          "state": {
            "_view_name": "StyleView",
            "_model_name": "ProgressStyleModel",
            "description_width": "initial",
            "_view_module": "@jupyter-widgets/base",
            "_model_module_version": "1.5.0",
            "_view_count": null,
            "_view_module_version": "1.2.0",
            "bar_color": null,
            "_model_module": "@jupyter-widgets/controls"
          }
        },
        "581ff42324b7453d9311e334402d1c81": {
          "model_module": "@jupyter-widgets/base",
          "model_name": "LayoutModel",
          "state": {
            "_view_name": "LayoutView",
            "grid_template_rows": null,
            "right": null,
            "justify_content": null,
            "_view_module": "@jupyter-widgets/base",
            "overflow": null,
            "_model_module_version": "1.2.0",
            "_view_count": null,
            "flex_flow": null,
            "width": null,
            "min_width": null,
            "border": null,
            "align_items": null,
            "bottom": null,
            "_model_module": "@jupyter-widgets/base",
            "top": null,
            "grid_column": null,
            "overflow_y": null,
            "overflow_x": null,
            "grid_auto_flow": null,
            "grid_area": null,
            "grid_template_columns": null,
            "flex": null,
            "_model_name": "LayoutModel",
            "justify_items": null,
            "grid_row": null,
            "max_height": null,
            "align_content": null,
            "visibility": null,
            "align_self": null,
            "height": null,
            "min_height": null,
            "padding": null,
            "grid_auto_rows": null,
            "grid_gap": null,
            "max_width": null,
            "order": null,
            "_view_module_version": "1.2.0",
            "grid_template_areas": null,
            "object_position": null,
            "object_fit": null,
            "grid_auto_columns": null,
            "margin": null,
            "display": null,
            "left": null
          }
        },
        "a0389879b9014eccaad7b03453d99e26": {
          "model_module": "@jupyter-widgets/controls",
          "model_name": "DescriptionStyleModel",
          "state": {
            "_view_name": "StyleView",
            "_model_name": "DescriptionStyleModel",
            "description_width": "",
            "_view_module": "@jupyter-widgets/base",
            "_model_module_version": "1.5.0",
            "_view_count": null,
            "_view_module_version": "1.2.0",
            "_model_module": "@jupyter-widgets/controls"
          }
        },
        "79cfc24883a64187838ad8e010a032f3": {
          "model_module": "@jupyter-widgets/base",
          "model_name": "LayoutModel",
          "state": {
            "_view_name": "LayoutView",
            "grid_template_rows": null,
            "right": null,
            "justify_content": null,
            "_view_module": "@jupyter-widgets/base",
            "overflow": null,
            "_model_module_version": "1.2.0",
            "_view_count": null,
            "flex_flow": null,
            "width": null,
            "min_width": null,
            "border": null,
            "align_items": null,
            "bottom": null,
            "_model_module": "@jupyter-widgets/base",
            "top": null,
            "grid_column": null,
            "overflow_y": null,
            "overflow_x": null,
            "grid_auto_flow": null,
            "grid_area": null,
            "grid_template_columns": null,
            "flex": null,
            "_model_name": "LayoutModel",
            "justify_items": null,
            "grid_row": null,
            "max_height": null,
            "align_content": null,
            "visibility": null,
            "align_self": null,
            "height": null,
            "min_height": null,
            "padding": null,
            "grid_auto_rows": null,
            "grid_gap": null,
            "max_width": null,
            "order": null,
            "_view_module_version": "1.2.0",
            "grid_template_areas": null,
            "object_position": null,
            "object_fit": null,
            "grid_auto_columns": null,
            "margin": null,
            "display": null,
            "left": null
          }
        },
        "bb75f17f59094ae082410312c4364e59": {
          "model_module": "@jupyter-widgets/controls",
          "model_name": "HBoxModel",
          "state": {
            "_view_name": "HBoxView",
            "_dom_classes": [],
            "_model_name": "HBoxModel",
            "_view_module": "@jupyter-widgets/controls",
            "_model_module_version": "1.5.0",
            "_view_count": null,
            "_view_module_version": "1.5.0",
            "box_style": "",
            "layout": "IPY_MODEL_77ec65851e5a4748aef68f2736805b47",
            "_model_module": "@jupyter-widgets/controls",
            "children": [
              "IPY_MODEL_7dcae7280edf4466a96879fe2a608d8a",
              "IPY_MODEL_3120e05b929046678e738609eb822f0e"
            ]
          }
        },
        "77ec65851e5a4748aef68f2736805b47": {
          "model_module": "@jupyter-widgets/base",
          "model_name": "LayoutModel",
          "state": {
            "_view_name": "LayoutView",
            "grid_template_rows": null,
            "right": null,
            "justify_content": null,
            "_view_module": "@jupyter-widgets/base",
            "overflow": null,
            "_model_module_version": "1.2.0",
            "_view_count": null,
            "flex_flow": null,
            "width": null,
            "min_width": null,
            "border": null,
            "align_items": null,
            "bottom": null,
            "_model_module": "@jupyter-widgets/base",
            "top": null,
            "grid_column": null,
            "overflow_y": null,
            "overflow_x": null,
            "grid_auto_flow": null,
            "grid_area": null,
            "grid_template_columns": null,
            "flex": null,
            "_model_name": "LayoutModel",
            "justify_items": null,
            "grid_row": null,
            "max_height": null,
            "align_content": null,
            "visibility": null,
            "align_self": null,
            "height": null,
            "min_height": null,
            "padding": null,
            "grid_auto_rows": null,
            "grid_gap": null,
            "max_width": null,
            "order": null,
            "_view_module_version": "1.2.0",
            "grid_template_areas": null,
            "object_position": null,
            "object_fit": null,
            "grid_auto_columns": null,
            "margin": null,
            "display": null,
            "left": null
          }
        },
        "7dcae7280edf4466a96879fe2a608d8a": {
          "model_module": "@jupyter-widgets/controls",
          "model_name": "FloatProgressModel",
          "state": {
            "_view_name": "ProgressView",
            "style": "IPY_MODEL_e3997b893462441a8b0580d1ce99f2f3",
            "_dom_classes": [],
            "description": "#3: 100%",
            "_model_name": "FloatProgressModel",
            "bar_style": "success",
            "max": 141,
            "_view_module": "@jupyter-widgets/controls",
            "_model_module_version": "1.5.0",
            "value": 141,
            "_view_count": null,
            "_view_module_version": "1.5.0",
            "orientation": "horizontal",
            "min": 0,
            "description_tooltip": null,
            "_model_module": "@jupyter-widgets/controls",
            "layout": "IPY_MODEL_aa92efca7a5b4dda83c5c843c1fa010f"
          }
        },
        "3120e05b929046678e738609eb822f0e": {
          "model_module": "@jupyter-widgets/controls",
          "model_name": "HTMLModel",
          "state": {
            "_view_name": "HTMLView",
            "style": "IPY_MODEL_1f76597fbbf7413aa9b14ffadac7469c",
            "_dom_classes": [],
            "description": "",
            "_model_name": "HTMLModel",
            "placeholder": "​",
            "_view_module": "@jupyter-widgets/controls",
            "_model_module_version": "1.5.0",
            "value": " 141/141 [01:11&lt;00:00,  1.97ba/s]",
            "_view_count": null,
            "_view_module_version": "1.5.0",
            "description_tooltip": null,
            "_model_module": "@jupyter-widgets/controls",
            "layout": "IPY_MODEL_a9bcdd88f60b4e1fa97ab68caa6c7ba5"
          }
        },
        "e3997b893462441a8b0580d1ce99f2f3": {
          "model_module": "@jupyter-widgets/controls",
          "model_name": "ProgressStyleModel",
          "state": {
            "_view_name": "StyleView",
            "_model_name": "ProgressStyleModel",
            "description_width": "initial",
            "_view_module": "@jupyter-widgets/base",
            "_model_module_version": "1.5.0",
            "_view_count": null,
            "_view_module_version": "1.2.0",
            "bar_color": null,
            "_model_module": "@jupyter-widgets/controls"
          }
        },
        "aa92efca7a5b4dda83c5c843c1fa010f": {
          "model_module": "@jupyter-widgets/base",
          "model_name": "LayoutModel",
          "state": {
            "_view_name": "LayoutView",
            "grid_template_rows": null,
            "right": null,
            "justify_content": null,
            "_view_module": "@jupyter-widgets/base",
            "overflow": null,
            "_model_module_version": "1.2.0",
            "_view_count": null,
            "flex_flow": null,
            "width": null,
            "min_width": null,
            "border": null,
            "align_items": null,
            "bottom": null,
            "_model_module": "@jupyter-widgets/base",
            "top": null,
            "grid_column": null,
            "overflow_y": null,
            "overflow_x": null,
            "grid_auto_flow": null,
            "grid_area": null,
            "grid_template_columns": null,
            "flex": null,
            "_model_name": "LayoutModel",
            "justify_items": null,
            "grid_row": null,
            "max_height": null,
            "align_content": null,
            "visibility": null,
            "align_self": null,
            "height": null,
            "min_height": null,
            "padding": null,
            "grid_auto_rows": null,
            "grid_gap": null,
            "max_width": null,
            "order": null,
            "_view_module_version": "1.2.0",
            "grid_template_areas": null,
            "object_position": null,
            "object_fit": null,
            "grid_auto_columns": null,
            "margin": null,
            "display": null,
            "left": null
          }
        },
        "1f76597fbbf7413aa9b14ffadac7469c": {
          "model_module": "@jupyter-widgets/controls",
          "model_name": "DescriptionStyleModel",
          "state": {
            "_view_name": "StyleView",
            "_model_name": "DescriptionStyleModel",
            "description_width": "",
            "_view_module": "@jupyter-widgets/base",
            "_model_module_version": "1.5.0",
            "_view_count": null,
            "_view_module_version": "1.2.0",
            "_model_module": "@jupyter-widgets/controls"
          }
        },
        "a9bcdd88f60b4e1fa97ab68caa6c7ba5": {
          "model_module": "@jupyter-widgets/base",
          "model_name": "LayoutModel",
          "state": {
            "_view_name": "LayoutView",
            "grid_template_rows": null,
            "right": null,
            "justify_content": null,
            "_view_module": "@jupyter-widgets/base",
            "overflow": null,
            "_model_module_version": "1.2.0",
            "_view_count": null,
            "flex_flow": null,
            "width": null,
            "min_width": null,
            "border": null,
            "align_items": null,
            "bottom": null,
            "_model_module": "@jupyter-widgets/base",
            "top": null,
            "grid_column": null,
            "overflow_y": null,
            "overflow_x": null,
            "grid_auto_flow": null,
            "grid_area": null,
            "grid_template_columns": null,
            "flex": null,
            "_model_name": "LayoutModel",
            "justify_items": null,
            "grid_row": null,
            "max_height": null,
            "align_content": null,
            "visibility": null,
            "align_self": null,
            "height": null,
            "min_height": null,
            "padding": null,
            "grid_auto_rows": null,
            "grid_gap": null,
            "max_width": null,
            "order": null,
            "_view_module_version": "1.2.0",
            "grid_template_areas": null,
            "object_position": null,
            "object_fit": null,
            "grid_auto_columns": null,
            "margin": null,
            "display": null,
            "left": null
          }
        },
        "693a10d53dff48e1818a7e81c35a1a12": {
          "model_module": "@jupyter-widgets/controls",
          "model_name": "HBoxModel",
          "state": {
            "_view_name": "HBoxView",
            "_dom_classes": [],
            "_model_name": "HBoxModel",
            "_view_module": "@jupyter-widgets/controls",
            "_model_module_version": "1.5.0",
            "_view_count": null,
            "_view_module_version": "1.5.0",
            "box_style": "",
            "layout": "IPY_MODEL_9b4f1cbcd4db4f9196735320b3e8c8da",
            "_model_module": "@jupyter-widgets/controls",
            "children": [
              "IPY_MODEL_f0ec35d89b2d4aa4a97cf92ffb8177d6",
              "IPY_MODEL_17f8a7995664409f80bb0d6cb117c820"
            ]
          }
        },
        "9b4f1cbcd4db4f9196735320b3e8c8da": {
          "model_module": "@jupyter-widgets/base",
          "model_name": "LayoutModel",
          "state": {
            "_view_name": "LayoutView",
            "grid_template_rows": null,
            "right": null,
            "justify_content": null,
            "_view_module": "@jupyter-widgets/base",
            "overflow": null,
            "_model_module_version": "1.2.0",
            "_view_count": null,
            "flex_flow": null,
            "width": null,
            "min_width": null,
            "border": null,
            "align_items": null,
            "bottom": null,
            "_model_module": "@jupyter-widgets/base",
            "top": null,
            "grid_column": null,
            "overflow_y": null,
            "overflow_x": null,
            "grid_auto_flow": null,
            "grid_area": null,
            "grid_template_columns": null,
            "flex": null,
            "_model_name": "LayoutModel",
            "justify_items": null,
            "grid_row": null,
            "max_height": null,
            "align_content": null,
            "visibility": null,
            "align_self": null,
            "height": null,
            "min_height": null,
            "padding": null,
            "grid_auto_rows": null,
            "grid_gap": null,
            "max_width": null,
            "order": null,
            "_view_module_version": "1.2.0",
            "grid_template_areas": null,
            "object_position": null,
            "object_fit": null,
            "grid_auto_columns": null,
            "margin": null,
            "display": null,
            "left": null
          }
        },
        "f0ec35d89b2d4aa4a97cf92ffb8177d6": {
          "model_module": "@jupyter-widgets/controls",
          "model_name": "FloatProgressModel",
          "state": {
            "_view_name": "ProgressView",
            "style": "IPY_MODEL_53f46b1547f34ef3aa4710eef7a5029c",
            "_dom_classes": [],
            "description": "#2: 100%",
            "_model_name": "FloatProgressModel",
            "bar_style": "success",
            "max": 141,
            "_view_module": "@jupyter-widgets/controls",
            "_model_module_version": "1.5.0",
            "value": 141,
            "_view_count": null,
            "_view_module_version": "1.5.0",
            "orientation": "horizontal",
            "min": 0,
            "description_tooltip": null,
            "_model_module": "@jupyter-widgets/controls",
            "layout": "IPY_MODEL_b9a541b053794432b13ecffd9007054f"
          }
        },
        "17f8a7995664409f80bb0d6cb117c820": {
          "model_module": "@jupyter-widgets/controls",
          "model_name": "HTMLModel",
          "state": {
            "_view_name": "HTMLView",
            "style": "IPY_MODEL_af8ce4e165624b3cb04b0b96279bd00c",
            "_dom_classes": [],
            "description": "",
            "_model_name": "HTMLModel",
            "placeholder": "​",
            "_view_module": "@jupyter-widgets/controls",
            "_model_module_version": "1.5.0",
            "value": " 141/141 [01:11&lt;00:00,  1.97ba/s]",
            "_view_count": null,
            "_view_module_version": "1.5.0",
            "description_tooltip": null,
            "_model_module": "@jupyter-widgets/controls",
            "layout": "IPY_MODEL_b452dc4323e94eb5863e3c55618c4962"
          }
        },
        "53f46b1547f34ef3aa4710eef7a5029c": {
          "model_module": "@jupyter-widgets/controls",
          "model_name": "ProgressStyleModel",
          "state": {
            "_view_name": "StyleView",
            "_model_name": "ProgressStyleModel",
            "description_width": "initial",
            "_view_module": "@jupyter-widgets/base",
            "_model_module_version": "1.5.0",
            "_view_count": null,
            "_view_module_version": "1.2.0",
            "bar_color": null,
            "_model_module": "@jupyter-widgets/controls"
          }
        },
        "b9a541b053794432b13ecffd9007054f": {
          "model_module": "@jupyter-widgets/base",
          "model_name": "LayoutModel",
          "state": {
            "_view_name": "LayoutView",
            "grid_template_rows": null,
            "right": null,
            "justify_content": null,
            "_view_module": "@jupyter-widgets/base",
            "overflow": null,
            "_model_module_version": "1.2.0",
            "_view_count": null,
            "flex_flow": null,
            "width": null,
            "min_width": null,
            "border": null,
            "align_items": null,
            "bottom": null,
            "_model_module": "@jupyter-widgets/base",
            "top": null,
            "grid_column": null,
            "overflow_y": null,
            "overflow_x": null,
            "grid_auto_flow": null,
            "grid_area": null,
            "grid_template_columns": null,
            "flex": null,
            "_model_name": "LayoutModel",
            "justify_items": null,
            "grid_row": null,
            "max_height": null,
            "align_content": null,
            "visibility": null,
            "align_self": null,
            "height": null,
            "min_height": null,
            "padding": null,
            "grid_auto_rows": null,
            "grid_gap": null,
            "max_width": null,
            "order": null,
            "_view_module_version": "1.2.0",
            "grid_template_areas": null,
            "object_position": null,
            "object_fit": null,
            "grid_auto_columns": null,
            "margin": null,
            "display": null,
            "left": null
          }
        },
        "af8ce4e165624b3cb04b0b96279bd00c": {
          "model_module": "@jupyter-widgets/controls",
          "model_name": "DescriptionStyleModel",
          "state": {
            "_view_name": "StyleView",
            "_model_name": "DescriptionStyleModel",
            "description_width": "",
            "_view_module": "@jupyter-widgets/base",
            "_model_module_version": "1.5.0",
            "_view_count": null,
            "_view_module_version": "1.2.0",
            "_model_module": "@jupyter-widgets/controls"
          }
        },
        "b452dc4323e94eb5863e3c55618c4962": {
          "model_module": "@jupyter-widgets/base",
          "model_name": "LayoutModel",
          "state": {
            "_view_name": "LayoutView",
            "grid_template_rows": null,
            "right": null,
            "justify_content": null,
            "_view_module": "@jupyter-widgets/base",
            "overflow": null,
            "_model_module_version": "1.2.0",
            "_view_count": null,
            "flex_flow": null,
            "width": null,
            "min_width": null,
            "border": null,
            "align_items": null,
            "bottom": null,
            "_model_module": "@jupyter-widgets/base",
            "top": null,
            "grid_column": null,
            "overflow_y": null,
            "overflow_x": null,
            "grid_auto_flow": null,
            "grid_area": null,
            "grid_template_columns": null,
            "flex": null,
            "_model_name": "LayoutModel",
            "justify_items": null,
            "grid_row": null,
            "max_height": null,
            "align_content": null,
            "visibility": null,
            "align_self": null,
            "height": null,
            "min_height": null,
            "padding": null,
            "grid_auto_rows": null,
            "grid_gap": null,
            "max_width": null,
            "order": null,
            "_view_module_version": "1.2.0",
            "grid_template_areas": null,
            "object_position": null,
            "object_fit": null,
            "grid_auto_columns": null,
            "margin": null,
            "display": null,
            "left": null
          }
        },
        "c5584c6fee7a4da3a6807a9742c3d6e9": {
          "model_module": "@jupyter-widgets/controls",
          "model_name": "HBoxModel",
          "state": {
            "_view_name": "HBoxView",
            "_dom_classes": [],
            "_model_name": "HBoxModel",
            "_view_module": "@jupyter-widgets/controls",
            "_model_module_version": "1.5.0",
            "_view_count": null,
            "_view_module_version": "1.5.0",
            "box_style": "",
            "layout": "IPY_MODEL_14f3d86e57d64317b7461eed7f3f14ec",
            "_model_module": "@jupyter-widgets/controls",
            "children": [
              "IPY_MODEL_926f68340fa5497b90541765b3fb7c5f",
              "IPY_MODEL_3f3fc96eafda4bad97c9b55200dc26c2"
            ]
          }
        },
        "14f3d86e57d64317b7461eed7f3f14ec": {
          "model_module": "@jupyter-widgets/base",
          "model_name": "LayoutModel",
          "state": {
            "_view_name": "LayoutView",
            "grid_template_rows": null,
            "right": null,
            "justify_content": null,
            "_view_module": "@jupyter-widgets/base",
            "overflow": null,
            "_model_module_version": "1.2.0",
            "_view_count": null,
            "flex_flow": null,
            "width": null,
            "min_width": null,
            "border": null,
            "align_items": null,
            "bottom": null,
            "_model_module": "@jupyter-widgets/base",
            "top": null,
            "grid_column": null,
            "overflow_y": null,
            "overflow_x": null,
            "grid_auto_flow": null,
            "grid_area": null,
            "grid_template_columns": null,
            "flex": null,
            "_model_name": "LayoutModel",
            "justify_items": null,
            "grid_row": null,
            "max_height": null,
            "align_content": null,
            "visibility": null,
            "align_self": null,
            "height": null,
            "min_height": null,
            "padding": null,
            "grid_auto_rows": null,
            "grid_gap": null,
            "max_width": null,
            "order": null,
            "_view_module_version": "1.2.0",
            "grid_template_areas": null,
            "object_position": null,
            "object_fit": null,
            "grid_auto_columns": null,
            "margin": null,
            "display": null,
            "left": null
          }
        },
        "926f68340fa5497b90541765b3fb7c5f": {
          "model_module": "@jupyter-widgets/controls",
          "model_name": "FloatProgressModel",
          "state": {
            "_view_name": "ProgressView",
            "style": "IPY_MODEL_f10403e3249e449381470776421bc16a",
            "_dom_classes": [],
            "description": "#0: 100%",
            "_model_name": "FloatProgressModel",
            "bar_style": "success",
            "max": 16,
            "_view_module": "@jupyter-widgets/controls",
            "_model_module_version": "1.5.0",
            "value": 16,
            "_view_count": null,
            "_view_module_version": "1.5.0",
            "orientation": "horizontal",
            "min": 0,
            "description_tooltip": null,
            "_model_module": "@jupyter-widgets/controls",
            "layout": "IPY_MODEL_1740fc85006c413aa3981a4cf4933325"
          }
        },
        "3f3fc96eafda4bad97c9b55200dc26c2": {
          "model_module": "@jupyter-widgets/controls",
          "model_name": "HTMLModel",
          "state": {
            "_view_name": "HTMLView",
            "style": "IPY_MODEL_26fa24fdb27a469393b41f45ac0cd292",
            "_dom_classes": [],
            "description": "",
            "_model_name": "HTMLModel",
            "placeholder": "​",
            "_view_module": "@jupyter-widgets/controls",
            "_model_module_version": "1.5.0",
            "value": " 16/16 [00:08&lt;00:00,  1.80ba/s]",
            "_view_count": null,
            "_view_module_version": "1.5.0",
            "description_tooltip": null,
            "_model_module": "@jupyter-widgets/controls",
            "layout": "IPY_MODEL_6206bcdb06c142f79e26e4c317140421"
          }
        },
        "f10403e3249e449381470776421bc16a": {
          "model_module": "@jupyter-widgets/controls",
          "model_name": "ProgressStyleModel",
          "state": {
            "_view_name": "StyleView",
            "_model_name": "ProgressStyleModel",
            "description_width": "initial",
            "_view_module": "@jupyter-widgets/base",
            "_model_module_version": "1.5.0",
            "_view_count": null,
            "_view_module_version": "1.2.0",
            "bar_color": null,
            "_model_module": "@jupyter-widgets/controls"
          }
        },
        "1740fc85006c413aa3981a4cf4933325": {
          "model_module": "@jupyter-widgets/base",
          "model_name": "LayoutModel",
          "state": {
            "_view_name": "LayoutView",
            "grid_template_rows": null,
            "right": null,
            "justify_content": null,
            "_view_module": "@jupyter-widgets/base",
            "overflow": null,
            "_model_module_version": "1.2.0",
            "_view_count": null,
            "flex_flow": null,
            "width": null,
            "min_width": null,
            "border": null,
            "align_items": null,
            "bottom": null,
            "_model_module": "@jupyter-widgets/base",
            "top": null,
            "grid_column": null,
            "overflow_y": null,
            "overflow_x": null,
            "grid_auto_flow": null,
            "grid_area": null,
            "grid_template_columns": null,
            "flex": null,
            "_model_name": "LayoutModel",
            "justify_items": null,
            "grid_row": null,
            "max_height": null,
            "align_content": null,
            "visibility": null,
            "align_self": null,
            "height": null,
            "min_height": null,
            "padding": null,
            "grid_auto_rows": null,
            "grid_gap": null,
            "max_width": null,
            "order": null,
            "_view_module_version": "1.2.0",
            "grid_template_areas": null,
            "object_position": null,
            "object_fit": null,
            "grid_auto_columns": null,
            "margin": null,
            "display": null,
            "left": null
          }
        },
        "26fa24fdb27a469393b41f45ac0cd292": {
          "model_module": "@jupyter-widgets/controls",
          "model_name": "DescriptionStyleModel",
          "state": {
            "_view_name": "StyleView",
            "_model_name": "DescriptionStyleModel",
            "description_width": "",
            "_view_module": "@jupyter-widgets/base",
            "_model_module_version": "1.5.0",
            "_view_count": null,
            "_view_module_version": "1.2.0",
            "_model_module": "@jupyter-widgets/controls"
          }
        },
        "6206bcdb06c142f79e26e4c317140421": {
          "model_module": "@jupyter-widgets/base",
          "model_name": "LayoutModel",
          "state": {
            "_view_name": "LayoutView",
            "grid_template_rows": null,
            "right": null,
            "justify_content": null,
            "_view_module": "@jupyter-widgets/base",
            "overflow": null,
            "_model_module_version": "1.2.0",
            "_view_count": null,
            "flex_flow": null,
            "width": null,
            "min_width": null,
            "border": null,
            "align_items": null,
            "bottom": null,
            "_model_module": "@jupyter-widgets/base",
            "top": null,
            "grid_column": null,
            "overflow_y": null,
            "overflow_x": null,
            "grid_auto_flow": null,
            "grid_area": null,
            "grid_template_columns": null,
            "flex": null,
            "_model_name": "LayoutModel",
            "justify_items": null,
            "grid_row": null,
            "max_height": null,
            "align_content": null,
            "visibility": null,
            "align_self": null,
            "height": null,
            "min_height": null,
            "padding": null,
            "grid_auto_rows": null,
            "grid_gap": null,
            "max_width": null,
            "order": null,
            "_view_module_version": "1.2.0",
            "grid_template_areas": null,
            "object_position": null,
            "object_fit": null,
            "grid_auto_columns": null,
            "margin": null,
            "display": null,
            "left": null
          }
        },
        "70e1e658357248e3b6085a24ac5e1788": {
          "model_module": "@jupyter-widgets/controls",
          "model_name": "HBoxModel",
          "state": {
            "_view_name": "HBoxView",
            "_dom_classes": [],
            "_model_name": "HBoxModel",
            "_view_module": "@jupyter-widgets/controls",
            "_model_module_version": "1.5.0",
            "_view_count": null,
            "_view_module_version": "1.5.0",
            "box_style": "",
            "layout": "IPY_MODEL_3c3708390feb417c9b728ac2a213b65e",
            "_model_module": "@jupyter-widgets/controls",
            "children": [
              "IPY_MODEL_fb3dd68d697147259b0ef89d49d21973",
              "IPY_MODEL_5506d97e9dbc4723be157321eb41475a"
            ]
          }
        },
        "3c3708390feb417c9b728ac2a213b65e": {
          "model_module": "@jupyter-widgets/base",
          "model_name": "LayoutModel",
          "state": {
            "_view_name": "LayoutView",
            "grid_template_rows": null,
            "right": null,
            "justify_content": null,
            "_view_module": "@jupyter-widgets/base",
            "overflow": null,
            "_model_module_version": "1.2.0",
            "_view_count": null,
            "flex_flow": null,
            "width": null,
            "min_width": null,
            "border": null,
            "align_items": null,
            "bottom": null,
            "_model_module": "@jupyter-widgets/base",
            "top": null,
            "grid_column": null,
            "overflow_y": null,
            "overflow_x": null,
            "grid_auto_flow": null,
            "grid_area": null,
            "grid_template_columns": null,
            "flex": null,
            "_model_name": "LayoutModel",
            "justify_items": null,
            "grid_row": null,
            "max_height": null,
            "align_content": null,
            "visibility": null,
            "align_self": null,
            "height": null,
            "min_height": null,
            "padding": null,
            "grid_auto_rows": null,
            "grid_gap": null,
            "max_width": null,
            "order": null,
            "_view_module_version": "1.2.0",
            "grid_template_areas": null,
            "object_position": null,
            "object_fit": null,
            "grid_auto_columns": null,
            "margin": null,
            "display": null,
            "left": null
          }
        },
        "fb3dd68d697147259b0ef89d49d21973": {
          "model_module": "@jupyter-widgets/controls",
          "model_name": "FloatProgressModel",
          "state": {
            "_view_name": "ProgressView",
            "style": "IPY_MODEL_3be54629c84b4c4e8cfa19767d5bc75e",
            "_dom_classes": [],
            "description": "#1: 100%",
            "_model_name": "FloatProgressModel",
            "bar_style": "success",
            "max": 16,
            "_view_module": "@jupyter-widgets/controls",
            "_model_module_version": "1.5.0",
            "value": 16,
            "_view_count": null,
            "_view_module_version": "1.5.0",
            "orientation": "horizontal",
            "min": 0,
            "description_tooltip": null,
            "_model_module": "@jupyter-widgets/controls",
            "layout": "IPY_MODEL_69a48123502d46fc996311c70122b134"
          }
        },
        "5506d97e9dbc4723be157321eb41475a": {
          "model_module": "@jupyter-widgets/controls",
          "model_name": "HTMLModel",
          "state": {
            "_view_name": "HTMLView",
            "style": "IPY_MODEL_362276e4388d4c50a1859b042b262280",
            "_dom_classes": [],
            "description": "",
            "_model_name": "HTMLModel",
            "placeholder": "​",
            "_view_module": "@jupyter-widgets/controls",
            "_model_module_version": "1.5.0",
            "value": " 16/16 [00:08&lt;00:00,  1.78ba/s]",
            "_view_count": null,
            "_view_module_version": "1.5.0",
            "description_tooltip": null,
            "_model_module": "@jupyter-widgets/controls",
            "layout": "IPY_MODEL_2d05c7ff87aa4fafaa176bb79f3b4450"
          }
        },
        "3be54629c84b4c4e8cfa19767d5bc75e": {
          "model_module": "@jupyter-widgets/controls",
          "model_name": "ProgressStyleModel",
          "state": {
            "_view_name": "StyleView",
            "_model_name": "ProgressStyleModel",
            "description_width": "initial",
            "_view_module": "@jupyter-widgets/base",
            "_model_module_version": "1.5.0",
            "_view_count": null,
            "_view_module_version": "1.2.0",
            "bar_color": null,
            "_model_module": "@jupyter-widgets/controls"
          }
        },
        "69a48123502d46fc996311c70122b134": {
          "model_module": "@jupyter-widgets/base",
          "model_name": "LayoutModel",
          "state": {
            "_view_name": "LayoutView",
            "grid_template_rows": null,
            "right": null,
            "justify_content": null,
            "_view_module": "@jupyter-widgets/base",
            "overflow": null,
            "_model_module_version": "1.2.0",
            "_view_count": null,
            "flex_flow": null,
            "width": null,
            "min_width": null,
            "border": null,
            "align_items": null,
            "bottom": null,
            "_model_module": "@jupyter-widgets/base",
            "top": null,
            "grid_column": null,
            "overflow_y": null,
            "overflow_x": null,
            "grid_auto_flow": null,
            "grid_area": null,
            "grid_template_columns": null,
            "flex": null,
            "_model_name": "LayoutModel",
            "justify_items": null,
            "grid_row": null,
            "max_height": null,
            "align_content": null,
            "visibility": null,
            "align_self": null,
            "height": null,
            "min_height": null,
            "padding": null,
            "grid_auto_rows": null,
            "grid_gap": null,
            "max_width": null,
            "order": null,
            "_view_module_version": "1.2.0",
            "grid_template_areas": null,
            "object_position": null,
            "object_fit": null,
            "grid_auto_columns": null,
            "margin": null,
            "display": null,
            "left": null
          }
        },
        "362276e4388d4c50a1859b042b262280": {
          "model_module": "@jupyter-widgets/controls",
          "model_name": "DescriptionStyleModel",
          "state": {
            "_view_name": "StyleView",
            "_model_name": "DescriptionStyleModel",
            "description_width": "",
            "_view_module": "@jupyter-widgets/base",
            "_model_module_version": "1.5.0",
            "_view_count": null,
            "_view_module_version": "1.2.0",
            "_model_module": "@jupyter-widgets/controls"
          }
        },
        "2d05c7ff87aa4fafaa176bb79f3b4450": {
          "model_module": "@jupyter-widgets/base",
          "model_name": "LayoutModel",
          "state": {
            "_view_name": "LayoutView",
            "grid_template_rows": null,
            "right": null,
            "justify_content": null,
            "_view_module": "@jupyter-widgets/base",
            "overflow": null,
            "_model_module_version": "1.2.0",
            "_view_count": null,
            "flex_flow": null,
            "width": null,
            "min_width": null,
            "border": null,
            "align_items": null,
            "bottom": null,
            "_model_module": "@jupyter-widgets/base",
            "top": null,
            "grid_column": null,
            "overflow_y": null,
            "overflow_x": null,
            "grid_auto_flow": null,
            "grid_area": null,
            "grid_template_columns": null,
            "flex": null,
            "_model_name": "LayoutModel",
            "justify_items": null,
            "grid_row": null,
            "max_height": null,
            "align_content": null,
            "visibility": null,
            "align_self": null,
            "height": null,
            "min_height": null,
            "padding": null,
            "grid_auto_rows": null,
            "grid_gap": null,
            "max_width": null,
            "order": null,
            "_view_module_version": "1.2.0",
            "grid_template_areas": null,
            "object_position": null,
            "object_fit": null,
            "grid_auto_columns": null,
            "margin": null,
            "display": null,
            "left": null
          }
        },
        "34e4ff5b5ad449988ac9981c5913bb46": {
          "model_module": "@jupyter-widgets/controls",
          "model_name": "HBoxModel",
          "state": {
            "_view_name": "HBoxView",
            "_dom_classes": [],
            "_model_name": "HBoxModel",
            "_view_module": "@jupyter-widgets/controls",
            "_model_module_version": "1.5.0",
            "_view_count": null,
            "_view_module_version": "1.5.0",
            "box_style": "",
            "layout": "IPY_MODEL_87a41b1d3f70421f934f6dfe272510cd",
            "_model_module": "@jupyter-widgets/controls",
            "children": [
              "IPY_MODEL_7364c41ec2d540a8b84e1e5d9d615d63",
              "IPY_MODEL_e20935510abc4518a3f209002215ea18"
            ]
          }
        },
        "87a41b1d3f70421f934f6dfe272510cd": {
          "model_module": "@jupyter-widgets/base",
          "model_name": "LayoutModel",
          "state": {
            "_view_name": "LayoutView",
            "grid_template_rows": null,
            "right": null,
            "justify_content": null,
            "_view_module": "@jupyter-widgets/base",
            "overflow": null,
            "_model_module_version": "1.2.0",
            "_view_count": null,
            "flex_flow": null,
            "width": null,
            "min_width": null,
            "border": null,
            "align_items": null,
            "bottom": null,
            "_model_module": "@jupyter-widgets/base",
            "top": null,
            "grid_column": null,
            "overflow_y": null,
            "overflow_x": null,
            "grid_auto_flow": null,
            "grid_area": null,
            "grid_template_columns": null,
            "flex": null,
            "_model_name": "LayoutModel",
            "justify_items": null,
            "grid_row": null,
            "max_height": null,
            "align_content": null,
            "visibility": null,
            "align_self": null,
            "height": null,
            "min_height": null,
            "padding": null,
            "grid_auto_rows": null,
            "grid_gap": null,
            "max_width": null,
            "order": null,
            "_view_module_version": "1.2.0",
            "grid_template_areas": null,
            "object_position": null,
            "object_fit": null,
            "grid_auto_columns": null,
            "margin": null,
            "display": null,
            "left": null
          }
        },
        "7364c41ec2d540a8b84e1e5d9d615d63": {
          "model_module": "@jupyter-widgets/controls",
          "model_name": "FloatProgressModel",
          "state": {
            "_view_name": "ProgressView",
            "style": "IPY_MODEL_7aa1aefd5f7f4a3e88c022c78eb3d8a0",
            "_dom_classes": [],
            "description": "#3: 100%",
            "_model_name": "FloatProgressModel",
            "bar_style": "success",
            "max": 16,
            "_view_module": "@jupyter-widgets/controls",
            "_model_module_version": "1.5.0",
            "value": 16,
            "_view_count": null,
            "_view_module_version": "1.5.0",
            "orientation": "horizontal",
            "min": 0,
            "description_tooltip": null,
            "_model_module": "@jupyter-widgets/controls",
            "layout": "IPY_MODEL_1ed8239a71134a76a5881bad53f87b0f"
          }
        },
        "e20935510abc4518a3f209002215ea18": {
          "model_module": "@jupyter-widgets/controls",
          "model_name": "HTMLModel",
          "state": {
            "_view_name": "HTMLView",
            "style": "IPY_MODEL_66d31df965bd4166962b47bc66026145",
            "_dom_classes": [],
            "description": "",
            "_model_name": "HTMLModel",
            "placeholder": "​",
            "_view_module": "@jupyter-widgets/controls",
            "_model_module_version": "1.5.0",
            "value": " 16/16 [00:08&lt;00:00,  1.83ba/s]",
            "_view_count": null,
            "_view_module_version": "1.5.0",
            "description_tooltip": null,
            "_model_module": "@jupyter-widgets/controls",
            "layout": "IPY_MODEL_6068ba6e9940433bb411473222274da0"
          }
        },
        "7aa1aefd5f7f4a3e88c022c78eb3d8a0": {
          "model_module": "@jupyter-widgets/controls",
          "model_name": "ProgressStyleModel",
          "state": {
            "_view_name": "StyleView",
            "_model_name": "ProgressStyleModel",
            "description_width": "initial",
            "_view_module": "@jupyter-widgets/base",
            "_model_module_version": "1.5.0",
            "_view_count": null,
            "_view_module_version": "1.2.0",
            "bar_color": null,
            "_model_module": "@jupyter-widgets/controls"
          }
        },
        "1ed8239a71134a76a5881bad53f87b0f": {
          "model_module": "@jupyter-widgets/base",
          "model_name": "LayoutModel",
          "state": {
            "_view_name": "LayoutView",
            "grid_template_rows": null,
            "right": null,
            "justify_content": null,
            "_view_module": "@jupyter-widgets/base",
            "overflow": null,
            "_model_module_version": "1.2.0",
            "_view_count": null,
            "flex_flow": null,
            "width": null,
            "min_width": null,
            "border": null,
            "align_items": null,
            "bottom": null,
            "_model_module": "@jupyter-widgets/base",
            "top": null,
            "grid_column": null,
            "overflow_y": null,
            "overflow_x": null,
            "grid_auto_flow": null,
            "grid_area": null,
            "grid_template_columns": null,
            "flex": null,
            "_model_name": "LayoutModel",
            "justify_items": null,
            "grid_row": null,
            "max_height": null,
            "align_content": null,
            "visibility": null,
            "align_self": null,
            "height": null,
            "min_height": null,
            "padding": null,
            "grid_auto_rows": null,
            "grid_gap": null,
            "max_width": null,
            "order": null,
            "_view_module_version": "1.2.0",
            "grid_template_areas": null,
            "object_position": null,
            "object_fit": null,
            "grid_auto_columns": null,
            "margin": null,
            "display": null,
            "left": null
          }
        },
        "66d31df965bd4166962b47bc66026145": {
          "model_module": "@jupyter-widgets/controls",
          "model_name": "DescriptionStyleModel",
          "state": {
            "_view_name": "StyleView",
            "_model_name": "DescriptionStyleModel",
            "description_width": "",
            "_view_module": "@jupyter-widgets/base",
            "_model_module_version": "1.5.0",
            "_view_count": null,
            "_view_module_version": "1.2.0",
            "_model_module": "@jupyter-widgets/controls"
          }
        },
        "6068ba6e9940433bb411473222274da0": {
          "model_module": "@jupyter-widgets/base",
          "model_name": "LayoutModel",
          "state": {
            "_view_name": "LayoutView",
            "grid_template_rows": null,
            "right": null,
            "justify_content": null,
            "_view_module": "@jupyter-widgets/base",
            "overflow": null,
            "_model_module_version": "1.2.0",
            "_view_count": null,
            "flex_flow": null,
            "width": null,
            "min_width": null,
            "border": null,
            "align_items": null,
            "bottom": null,
            "_model_module": "@jupyter-widgets/base",
            "top": null,
            "grid_column": null,
            "overflow_y": null,
            "overflow_x": null,
            "grid_auto_flow": null,
            "grid_area": null,
            "grid_template_columns": null,
            "flex": null,
            "_model_name": "LayoutModel",
            "justify_items": null,
            "grid_row": null,
            "max_height": null,
            "align_content": null,
            "visibility": null,
            "align_self": null,
            "height": null,
            "min_height": null,
            "padding": null,
            "grid_auto_rows": null,
            "grid_gap": null,
            "max_width": null,
            "order": null,
            "_view_module_version": "1.2.0",
            "grid_template_areas": null,
            "object_position": null,
            "object_fit": null,
            "grid_auto_columns": null,
            "margin": null,
            "display": null,
            "left": null
          }
        },
        "2f41c0dc9dc94156bd32c624cc4be508": {
          "model_module": "@jupyter-widgets/controls",
          "model_name": "HBoxModel",
          "state": {
            "_view_name": "HBoxView",
            "_dom_classes": [],
            "_model_name": "HBoxModel",
            "_view_module": "@jupyter-widgets/controls",
            "_model_module_version": "1.5.0",
            "_view_count": null,
            "_view_module_version": "1.5.0",
            "box_style": "",
            "layout": "IPY_MODEL_594374f1280941e59556e4f7c7547f9b",
            "_model_module": "@jupyter-widgets/controls",
            "children": [
              "IPY_MODEL_56b9bb3ffdbc494180e62d74234fead6",
              "IPY_MODEL_9c28b3ad6a424300b3f31701e1177958"
            ]
          }
        },
        "594374f1280941e59556e4f7c7547f9b": {
          "model_module": "@jupyter-widgets/base",
          "model_name": "LayoutModel",
          "state": {
            "_view_name": "LayoutView",
            "grid_template_rows": null,
            "right": null,
            "justify_content": null,
            "_view_module": "@jupyter-widgets/base",
            "overflow": null,
            "_model_module_version": "1.2.0",
            "_view_count": null,
            "flex_flow": null,
            "width": null,
            "min_width": null,
            "border": null,
            "align_items": null,
            "bottom": null,
            "_model_module": "@jupyter-widgets/base",
            "top": null,
            "grid_column": null,
            "overflow_y": null,
            "overflow_x": null,
            "grid_auto_flow": null,
            "grid_area": null,
            "grid_template_columns": null,
            "flex": null,
            "_model_name": "LayoutModel",
            "justify_items": null,
            "grid_row": null,
            "max_height": null,
            "align_content": null,
            "visibility": null,
            "align_self": null,
            "height": null,
            "min_height": null,
            "padding": null,
            "grid_auto_rows": null,
            "grid_gap": null,
            "max_width": null,
            "order": null,
            "_view_module_version": "1.2.0",
            "grid_template_areas": null,
            "object_position": null,
            "object_fit": null,
            "grid_auto_columns": null,
            "margin": null,
            "display": null,
            "left": null
          }
        },
        "56b9bb3ffdbc494180e62d74234fead6": {
          "model_module": "@jupyter-widgets/controls",
          "model_name": "FloatProgressModel",
          "state": {
            "_view_name": "ProgressView",
            "style": "IPY_MODEL_3db6872e3e7444239c33b33bec7bae4c",
            "_dom_classes": [],
            "description": "#2: 100%",
            "_model_name": "FloatProgressModel",
            "bar_style": "success",
            "max": 16,
            "_view_module": "@jupyter-widgets/controls",
            "_model_module_version": "1.5.0",
            "value": 16,
            "_view_count": null,
            "_view_module_version": "1.5.0",
            "orientation": "horizontal",
            "min": 0,
            "description_tooltip": null,
            "_model_module": "@jupyter-widgets/controls",
            "layout": "IPY_MODEL_bd0c7bdccdfd4f3b873004bbe76cc71e"
          }
        },
        "9c28b3ad6a424300b3f31701e1177958": {
          "model_module": "@jupyter-widgets/controls",
          "model_name": "HTMLModel",
          "state": {
            "_view_name": "HTMLView",
            "style": "IPY_MODEL_e8f657730468438e851a94f17ed004af",
            "_dom_classes": [],
            "description": "",
            "_model_name": "HTMLModel",
            "placeholder": "​",
            "_view_module": "@jupyter-widgets/controls",
            "_model_module_version": "1.5.0",
            "value": " 16/16 [00:08&lt;00:00,  1.88ba/s]",
            "_view_count": null,
            "_view_module_version": "1.5.0",
            "description_tooltip": null,
            "_model_module": "@jupyter-widgets/controls",
            "layout": "IPY_MODEL_186c522f426040408df30d5097d614b1"
          }
        },
        "3db6872e3e7444239c33b33bec7bae4c": {
          "model_module": "@jupyter-widgets/controls",
          "model_name": "ProgressStyleModel",
          "state": {
            "_view_name": "StyleView",
            "_model_name": "ProgressStyleModel",
            "description_width": "initial",
            "_view_module": "@jupyter-widgets/base",
            "_model_module_version": "1.5.0",
            "_view_count": null,
            "_view_module_version": "1.2.0",
            "bar_color": null,
            "_model_module": "@jupyter-widgets/controls"
          }
        },
        "bd0c7bdccdfd4f3b873004bbe76cc71e": {
          "model_module": "@jupyter-widgets/base",
          "model_name": "LayoutModel",
          "state": {
            "_view_name": "LayoutView",
            "grid_template_rows": null,
            "right": null,
            "justify_content": null,
            "_view_module": "@jupyter-widgets/base",
            "overflow": null,
            "_model_module_version": "1.2.0",
            "_view_count": null,
            "flex_flow": null,
            "width": null,
            "min_width": null,
            "border": null,
            "align_items": null,
            "bottom": null,
            "_model_module": "@jupyter-widgets/base",
            "top": null,
            "grid_column": null,
            "overflow_y": null,
            "overflow_x": null,
            "grid_auto_flow": null,
            "grid_area": null,
            "grid_template_columns": null,
            "flex": null,
            "_model_name": "LayoutModel",
            "justify_items": null,
            "grid_row": null,
            "max_height": null,
            "align_content": null,
            "visibility": null,
            "align_self": null,
            "height": null,
            "min_height": null,
            "padding": null,
            "grid_auto_rows": null,
            "grid_gap": null,
            "max_width": null,
            "order": null,
            "_view_module_version": "1.2.0",
            "grid_template_areas": null,
            "object_position": null,
            "object_fit": null,
            "grid_auto_columns": null,
            "margin": null,
            "display": null,
            "left": null
          }
        },
        "e8f657730468438e851a94f17ed004af": {
          "model_module": "@jupyter-widgets/controls",
          "model_name": "DescriptionStyleModel",
          "state": {
            "_view_name": "StyleView",
            "_model_name": "DescriptionStyleModel",
            "description_width": "",
            "_view_module": "@jupyter-widgets/base",
            "_model_module_version": "1.5.0",
            "_view_count": null,
            "_view_module_version": "1.2.0",
            "_model_module": "@jupyter-widgets/controls"
          }
        },
        "186c522f426040408df30d5097d614b1": {
          "model_module": "@jupyter-widgets/base",
          "model_name": "LayoutModel",
          "state": {
            "_view_name": "LayoutView",
            "grid_template_rows": null,
            "right": null,
            "justify_content": null,
            "_view_module": "@jupyter-widgets/base",
            "overflow": null,
            "_model_module_version": "1.2.0",
            "_view_count": null,
            "flex_flow": null,
            "width": null,
            "min_width": null,
            "border": null,
            "align_items": null,
            "bottom": null,
            "_model_module": "@jupyter-widgets/base",
            "top": null,
            "grid_column": null,
            "overflow_y": null,
            "overflow_x": null,
            "grid_auto_flow": null,
            "grid_area": null,
            "grid_template_columns": null,
            "flex": null,
            "_model_name": "LayoutModel",
            "justify_items": null,
            "grid_row": null,
            "max_height": null,
            "align_content": null,
            "visibility": null,
            "align_self": null,
            "height": null,
            "min_height": null,
            "padding": null,
            "grid_auto_rows": null,
            "grid_gap": null,
            "max_width": null,
            "order": null,
            "_view_module_version": "1.2.0",
            "grid_template_areas": null,
            "object_position": null,
            "object_fit": null,
            "grid_auto_columns": null,
            "margin": null,
            "display": null,
            "left": null
          }
        },
        "0799496c133641a1ae56c2d0bdbedf94": {
          "model_module": "@jupyter-widgets/controls",
          "model_name": "HBoxModel",
          "state": {
            "_dom_classes": [],
            "_model_module": "@jupyter-widgets/controls",
            "_model_module_version": "1.5.0",
            "_model_name": "HBoxModel",
            "_view_count": null,
            "_view_module": "@jupyter-widgets/controls",
            "_view_module_version": "1.5.0",
            "_view_name": "HBoxView",
            "box_style": "",
            "children": [
              "IPY_MODEL_e7ff5979d75b434491a14b4f485901d5",
              "IPY_MODEL_bb13abe1af1740d39c9f7a43ea99842e"
            ],
            "layout": "IPY_MODEL_9678e4b20e864913b1be7bc0a961ce4c"
          }
        },
        "e7ff5979d75b434491a14b4f485901d5": {
          "model_module": "@jupyter-widgets/controls",
          "model_name": "FloatProgressModel",
          "state": {
            "_dom_classes": [],
            "_model_module": "@jupyter-widgets/controls",
            "_model_module_version": "1.5.0",
            "_model_name": "FloatProgressModel",
            "_view_count": null,
            "_view_module": "@jupyter-widgets/controls",
            "_view_module_version": "1.5.0",
            "_view_name": "ProgressView",
            "bar_style": "success",
            "description": "Downloading: ",
            "description_tooltip": null,
            "layout": "IPY_MODEL_4bfa779cd7e04e3d8d22e3905348e8ef",
            "max": 1764,
            "min": 0,
            "orientation": "horizontal",
            "style": "IPY_MODEL_0ea1b1131fc04f7badbede7399d78c39",
            "value": 1764
          }
        },
        "bb13abe1af1740d39c9f7a43ea99842e": {
          "model_module": "@jupyter-widgets/controls",
          "model_name": "HTMLModel",
          "state": {
            "_dom_classes": [],
            "_model_module": "@jupyter-widgets/controls",
            "_model_module_version": "1.5.0",
            "_model_name": "HTMLModel",
            "_view_count": null,
            "_view_module": "@jupyter-widgets/controls",
            "_view_module_version": "1.5.0",
            "_view_name": "HTMLView",
            "description": "",
            "description_tooltip": null,
            "layout": "IPY_MODEL_0686c425d92a42a3abf2ba12798a09c4",
            "placeholder": "​",
            "style": "IPY_MODEL_4f1f421b3288492c81e8471a890e587e",
            "value": " 3.90k/? [00:00&lt;00:00, 8.52kB/s]"
          }
        },
        "9678e4b20e864913b1be7bc0a961ce4c": {
          "model_module": "@jupyter-widgets/base",
          "model_name": "LayoutModel",
          "state": {
            "_model_module": "@jupyter-widgets/base",
            "_model_module_version": "1.2.0",
            "_model_name": "LayoutModel",
            "_view_count": null,
            "_view_module": "@jupyter-widgets/base",
            "_view_module_version": "1.2.0",
            "_view_name": "LayoutView",
            "align_content": null,
            "align_items": null,
            "align_self": null,
            "border": null,
            "bottom": null,
            "display": null,
            "flex": null,
            "flex_flow": null,
            "grid_area": null,
            "grid_auto_columns": null,
            "grid_auto_flow": null,
            "grid_auto_rows": null,
            "grid_column": null,
            "grid_gap": null,
            "grid_row": null,
            "grid_template_areas": null,
            "grid_template_columns": null,
            "grid_template_rows": null,
            "height": null,
            "justify_content": null,
            "justify_items": null,
            "left": null,
            "margin": null,
            "max_height": null,
            "max_width": null,
            "min_height": null,
            "min_width": null,
            "object_fit": null,
            "object_position": null,
            "order": null,
            "overflow": null,
            "overflow_x": null,
            "overflow_y": null,
            "padding": null,
            "right": null,
            "top": null,
            "visibility": null,
            "width": null
          }
        },
        "4bfa779cd7e04e3d8d22e3905348e8ef": {
          "model_module": "@jupyter-widgets/base",
          "model_name": "LayoutModel",
          "state": {
            "_model_module": "@jupyter-widgets/base",
            "_model_module_version": "1.2.0",
            "_model_name": "LayoutModel",
            "_view_count": null,
            "_view_module": "@jupyter-widgets/base",
            "_view_module_version": "1.2.0",
            "_view_name": "LayoutView",
            "align_content": null,
            "align_items": null,
            "align_self": null,
            "border": null,
            "bottom": null,
            "display": null,
            "flex": null,
            "flex_flow": null,
            "grid_area": null,
            "grid_auto_columns": null,
            "grid_auto_flow": null,
            "grid_auto_rows": null,
            "grid_column": null,
            "grid_gap": null,
            "grid_row": null,
            "grid_template_areas": null,
            "grid_template_columns": null,
            "grid_template_rows": null,
            "height": null,
            "justify_content": null,
            "justify_items": null,
            "left": null,
            "margin": null,
            "max_height": null,
            "max_width": null,
            "min_height": null,
            "min_width": null,
            "object_fit": null,
            "object_position": null,
            "order": null,
            "overflow": null,
            "overflow_x": null,
            "overflow_y": null,
            "padding": null,
            "right": null,
            "top": null,
            "visibility": null,
            "width": null
          }
        },
        "0ea1b1131fc04f7badbede7399d78c39": {
          "model_module": "@jupyter-widgets/controls",
          "model_name": "ProgressStyleModel",
          "state": {
            "_model_module": "@jupyter-widgets/controls",
            "_model_module_version": "1.5.0",
            "_model_name": "ProgressStyleModel",
            "_view_count": null,
            "_view_module": "@jupyter-widgets/base",
            "_view_module_version": "1.2.0",
            "_view_name": "StyleView",
            "bar_color": null,
            "description_width": "initial"
          }
        },
        "0686c425d92a42a3abf2ba12798a09c4": {
          "model_module": "@jupyter-widgets/base",
          "model_name": "LayoutModel",
          "state": {
            "_model_module": "@jupyter-widgets/base",
            "_model_module_version": "1.2.0",
            "_model_name": "LayoutModel",
            "_view_count": null,
            "_view_module": "@jupyter-widgets/base",
            "_view_module_version": "1.2.0",
            "_view_name": "LayoutView",
            "align_content": null,
            "align_items": null,
            "align_self": null,
            "border": null,
            "bottom": null,
            "display": null,
            "flex": null,
            "flex_flow": null,
            "grid_area": null,
            "grid_auto_columns": null,
            "grid_auto_flow": null,
            "grid_auto_rows": null,
            "grid_column": null,
            "grid_gap": null,
            "grid_row": null,
            "grid_template_areas": null,
            "grid_template_columns": null,
            "grid_template_rows": null,
            "height": null,
            "justify_content": null,
            "justify_items": null,
            "left": null,
            "margin": null,
            "max_height": null,
            "max_width": null,
            "min_height": null,
            "min_width": null,
            "object_fit": null,
            "object_position": null,
            "order": null,
            "overflow": null,
            "overflow_x": null,
            "overflow_y": null,
            "padding": null,
            "right": null,
            "top": null,
            "visibility": null,
            "width": null
          }
        },
        "4f1f421b3288492c81e8471a890e587e": {
          "model_module": "@jupyter-widgets/controls",
          "model_name": "DescriptionStyleModel",
          "state": {
            "_model_module": "@jupyter-widgets/controls",
            "_model_module_version": "1.5.0",
            "_model_name": "DescriptionStyleModel",
            "_view_count": null,
            "_view_module": "@jupyter-widgets/base",
            "_view_module_version": "1.2.0",
            "_view_name": "StyleView",
            "description_width": ""
          }
        },
        "d78c821d1fa54105a4e042214f5d16c3": {
          "model_module": "@jupyter-widgets/controls",
          "model_name": "HBoxModel",
          "state": {
            "_view_name": "HBoxView",
            "_dom_classes": [],
            "_model_name": "HBoxModel",
            "_view_module": "@jupyter-widgets/controls",
            "_model_module_version": "1.5.0",
            "_view_count": null,
            "_view_module_version": "1.5.0",
            "box_style": "",
            "layout": "IPY_MODEL_f6528a34278b4aa88273dea09e20e03c",
            "_model_module": "@jupyter-widgets/controls",
            "children": [
              "IPY_MODEL_a53d8cffb42243ca904f4c4f2bccd5cb",
              "IPY_MODEL_70ef8cca9be34abdb9db68efb369374b"
            ]
          }
        },
        "f6528a34278b4aa88273dea09e20e03c": {
          "model_module": "@jupyter-widgets/base",
          "model_name": "LayoutModel",
          "state": {
            "_view_name": "LayoutView",
            "grid_template_rows": null,
            "right": null,
            "justify_content": null,
            "_view_module": "@jupyter-widgets/base",
            "overflow": null,
            "_model_module_version": "1.2.0",
            "_view_count": null,
            "flex_flow": null,
            "width": null,
            "min_width": null,
            "border": null,
            "align_items": null,
            "bottom": null,
            "_model_module": "@jupyter-widgets/base",
            "top": null,
            "grid_column": null,
            "overflow_y": null,
            "overflow_x": null,
            "grid_auto_flow": null,
            "grid_area": null,
            "grid_template_columns": null,
            "flex": null,
            "_model_name": "LayoutModel",
            "justify_items": null,
            "grid_row": null,
            "max_height": null,
            "align_content": null,
            "visibility": null,
            "align_self": null,
            "height": null,
            "min_height": null,
            "padding": null,
            "grid_auto_rows": null,
            "grid_gap": null,
            "max_width": null,
            "order": null,
            "_view_module_version": "1.2.0",
            "grid_template_areas": null,
            "object_position": null,
            "object_fit": null,
            "grid_auto_columns": null,
            "margin": null,
            "display": null,
            "left": null
          }
        },
        "a53d8cffb42243ca904f4c4f2bccd5cb": {
          "model_module": "@jupyter-widgets/controls",
          "model_name": "FloatProgressModel",
          "state": {
            "_view_name": "ProgressView",
            "style": "IPY_MODEL_7f42f41e30ab422b8afdb85d60a79288",
            "_dom_classes": [],
            "description": "Downloading: 100%",
            "_model_name": "FloatProgressModel",
            "bar_style": "success",
            "max": 1843,
            "_view_module": "@jupyter-widgets/controls",
            "_model_module_version": "1.5.0",
            "value": 1843,
            "_view_count": null,
            "_view_module_version": "1.5.0",
            "orientation": "horizontal",
            "min": 0,
            "description_tooltip": null,
            "_model_module": "@jupyter-widgets/controls",
            "layout": "IPY_MODEL_6cccf6544db34190b167e1e9cbf7381c"
          }
        },
        "70ef8cca9be34abdb9db68efb369374b": {
          "model_module": "@jupyter-widgets/controls",
          "model_name": "HTMLModel",
          "state": {
            "_view_name": "HTMLView",
            "style": "IPY_MODEL_b49a6a4b2a2c4a2b936230b15f159c0d",
            "_dom_classes": [],
            "description": "",
            "_model_name": "HTMLModel",
            "placeholder": "​",
            "_view_module": "@jupyter-widgets/controls",
            "_model_module_version": "1.5.0",
            "value": " 1.84k/1.84k [00:00&lt;00:00, 4.80kB/s]",
            "_view_count": null,
            "_view_module_version": "1.5.0",
            "description_tooltip": null,
            "_model_module": "@jupyter-widgets/controls",
            "layout": "IPY_MODEL_85685feb1402477db92c4b92d928e141"
          }
        },
        "7f42f41e30ab422b8afdb85d60a79288": {
          "model_module": "@jupyter-widgets/controls",
          "model_name": "ProgressStyleModel",
          "state": {
            "_view_name": "StyleView",
            "_model_name": "ProgressStyleModel",
            "description_width": "initial",
            "_view_module": "@jupyter-widgets/base",
            "_model_module_version": "1.5.0",
            "_view_count": null,
            "_view_module_version": "1.2.0",
            "bar_color": null,
            "_model_module": "@jupyter-widgets/controls"
          }
        },
        "6cccf6544db34190b167e1e9cbf7381c": {
          "model_module": "@jupyter-widgets/base",
          "model_name": "LayoutModel",
          "state": {
            "_view_name": "LayoutView",
            "grid_template_rows": null,
            "right": null,
            "justify_content": null,
            "_view_module": "@jupyter-widgets/base",
            "overflow": null,
            "_model_module_version": "1.2.0",
            "_view_count": null,
            "flex_flow": null,
            "width": null,
            "min_width": null,
            "border": null,
            "align_items": null,
            "bottom": null,
            "_model_module": "@jupyter-widgets/base",
            "top": null,
            "grid_column": null,
            "overflow_y": null,
            "overflow_x": null,
            "grid_auto_flow": null,
            "grid_area": null,
            "grid_template_columns": null,
            "flex": null,
            "_model_name": "LayoutModel",
            "justify_items": null,
            "grid_row": null,
            "max_height": null,
            "align_content": null,
            "visibility": null,
            "align_self": null,
            "height": null,
            "min_height": null,
            "padding": null,
            "grid_auto_rows": null,
            "grid_gap": null,
            "max_width": null,
            "order": null,
            "_view_module_version": "1.2.0",
            "grid_template_areas": null,
            "object_position": null,
            "object_fit": null,
            "grid_auto_columns": null,
            "margin": null,
            "display": null,
            "left": null
          }
        },
        "b49a6a4b2a2c4a2b936230b15f159c0d": {
          "model_module": "@jupyter-widgets/controls",
          "model_name": "DescriptionStyleModel",
          "state": {
            "_view_name": "StyleView",
            "_model_name": "DescriptionStyleModel",
            "description_width": "",
            "_view_module": "@jupyter-widgets/base",
            "_model_module_version": "1.5.0",
            "_view_count": null,
            "_view_module_version": "1.2.0",
            "_model_module": "@jupyter-widgets/controls"
          }
        },
        "85685feb1402477db92c4b92d928e141": {
          "model_module": "@jupyter-widgets/base",
          "model_name": "LayoutModel",
          "state": {
            "_view_name": "LayoutView",
            "grid_template_rows": null,
            "right": null,
            "justify_content": null,
            "_view_module": "@jupyter-widgets/base",
            "overflow": null,
            "_model_module_version": "1.2.0",
            "_view_count": null,
            "flex_flow": null,
            "width": null,
            "min_width": null,
            "border": null,
            "align_items": null,
            "bottom": null,
            "_model_module": "@jupyter-widgets/base",
            "top": null,
            "grid_column": null,
            "overflow_y": null,
            "overflow_x": null,
            "grid_auto_flow": null,
            "grid_area": null,
            "grid_template_columns": null,
            "flex": null,
            "_model_name": "LayoutModel",
            "justify_items": null,
            "grid_row": null,
            "max_height": null,
            "align_content": null,
            "visibility": null,
            "align_self": null,
            "height": null,
            "min_height": null,
            "padding": null,
            "grid_auto_rows": null,
            "grid_gap": null,
            "max_width": null,
            "order": null,
            "_view_module_version": "1.2.0",
            "grid_template_areas": null,
            "object_position": null,
            "object_fit": null,
            "grid_auto_columns": null,
            "margin": null,
            "display": null,
            "left": null
          }
        },
        "612c41dcac314676a8891617091b68d4": {
          "model_module": "@jupyter-widgets/controls",
          "model_name": "HBoxModel",
          "state": {
            "_view_name": "HBoxView",
            "_dom_classes": [],
            "_model_name": "HBoxModel",
            "_view_module": "@jupyter-widgets/controls",
            "_model_module_version": "1.5.0",
            "_view_count": null,
            "_view_module_version": "1.5.0",
            "box_style": "",
            "layout": "IPY_MODEL_94bc63708d164d4f983cd3fbf8404987",
            "_model_module": "@jupyter-widgets/controls",
            "children": [
              "IPY_MODEL_bde392f07bc54a3a8b9629532432dd6c",
              "IPY_MODEL_0a523935dc13412783f7d945ad80a7e0"
            ]
          }
        },
        "94bc63708d164d4f983cd3fbf8404987": {
          "model_module": "@jupyter-widgets/base",
          "model_name": "LayoutModel",
          "state": {
            "_view_name": "LayoutView",
            "grid_template_rows": null,
            "right": null,
            "justify_content": null,
            "_view_module": "@jupyter-widgets/base",
            "overflow": null,
            "_model_module_version": "1.2.0",
            "_view_count": null,
            "flex_flow": null,
            "width": null,
            "min_width": null,
            "border": null,
            "align_items": null,
            "bottom": null,
            "_model_module": "@jupyter-widgets/base",
            "top": null,
            "grid_column": null,
            "overflow_y": null,
            "overflow_x": null,
            "grid_auto_flow": null,
            "grid_area": null,
            "grid_template_columns": null,
            "flex": null,
            "_model_name": "LayoutModel",
            "justify_items": null,
            "grid_row": null,
            "max_height": null,
            "align_content": null,
            "visibility": null,
            "align_self": null,
            "height": null,
            "min_height": null,
            "padding": null,
            "grid_auto_rows": null,
            "grid_gap": null,
            "max_width": null,
            "order": null,
            "_view_module_version": "1.2.0",
            "grid_template_areas": null,
            "object_position": null,
            "object_fit": null,
            "grid_auto_columns": null,
            "margin": null,
            "display": null,
            "left": null
          }
        },
        "bde392f07bc54a3a8b9629532432dd6c": {
          "model_module": "@jupyter-widgets/controls",
          "model_name": "FloatProgressModel",
          "state": {
            "_view_name": "ProgressView",
            "style": "IPY_MODEL_3506d10d0b1a4556ada661b0f3acbfd8",
            "_dom_classes": [],
            "description": "Downloading: 100%",
            "_model_name": "FloatProgressModel",
            "bar_style": "success",
            "max": 380267417,
            "_view_module": "@jupyter-widgets/controls",
            "_model_module_version": "1.5.0",
            "value": 380267417,
            "_view_count": null,
            "_view_module_version": "1.5.0",
            "orientation": "horizontal",
            "min": 0,
            "description_tooltip": null,
            "_model_module": "@jupyter-widgets/controls",
            "layout": "IPY_MODEL_33fa9c96a2ed449c8bb1dfdd5c4f3fba"
          }
        },
        "0a523935dc13412783f7d945ad80a7e0": {
          "model_module": "@jupyter-widgets/controls",
          "model_name": "HTMLModel",
          "state": {
            "_view_name": "HTMLView",
            "style": "IPY_MODEL_6b182170e51847eea85aac4845c352fe",
            "_dom_classes": [],
            "description": "",
            "_model_name": "HTMLModel",
            "placeholder": "​",
            "_view_module": "@jupyter-widgets/controls",
            "_model_module_version": "1.5.0",
            "value": " 380M/380M [00:08&lt;00:00, 44.9MB/s]",
            "_view_count": null,
            "_view_module_version": "1.5.0",
            "description_tooltip": null,
            "_model_module": "@jupyter-widgets/controls",
            "layout": "IPY_MODEL_b0f72921836d406a8d8af62e473cad02"
          }
        },
        "3506d10d0b1a4556ada661b0f3acbfd8": {
          "model_module": "@jupyter-widgets/controls",
          "model_name": "ProgressStyleModel",
          "state": {
            "_view_name": "StyleView",
            "_model_name": "ProgressStyleModel",
            "description_width": "initial",
            "_view_module": "@jupyter-widgets/base",
            "_model_module_version": "1.5.0",
            "_view_count": null,
            "_view_module_version": "1.2.0",
            "bar_color": null,
            "_model_module": "@jupyter-widgets/controls"
          }
        },
        "33fa9c96a2ed449c8bb1dfdd5c4f3fba": {
          "model_module": "@jupyter-widgets/base",
          "model_name": "LayoutModel",
          "state": {
            "_view_name": "LayoutView",
            "grid_template_rows": null,
            "right": null,
            "justify_content": null,
            "_view_module": "@jupyter-widgets/base",
            "overflow": null,
            "_model_module_version": "1.2.0",
            "_view_count": null,
            "flex_flow": null,
            "width": null,
            "min_width": null,
            "border": null,
            "align_items": null,
            "bottom": null,
            "_model_module": "@jupyter-widgets/base",
            "top": null,
            "grid_column": null,
            "overflow_y": null,
            "overflow_x": null,
            "grid_auto_flow": null,
            "grid_area": null,
            "grid_template_columns": null,
            "flex": null,
            "_model_name": "LayoutModel",
            "justify_items": null,
            "grid_row": null,
            "max_height": null,
            "align_content": null,
            "visibility": null,
            "align_self": null,
            "height": null,
            "min_height": null,
            "padding": null,
            "grid_auto_rows": null,
            "grid_gap": null,
            "max_width": null,
            "order": null,
            "_view_module_version": "1.2.0",
            "grid_template_areas": null,
            "object_position": null,
            "object_fit": null,
            "grid_auto_columns": null,
            "margin": null,
            "display": null,
            "left": null
          }
        },
        "6b182170e51847eea85aac4845c352fe": {
          "model_module": "@jupyter-widgets/controls",
          "model_name": "DescriptionStyleModel",
          "state": {
            "_view_name": "StyleView",
            "_model_name": "DescriptionStyleModel",
            "description_width": "",
            "_view_module": "@jupyter-widgets/base",
            "_model_module_version": "1.5.0",
            "_view_count": null,
            "_view_module_version": "1.2.0",
            "_model_module": "@jupyter-widgets/controls"
          }
        },
        "b0f72921836d406a8d8af62e473cad02": {
          "model_module": "@jupyter-widgets/base",
          "model_name": "LayoutModel",
          "state": {
            "_view_name": "LayoutView",
            "grid_template_rows": null,
            "right": null,
            "justify_content": null,
            "_view_module": "@jupyter-widgets/base",
            "overflow": null,
            "_model_module_version": "1.2.0",
            "_view_count": null,
            "flex_flow": null,
            "width": null,
            "min_width": null,
            "border": null,
            "align_items": null,
            "bottom": null,
            "_model_module": "@jupyter-widgets/base",
            "top": null,
            "grid_column": null,
            "overflow_y": null,
            "overflow_x": null,
            "grid_auto_flow": null,
            "grid_area": null,
            "grid_template_columns": null,
            "flex": null,
            "_model_name": "LayoutModel",
            "justify_items": null,
            "grid_row": null,
            "max_height": null,
            "align_content": null,
            "visibility": null,
            "align_self": null,
            "height": null,
            "min_height": null,
            "padding": null,
            "grid_auto_rows": null,
            "grid_gap": null,
            "max_width": null,
            "order": null,
            "_view_module_version": "1.2.0",
            "grid_template_areas": null,
            "object_position": null,
            "object_fit": null,
            "grid_auto_columns": null,
            "margin": null,
            "display": null,
            "left": null
          }
        },
        "d1613b745e7842e7823f6c8fe86b41ed": {
          "model_module": "@jupyter-widgets/controls",
          "model_name": "HBoxModel",
          "state": {
            "_view_name": "HBoxView",
            "_dom_classes": [],
            "_model_name": "HBoxModel",
            "_view_module": "@jupyter-widgets/controls",
            "_model_module_version": "1.5.0",
            "_view_count": null,
            "_view_module_version": "1.5.0",
            "box_style": "",
            "layout": "IPY_MODEL_476ef991f090469992d5ed1600580371",
            "_model_module": "@jupyter-widgets/controls",
            "children": [
              "IPY_MODEL_fbc332907bee4ddbbc7a1474017de7d8",
              "IPY_MODEL_08469e22c18141b4bbac7ee4b5729431"
            ]
          }
        },
        "476ef991f090469992d5ed1600580371": {
          "model_module": "@jupyter-widgets/base",
          "model_name": "LayoutModel",
          "state": {
            "_view_name": "LayoutView",
            "grid_template_rows": null,
            "right": null,
            "justify_content": null,
            "_view_module": "@jupyter-widgets/base",
            "overflow": null,
            "_model_module_version": "1.2.0",
            "_view_count": null,
            "flex_flow": null,
            "width": null,
            "min_width": null,
            "border": null,
            "align_items": null,
            "bottom": null,
            "_model_module": "@jupyter-widgets/base",
            "top": null,
            "grid_column": null,
            "overflow_y": null,
            "overflow_x": null,
            "grid_auto_flow": null,
            "grid_area": null,
            "grid_template_columns": null,
            "flex": null,
            "_model_name": "LayoutModel",
            "justify_items": null,
            "grid_row": null,
            "max_height": null,
            "align_content": null,
            "visibility": null,
            "align_self": null,
            "height": null,
            "min_height": null,
            "padding": null,
            "grid_auto_rows": null,
            "grid_gap": null,
            "max_width": null,
            "order": null,
            "_view_module_version": "1.2.0",
            "grid_template_areas": null,
            "object_position": null,
            "object_fit": null,
            "grid_auto_columns": null,
            "margin": null,
            "display": null,
            "left": null
          }
        },
        "fbc332907bee4ddbbc7a1474017de7d8": {
          "model_module": "@jupyter-widgets/controls",
          "model_name": "FloatProgressModel",
          "state": {
            "_view_name": "ProgressView",
            "style": "IPY_MODEL_a246362a767f4ab098858849cb729548",
            "_dom_classes": [],
            "description": "100%",
            "_model_name": "FloatProgressModel",
            "bar_style": "success",
            "max": 501,
            "_view_module": "@jupyter-widgets/controls",
            "_model_module_version": "1.5.0",
            "value": 501,
            "_view_count": null,
            "_view_module_version": "1.5.0",
            "orientation": "horizontal",
            "min": 0,
            "description_tooltip": null,
            "_model_module": "@jupyter-widgets/controls",
            "layout": "IPY_MODEL_951e92ec67174e1db3bcde6c8f292e75"
          }
        },
        "08469e22c18141b4bbac7ee4b5729431": {
          "model_module": "@jupyter-widgets/controls",
          "model_name": "HTMLModel",
          "state": {
            "_view_name": "HTMLView",
            "style": "IPY_MODEL_4eccbe1bef464631b7f9d34ca429237b",
            "_dom_classes": [],
            "description": "",
            "_model_name": "HTMLModel",
            "placeholder": "​",
            "_view_module": "@jupyter-widgets/controls",
            "_model_module_version": "1.5.0",
            "value": " 501/501 [00:17&lt;00:00, 28.87ex/s]",
            "_view_count": null,
            "_view_module_version": "1.5.0",
            "description_tooltip": null,
            "_model_module": "@jupyter-widgets/controls",
            "layout": "IPY_MODEL_be3c73993486478b8d6d9e2583014433"
          }
        },
        "a246362a767f4ab098858849cb729548": {
          "model_module": "@jupyter-widgets/controls",
          "model_name": "ProgressStyleModel",
          "state": {
            "_view_name": "StyleView",
            "_model_name": "ProgressStyleModel",
            "description_width": "initial",
            "_view_module": "@jupyter-widgets/base",
            "_model_module_version": "1.5.0",
            "_view_count": null,
            "_view_module_version": "1.2.0",
            "bar_color": null,
            "_model_module": "@jupyter-widgets/controls"
          }
        },
        "951e92ec67174e1db3bcde6c8f292e75": {
          "model_module": "@jupyter-widgets/base",
          "model_name": "LayoutModel",
          "state": {
            "_view_name": "LayoutView",
            "grid_template_rows": null,
            "right": null,
            "justify_content": null,
            "_view_module": "@jupyter-widgets/base",
            "overflow": null,
            "_model_module_version": "1.2.0",
            "_view_count": null,
            "flex_flow": null,
            "width": null,
            "min_width": null,
            "border": null,
            "align_items": null,
            "bottom": null,
            "_model_module": "@jupyter-widgets/base",
            "top": null,
            "grid_column": null,
            "overflow_y": null,
            "overflow_x": null,
            "grid_auto_flow": null,
            "grid_area": null,
            "grid_template_columns": null,
            "flex": null,
            "_model_name": "LayoutModel",
            "justify_items": null,
            "grid_row": null,
            "max_height": null,
            "align_content": null,
            "visibility": null,
            "align_self": null,
            "height": null,
            "min_height": null,
            "padding": null,
            "grid_auto_rows": null,
            "grid_gap": null,
            "max_width": null,
            "order": null,
            "_view_module_version": "1.2.0",
            "grid_template_areas": null,
            "object_position": null,
            "object_fit": null,
            "grid_auto_columns": null,
            "margin": null,
            "display": null,
            "left": null
          }
        },
        "4eccbe1bef464631b7f9d34ca429237b": {
          "model_module": "@jupyter-widgets/controls",
          "model_name": "DescriptionStyleModel",
          "state": {
            "_view_name": "StyleView",
            "_model_name": "DescriptionStyleModel",
            "description_width": "",
            "_view_module": "@jupyter-widgets/base",
            "_model_module_version": "1.5.0",
            "_view_count": null,
            "_view_module_version": "1.2.0",
            "_model_module": "@jupyter-widgets/controls"
          }
        },
        "be3c73993486478b8d6d9e2583014433": {
          "model_module": "@jupyter-widgets/base",
          "model_name": "LayoutModel",
          "state": {
            "_view_name": "LayoutView",
            "grid_template_rows": null,
            "right": null,
            "justify_content": null,
            "_view_module": "@jupyter-widgets/base",
            "overflow": null,
            "_model_module_version": "1.2.0",
            "_view_count": null,
            "flex_flow": null,
            "width": null,
            "min_width": null,
            "border": null,
            "align_items": null,
            "bottom": null,
            "_model_module": "@jupyter-widgets/base",
            "top": null,
            "grid_column": null,
            "overflow_y": null,
            "overflow_x": null,
            "grid_auto_flow": null,
            "grid_area": null,
            "grid_template_columns": null,
            "flex": null,
            "_model_name": "LayoutModel",
            "justify_items": null,
            "grid_row": null,
            "max_height": null,
            "align_content": null,
            "visibility": null,
            "align_self": null,
            "height": null,
            "min_height": null,
            "padding": null,
            "grid_auto_rows": null,
            "grid_gap": null,
            "max_width": null,
            "order": null,
            "_view_module_version": "1.2.0",
            "grid_template_areas": null,
            "object_position": null,
            "object_fit": null,
            "grid_auto_columns": null,
            "margin": null,
            "display": null,
            "left": null
          }
        }
      }
    }
  },
  "cells": [
    {
      "cell_type": "markdown",
      "metadata": {
        "id": "2frVAPbGagua"
      },
      "source": [
        "# Mount drive"
      ]
    },
    {
      "cell_type": "code",
      "metadata": {
        "id": "-cXdPQpAahVH",
        "colab": {
          "base_uri": "https://localhost:8080/"
        },
        "outputId": "66741114-f8c0-4724-8b3a-2640d7395876"
      },
      "source": [
        "from google.colab import drive\n",
        "drive.mount(\"/content/gdrive\")"
      ],
      "execution_count": 1,
      "outputs": [
        {
          "output_type": "stream",
          "text": [
            "Mounted at /content/gdrive\n"
          ],
          "name": "stdout"
        }
      ]
    },
    {
      "cell_type": "markdown",
      "metadata": {
        "id": "zqKl6-kfao9J"
      },
      "source": [
        "# Install Dependencies"
      ]
    },
    {
      "cell_type": "code",
      "metadata": {
        "colab": {
          "base_uri": "https://localhost:8080/"
        },
        "id": "yJc7AH30atGe",
        "outputId": "247d98c2-a9ec-41ec-b364-42d12f9489c8"
      },
      "source": [
        "!pip install datasets==1.4.1\n",
        "!pip install transformers==4.4.0\n",
        "!pip install torchaudio\n",
        "!pip install librosa\n",
        "!pip install jiwer"
      ],
      "execution_count": 2,
      "outputs": [
        {
          "output_type": "stream",
          "text": [
            "Collecting datasets==1.4.1\n",
            "  Downloading datasets-1.4.1-py3-none-any.whl (186 kB)\n",
            "\u001b[K     |████████████████████████████████| 186 kB 8.3 MB/s \n",
            "\u001b[?25hCollecting xxhash\n",
            "  Downloading xxhash-2.0.2-cp37-cp37m-manylinux2010_x86_64.whl (243 kB)\n",
            "\u001b[K     |████████████████████████████████| 243 kB 48.6 MB/s \n",
            "\u001b[?25hCollecting huggingface-hub==0.0.2\n",
            "  Downloading huggingface_hub-0.0.2-py3-none-any.whl (24 kB)\n",
            "Requirement already satisfied: pandas in /usr/local/lib/python3.7/dist-packages (from datasets==1.4.1) (1.1.5)\n",
            "Requirement already satisfied: pyarrow>=0.17.1 in /usr/local/lib/python3.7/dist-packages (from datasets==1.4.1) (3.0.0)\n",
            "Requirement already satisfied: numpy>=1.17 in /usr/local/lib/python3.7/dist-packages (from datasets==1.4.1) (1.19.5)\n",
            "Requirement already satisfied: multiprocess in /usr/local/lib/python3.7/dist-packages (from datasets==1.4.1) (0.70.12.2)\n",
            "Collecting fsspec\n",
            "  Downloading fsspec-2021.7.0-py3-none-any.whl (118 kB)\n",
            "\u001b[K     |████████████████████████████████| 118 kB 55.1 MB/s \n",
            "\u001b[?25hRequirement already satisfied: dill in /usr/local/lib/python3.7/dist-packages (from datasets==1.4.1) (0.3.4)\n",
            "Requirement already satisfied: requests>=2.19.0 in /usr/local/lib/python3.7/dist-packages (from datasets==1.4.1) (2.23.0)\n",
            "Requirement already satisfied: tqdm<4.50.0,>=4.27 in /usr/local/lib/python3.7/dist-packages (from datasets==1.4.1) (4.41.1)\n",
            "Requirement already satisfied: importlib-metadata in /usr/local/lib/python3.7/dist-packages (from datasets==1.4.1) (4.6.1)\n",
            "Requirement already satisfied: filelock in /usr/local/lib/python3.7/dist-packages (from huggingface-hub==0.0.2->datasets==1.4.1) (3.0.12)\n",
            "Requirement already satisfied: idna<3,>=2.5 in /usr/local/lib/python3.7/dist-packages (from requests>=2.19.0->datasets==1.4.1) (2.10)\n",
            "Requirement already satisfied: urllib3!=1.25.0,!=1.25.1,<1.26,>=1.21.1 in /usr/local/lib/python3.7/dist-packages (from requests>=2.19.0->datasets==1.4.1) (1.24.3)\n",
            "Requirement already satisfied: chardet<4,>=3.0.2 in /usr/local/lib/python3.7/dist-packages (from requests>=2.19.0->datasets==1.4.1) (3.0.4)\n",
            "Requirement already satisfied: certifi>=2017.4.17 in /usr/local/lib/python3.7/dist-packages (from requests>=2.19.0->datasets==1.4.1) (2021.5.30)\n",
            "Requirement already satisfied: typing-extensions>=3.6.4 in /usr/local/lib/python3.7/dist-packages (from importlib-metadata->datasets==1.4.1) (3.7.4.3)\n",
            "Requirement already satisfied: zipp>=0.5 in /usr/local/lib/python3.7/dist-packages (from importlib-metadata->datasets==1.4.1) (3.5.0)\n",
            "Requirement already satisfied: pytz>=2017.2 in /usr/local/lib/python3.7/dist-packages (from pandas->datasets==1.4.1) (2018.9)\n",
            "Requirement already satisfied: python-dateutil>=2.7.3 in /usr/local/lib/python3.7/dist-packages (from pandas->datasets==1.4.1) (2.8.1)\n",
            "Requirement already satisfied: six>=1.5 in /usr/local/lib/python3.7/dist-packages (from python-dateutil>=2.7.3->pandas->datasets==1.4.1) (1.15.0)\n",
            "Installing collected packages: xxhash, huggingface-hub, fsspec, datasets\n",
            "Successfully installed datasets-1.4.1 fsspec-2021.7.0 huggingface-hub-0.0.2 xxhash-2.0.2\n",
            "Collecting transformers==4.4.0\n",
            "  Downloading transformers-4.4.0-py3-none-any.whl (2.1 MB)\n",
            "\u001b[K     |████████████████████████████████| 2.1 MB 7.0 MB/s \n",
            "\u001b[?25hRequirement already satisfied: packaging in /usr/local/lib/python3.7/dist-packages (from transformers==4.4.0) (21.0)\n",
            "Requirement already satisfied: requests in /usr/local/lib/python3.7/dist-packages (from transformers==4.4.0) (2.23.0)\n",
            "Requirement already satisfied: numpy>=1.17 in /usr/local/lib/python3.7/dist-packages (from transformers==4.4.0) (1.19.5)\n",
            "Requirement already satisfied: regex!=2019.12.17 in /usr/local/lib/python3.7/dist-packages (from transformers==4.4.0) (2019.12.20)\n",
            "Collecting tokenizers<0.11,>=0.10.1\n",
            "  Downloading tokenizers-0.10.3-cp37-cp37m-manylinux_2_5_x86_64.manylinux1_x86_64.manylinux_2_12_x86_64.manylinux2010_x86_64.whl (3.3 MB)\n",
            "\u001b[K     |████████████████████████████████| 3.3 MB 43.6 MB/s \n",
            "\u001b[?25hRequirement already satisfied: importlib-metadata in /usr/local/lib/python3.7/dist-packages (from transformers==4.4.0) (4.6.1)\n",
            "Requirement already satisfied: filelock in /usr/local/lib/python3.7/dist-packages (from transformers==4.4.0) (3.0.12)\n",
            "Requirement already satisfied: tqdm>=4.27 in /usr/local/lib/python3.7/dist-packages (from transformers==4.4.0) (4.41.1)\n",
            "Collecting sacremoses\n",
            "  Downloading sacremoses-0.0.45-py3-none-any.whl (895 kB)\n",
            "\u001b[K     |████████████████████████████████| 895 kB 59.8 MB/s \n",
            "\u001b[?25hRequirement already satisfied: zipp>=0.5 in /usr/local/lib/python3.7/dist-packages (from importlib-metadata->transformers==4.4.0) (3.5.0)\n",
            "Requirement already satisfied: typing-extensions>=3.6.4 in /usr/local/lib/python3.7/dist-packages (from importlib-metadata->transformers==4.4.0) (3.7.4.3)\n",
            "Requirement already satisfied: pyparsing>=2.0.2 in /usr/local/lib/python3.7/dist-packages (from packaging->transformers==4.4.0) (2.4.7)\n",
            "Requirement already satisfied: urllib3!=1.25.0,!=1.25.1,<1.26,>=1.21.1 in /usr/local/lib/python3.7/dist-packages (from requests->transformers==4.4.0) (1.24.3)\n",
            "Requirement already satisfied: idna<3,>=2.5 in /usr/local/lib/python3.7/dist-packages (from requests->transformers==4.4.0) (2.10)\n",
            "Requirement already satisfied: certifi>=2017.4.17 in /usr/local/lib/python3.7/dist-packages (from requests->transformers==4.4.0) (2021.5.30)\n",
            "Requirement already satisfied: chardet<4,>=3.0.2 in /usr/local/lib/python3.7/dist-packages (from requests->transformers==4.4.0) (3.0.4)\n",
            "Requirement already satisfied: six in /usr/local/lib/python3.7/dist-packages (from sacremoses->transformers==4.4.0) (1.15.0)\n",
            "Requirement already satisfied: joblib in /usr/local/lib/python3.7/dist-packages (from sacremoses->transformers==4.4.0) (1.0.1)\n",
            "Requirement already satisfied: click in /usr/local/lib/python3.7/dist-packages (from sacremoses->transformers==4.4.0) (7.1.2)\n",
            "Installing collected packages: tokenizers, sacremoses, transformers\n",
            "Successfully installed sacremoses-0.0.45 tokenizers-0.10.3 transformers-4.4.0\n",
            "Collecting torchaudio\n",
            "  Downloading torchaudio-0.9.0-cp37-cp37m-manylinux1_x86_64.whl (1.9 MB)\n",
            "\u001b[K     |████████████████████████████████| 1.9 MB 7.2 MB/s \n",
            "\u001b[?25hRequirement already satisfied: torch==1.9.0 in /usr/local/lib/python3.7/dist-packages (from torchaudio) (1.9.0+cu102)\n",
            "Requirement already satisfied: typing-extensions in /usr/local/lib/python3.7/dist-packages (from torch==1.9.0->torchaudio) (3.7.4.3)\n",
            "Installing collected packages: torchaudio\n",
            "Successfully installed torchaudio-0.9.0\n",
            "Requirement already satisfied: librosa in /usr/local/lib/python3.7/dist-packages (0.8.1)\n",
            "Requirement already satisfied: joblib>=0.14 in /usr/local/lib/python3.7/dist-packages (from librosa) (1.0.1)\n",
            "Requirement already satisfied: numba>=0.43.0 in /usr/local/lib/python3.7/dist-packages (from librosa) (0.51.2)\n",
            "Requirement already satisfied: numpy>=1.15.0 in /usr/local/lib/python3.7/dist-packages (from librosa) (1.19.5)\n",
            "Requirement already satisfied: scipy>=1.0.0 in /usr/local/lib/python3.7/dist-packages (from librosa) (1.4.1)\n",
            "Requirement already satisfied: pooch>=1.0 in /usr/local/lib/python3.7/dist-packages (from librosa) (1.4.0)\n",
            "Requirement already satisfied: packaging>=20.0 in /usr/local/lib/python3.7/dist-packages (from librosa) (21.0)\n",
            "Requirement already satisfied: soundfile>=0.10.2 in /usr/local/lib/python3.7/dist-packages (from librosa) (0.10.3.post1)\n",
            "Requirement already satisfied: audioread>=2.0.0 in /usr/local/lib/python3.7/dist-packages (from librosa) (2.1.9)\n",
            "Requirement already satisfied: resampy>=0.2.2 in /usr/local/lib/python3.7/dist-packages (from librosa) (0.2.2)\n",
            "Requirement already satisfied: decorator>=3.0.0 in /usr/local/lib/python3.7/dist-packages (from librosa) (4.4.2)\n",
            "Requirement already satisfied: scikit-learn!=0.19.0,>=0.14.0 in /usr/local/lib/python3.7/dist-packages (from librosa) (0.22.2.post1)\n",
            "Requirement already satisfied: llvmlite<0.35,>=0.34.0.dev0 in /usr/local/lib/python3.7/dist-packages (from numba>=0.43.0->librosa) (0.34.0)\n",
            "Requirement already satisfied: setuptools in /usr/local/lib/python3.7/dist-packages (from numba>=0.43.0->librosa) (57.2.0)\n",
            "Requirement already satisfied: pyparsing>=2.0.2 in /usr/local/lib/python3.7/dist-packages (from packaging>=20.0->librosa) (2.4.7)\n",
            "Requirement already satisfied: requests in /usr/local/lib/python3.7/dist-packages (from pooch>=1.0->librosa) (2.23.0)\n",
            "Requirement already satisfied: appdirs in /usr/local/lib/python3.7/dist-packages (from pooch>=1.0->librosa) (1.4.4)\n",
            "Requirement already satisfied: six>=1.3 in /usr/local/lib/python3.7/dist-packages (from resampy>=0.2.2->librosa) (1.15.0)\n",
            "Requirement already satisfied: cffi>=1.0 in /usr/local/lib/python3.7/dist-packages (from soundfile>=0.10.2->librosa) (1.14.6)\n",
            "Requirement already satisfied: pycparser in /usr/local/lib/python3.7/dist-packages (from cffi>=1.0->soundfile>=0.10.2->librosa) (2.20)\n",
            "Requirement already satisfied: chardet<4,>=3.0.2 in /usr/local/lib/python3.7/dist-packages (from requests->pooch>=1.0->librosa) (3.0.4)\n",
            "Requirement already satisfied: urllib3!=1.25.0,!=1.25.1,<1.26,>=1.21.1 in /usr/local/lib/python3.7/dist-packages (from requests->pooch>=1.0->librosa) (1.24.3)\n",
            "Requirement already satisfied: certifi>=2017.4.17 in /usr/local/lib/python3.7/dist-packages (from requests->pooch>=1.0->librosa) (2021.5.30)\n",
            "Requirement already satisfied: idna<3,>=2.5 in /usr/local/lib/python3.7/dist-packages (from requests->pooch>=1.0->librosa) (2.10)\n",
            "Collecting jiwer\n",
            "  Downloading jiwer-2.2.0-py3-none-any.whl (13 kB)\n",
            "Requirement already satisfied: numpy in /usr/local/lib/python3.7/dist-packages (from jiwer) (1.19.5)\n",
            "Collecting python-Levenshtein\n",
            "  Downloading python-Levenshtein-0.12.2.tar.gz (50 kB)\n",
            "\u001b[K     |████████████████████████████████| 50 kB 4.1 MB/s \n",
            "\u001b[?25hRequirement already satisfied: setuptools in /usr/local/lib/python3.7/dist-packages (from python-Levenshtein->jiwer) (57.2.0)\n",
            "Building wheels for collected packages: python-Levenshtein\n",
            "  Building wheel for python-Levenshtein (setup.py) ... \u001b[?25l\u001b[?25hdone\n",
            "  Created wheel for python-Levenshtein: filename=python_Levenshtein-0.12.2-cp37-cp37m-linux_x86_64.whl size=149868 sha256=bf0b8bd9c4ce2ffa7fd6cd1310554d5383685add02fef040c87ffa1c41a78d99\n",
            "  Stored in directory: /root/.cache/pip/wheels/05/5f/ca/7c4367734892581bb5ff896f15027a932c551080b2abd3e00d\n",
            "Successfully built python-Levenshtein\n",
            "Installing collected packages: python-Levenshtein, jiwer\n",
            "Successfully installed jiwer-2.2.0 python-Levenshtein-0.12.2\n"
          ],
          "name": "stdout"
        }
      ]
    },
    {
      "cell_type": "markdown",
      "metadata": {
        "id": "Uor6ishOa04M"
      },
      "source": [
        "# import Libraries"
      ]
    },
    {
      "cell_type": "code",
      "metadata": {
        "id": "9wWscmOUavOZ"
      },
      "source": [
        "#import libraries\n",
        "\n",
        "import numpy as np\n",
        "import librosa as lb\n",
        "import os\n",
        "import pandas as pd\n",
        "import torch\n",
        "from datasets import load_dataset, load_metric\n",
        "import json\n",
        "import IPython.display as ipd\n",
        "from sklearn.model_selection import train_test_split"
      ],
      "execution_count": 59,
      "outputs": []
    },
    {
      "cell_type": "markdown",
      "metadata": {
        "id": "rYTyR3gUa9Lu"
      },
      "source": [
        "# sample audio file"
      ]
    },
    {
      "cell_type": "code",
      "metadata": {
        "colab": {
          "base_uri": "https://localhost:8080/",
          "height": 109
        },
        "id": "0xfbF8Rla31G",
        "outputId": "fe117917-e952-47f1-f173-4a45dab5104c"
      },
      "source": [
        "audio = lb.load(\"/content/gdrive/MyDrive/jf8398hf30f0381738rucj3828chfdnchs.tar.gz (Unzipped Files)/fluent_speech_commands_dataset/wavs/speakers/zZezMeg5XvcbRdg3/ca60c080-45e0-11e9-81ce-69b74fd7e64e.wav\")\n",
        "\n",
        "#sample audio file\n",
        "print(audio)\n",
        "ipd.Audio(data = audio[0], rate = 16000, autoplay = True)   #play audio file"
      ],
      "execution_count": 4,
      "outputs": [
        {
          "output_type": "stream",
          "text": [
            "(array([0.        , 0.        , 0.        , ..., 0.00135181, 0.00201907,\n",
            "       0.        ], dtype=float32), 22050)\n"
          ],
          "name": "stdout"
        },
        {
          "output_type": "execute_result",
          "data": {
            "text/html": [
              "\n",
              "                <audio controls=\"controls\" autoplay=\"autoplay\">\n",
              "                    <source src=\"data:audio/wav;base64,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\" type=\"audio/wav\" />\n",
              "                    Your browser does not support the audio element.\n",
              "                </audio>\n",
              "              "
            ],
            "text/plain": [
              "<IPython.lib.display.Audio object>"
            ]
          },
          "metadata": {
            "tags": []
          },
          "execution_count": 4
        }
      ]
    },
    {
      "cell_type": "markdown",
      "metadata": {
        "id": "BcneJPI7bElV"
      },
      "source": [
        "# load training csv file"
      ]
    },
    {
      "cell_type": "code",
      "metadata": {
        "colab": {
          "base_uri": "https://localhost:8080/",
          "height": 203
        },
        "id": "ijmkiapnbAI9",
        "outputId": "6445ecf5-8589-464e-a9fb-73667d7f060d"
      },
      "source": [
        "train_df = pd.read_csv(\"/content/gdrive/MyDrive/jf8398hf30f0381738rucj3828chfdnchs.tar.gz (Unzipped Files)/fluent_speech_commands_dataset/data/train_data.csv\")\n",
        "train_df.sample(5)"
      ],
      "execution_count": 5,
      "outputs": [
        {
          "output_type": "execute_result",
          "data": {
            "text/html": [
              "<div>\n",
              "<style scoped>\n",
              "    .dataframe tbody tr th:only-of-type {\n",
              "        vertical-align: middle;\n",
              "    }\n",
              "\n",
              "    .dataframe tbody tr th {\n",
              "        vertical-align: top;\n",
              "    }\n",
              "\n",
              "    .dataframe thead th {\n",
              "        text-align: right;\n",
              "    }\n",
              "</style>\n",
              "<table border=\"1\" class=\"dataframe\">\n",
              "  <thead>\n",
              "    <tr style=\"text-align: right;\">\n",
              "      <th></th>\n",
              "      <th>Unnamed: 0</th>\n",
              "      <th>path</th>\n",
              "      <th>speakerId</th>\n",
              "      <th>transcription</th>\n",
              "      <th>action</th>\n",
              "      <th>object</th>\n",
              "      <th>location</th>\n",
              "    </tr>\n",
              "  </thead>\n",
              "  <tbody>\n",
              "    <tr>\n",
              "      <th>21807</th>\n",
              "      <td>21807</td>\n",
              "      <td>wavs/speakers/zaEBPeMY4NUbDnZy/1195acf0-44d7-1...</td>\n",
              "      <td>zaEBPeMY4NUbDnZy</td>\n",
              "      <td>Fetch my socks</td>\n",
              "      <td>bring</td>\n",
              "      <td>socks</td>\n",
              "      <td>none</td>\n",
              "    </tr>\n",
              "    <tr>\n",
              "      <th>16153</th>\n",
              "      <td>16153</td>\n",
              "      <td>wavs/speakers/R3mXwwoaX9IoRVKe/af4cd8a0-4550-1...</td>\n",
              "      <td>R3mXwwoaX9IoRVKe</td>\n",
              "      <td>Quieter</td>\n",
              "      <td>decrease</td>\n",
              "      <td>volume</td>\n",
              "      <td>none</td>\n",
              "    </tr>\n",
              "    <tr>\n",
              "      <th>11178</th>\n",
              "      <td>11178</td>\n",
              "      <td>wavs/speakers/LR5vdbQgp3tlMBzB/6d6e3770-45ce-1...</td>\n",
              "      <td>LR5vdbQgp3tlMBzB</td>\n",
              "      <td>Start the music</td>\n",
              "      <td>activate</td>\n",
              "      <td>music</td>\n",
              "      <td>none</td>\n",
              "    </tr>\n",
              "    <tr>\n",
              "      <th>20740</th>\n",
              "      <td>20740</td>\n",
              "      <td>wavs/speakers/xwzgmmv5ZOiVaxXz/ad8bc9b0-453a-1...</td>\n",
              "      <td>xwzgmmv5ZOiVaxXz</td>\n",
              "      <td>Washroom lights on</td>\n",
              "      <td>activate</td>\n",
              "      <td>lights</td>\n",
              "      <td>washroom</td>\n",
              "    </tr>\n",
              "    <tr>\n",
              "      <th>7277</th>\n",
              "      <td>7277</td>\n",
              "      <td>wavs/speakers/EExgNZ9dvgTE3928/d6f40f80-4614-1...</td>\n",
              "      <td>EExgNZ9dvgTE3928</td>\n",
              "      <td>Bring my shoes</td>\n",
              "      <td>bring</td>\n",
              "      <td>shoes</td>\n",
              "      <td>none</td>\n",
              "    </tr>\n",
              "  </tbody>\n",
              "</table>\n",
              "</div>"
            ],
            "text/plain": [
              "       Unnamed: 0  ...  location\n",
              "21807       21807  ...      none\n",
              "16153       16153  ...      none\n",
              "11178       11178  ...      none\n",
              "20740       20740  ...  washroom\n",
              "7277         7277  ...      none\n",
              "\n",
              "[5 rows x 7 columns]"
            ]
          },
          "metadata": {
            "tags": []
          },
          "execution_count": 5
        }
      ]
    },
    {
      "cell_type": "markdown",
      "metadata": {
        "id": "cwgpzTWLbNOW"
      },
      "source": [
        "# Sample testing"
      ]
    },
    {
      "cell_type": "code",
      "metadata": {
        "id": "2NiyCnHHbH0u"
      },
      "source": [
        "#train\n",
        "\n",
        "audio_path = []\n",
        "transcription = []\n",
        "initial_audio = \"/content/gdrive/MyDrive/jf8398hf30f0381738rucj3828chfdnchs.tar.gz (Unzipped Files)/fluent_speech_commands_dataset\"\n",
        "#write json file\n",
        "\n",
        "with open(\"/content/sample_data/train.json\" , \"w\") as f:\n",
        "\n",
        "  for i, data in train_df.iterrows():\n",
        "    row_json = {\"file\" :initial_audio + \"/\" + data[\"path\"], \"text\" : data[\"transcription\"]}\n",
        "    json.dump(row_json, f)\n",
        "    f.write(\"\\n\")\n",
        "    if i == 5000:\n",
        "      break\n",
        "    "
      ],
      "execution_count": 6,
      "outputs": []
    },
    {
      "cell_type": "markdown",
      "metadata": {
        "id": "9vJNtrTDbSVS"
      },
      "source": [
        "# load testing csv file"
      ]
    },
    {
      "cell_type": "code",
      "metadata": {
        "colab": {
          "base_uri": "https://localhost:8080/",
          "height": 602
        },
        "id": "0QxDECbubPyp",
        "outputId": "231dbc36-b7df-4cae-a02e-cd09689c3211"
      },
      "source": [
        "test_df = pd.read_csv(\"/content/gdrive/MyDrive/jf8398hf30f0381738rucj3828chfdnchs.tar.gz (Unzipped Files)/fluent_speech_commands_dataset/data/test_data.csv\")\n",
        "test_df.sample(100)"
      ],
      "execution_count": 7,
      "outputs": [
        {
          "output_type": "execute_result",
          "data": {
            "text/html": [
              "<div>\n",
              "<style scoped>\n",
              "    .dataframe tbody tr th:only-of-type {\n",
              "        vertical-align: middle;\n",
              "    }\n",
              "\n",
              "    .dataframe tbody tr th {\n",
              "        vertical-align: top;\n",
              "    }\n",
              "\n",
              "    .dataframe thead th {\n",
              "        text-align: right;\n",
              "    }\n",
              "</style>\n",
              "<table border=\"1\" class=\"dataframe\">\n",
              "  <thead>\n",
              "    <tr style=\"text-align: right;\">\n",
              "      <th></th>\n",
              "      <th>Unnamed: 0</th>\n",
              "      <th>path</th>\n",
              "      <th>speakerId</th>\n",
              "      <th>transcription</th>\n",
              "      <th>action</th>\n",
              "      <th>object</th>\n",
              "      <th>location</th>\n",
              "    </tr>\n",
              "  </thead>\n",
              "  <tbody>\n",
              "    <tr>\n",
              "      <th>482</th>\n",
              "      <td>482</td>\n",
              "      <td>wavs/speakers/7B4XmNppyrCK977p/9aa34d80-45c8-1...</td>\n",
              "      <td>7B4XmNppyrCK977p</td>\n",
              "      <td>Turn off the lights</td>\n",
              "      <td>deactivate</td>\n",
              "      <td>lights</td>\n",
              "      <td>none</td>\n",
              "    </tr>\n",
              "    <tr>\n",
              "      <th>1483</th>\n",
              "      <td>1483</td>\n",
              "      <td>wavs/speakers/k5bqyxx2lzIbrlg9/fa339150-4529-1...</td>\n",
              "      <td>k5bqyxx2lzIbrlg9</td>\n",
              "      <td>Decrease the temperature in the kitchen</td>\n",
              "      <td>decrease</td>\n",
              "      <td>heat</td>\n",
              "      <td>kitchen</td>\n",
              "    </tr>\n",
              "    <tr>\n",
              "      <th>740</th>\n",
              "      <td>740</td>\n",
              "      <td>wavs/speakers/7B4XmNppyrCK977p/0a0d0b30-45cd-1...</td>\n",
              "      <td>7B4XmNppyrCK977p</td>\n",
              "      <td>Turn up the volume</td>\n",
              "      <td>increase</td>\n",
              "      <td>volume</td>\n",
              "      <td>none</td>\n",
              "    </tr>\n",
              "    <tr>\n",
              "      <th>492</th>\n",
              "      <td>492</td>\n",
              "      <td>wavs/speakers/7B4XmNppyrCK977p/b6b82d10-45c8-1...</td>\n",
              "      <td>7B4XmNppyrCK977p</td>\n",
              "      <td>Lights off</td>\n",
              "      <td>deactivate</td>\n",
              "      <td>lights</td>\n",
              "      <td>none</td>\n",
              "    </tr>\n",
              "    <tr>\n",
              "      <th>1949</th>\n",
              "      <td>1949</td>\n",
              "      <td>wavs/speakers/oOK5kxoW7dskMbaK/de9ccbf0-44e8-1...</td>\n",
              "      <td>oOK5kxoW7dskMbaK</td>\n",
              "      <td>Play</td>\n",
              "      <td>activate</td>\n",
              "      <td>music</td>\n",
              "      <td>none</td>\n",
              "    </tr>\n",
              "    <tr>\n",
              "      <th>...</th>\n",
              "      <td>...</td>\n",
              "      <td>...</td>\n",
              "      <td>...</td>\n",
              "      <td>...</td>\n",
              "      <td>...</td>\n",
              "      <td>...</td>\n",
              "      <td>...</td>\n",
              "    </tr>\n",
              "    <tr>\n",
              "      <th>3044</th>\n",
              "      <td>3044</td>\n",
              "      <td>wavs/speakers/V4ejqNL4xbUKkYrV/f5d94630-459d-1...</td>\n",
              "      <td>V4ejqNL4xbUKkYrV</td>\n",
              "      <td>Set the language</td>\n",
              "      <td>change language</td>\n",
              "      <td>none</td>\n",
              "      <td>none</td>\n",
              "    </tr>\n",
              "    <tr>\n",
              "      <th>3677</th>\n",
              "      <td>3677</td>\n",
              "      <td>wavs/speakers/V4ZbwLm9G5irobWn/e06dd1e0-4529-1...</td>\n",
              "      <td>V4ZbwLm9G5irobWn</td>\n",
              "      <td>Increase the heating in the kitchen</td>\n",
              "      <td>increase</td>\n",
              "      <td>heat</td>\n",
              "      <td>kitchen</td>\n",
              "    </tr>\n",
              "    <tr>\n",
              "      <th>2318</th>\n",
              "      <td>2318</td>\n",
              "      <td>wavs/speakers/oOK5kxoW7dskMbaK/995e68f0-44ed-1...</td>\n",
              "      <td>oOK5kxoW7dskMbaK</td>\n",
              "      <td>Stop music</td>\n",
              "      <td>deactivate</td>\n",
              "      <td>music</td>\n",
              "      <td>none</td>\n",
              "    </tr>\n",
              "    <tr>\n",
              "      <th>322</th>\n",
              "      <td>322</td>\n",
              "      <td>wavs/speakers/4BrX8aDqK2cLZRYl/2af7d5b0-4531-1...</td>\n",
              "      <td>4BrX8aDqK2cLZRYl</td>\n",
              "      <td>Bedroom lights off</td>\n",
              "      <td>deactivate</td>\n",
              "      <td>lights</td>\n",
              "      <td>bedroom</td>\n",
              "    </tr>\n",
              "    <tr>\n",
              "      <th>2322</th>\n",
              "      <td>2322</td>\n",
              "      <td>wavs/speakers/oOK5kxoW7dskMbaK/c93e9310-44ed-1...</td>\n",
              "      <td>oOK5kxoW7dskMbaK</td>\n",
              "      <td>Fetch my socks</td>\n",
              "      <td>bring</td>\n",
              "      <td>socks</td>\n",
              "      <td>none</td>\n",
              "    </tr>\n",
              "  </tbody>\n",
              "</table>\n",
              "<p>100 rows × 7 columns</p>\n",
              "</div>"
            ],
            "text/plain": [
              "      Unnamed: 0  ... location\n",
              "482          482  ...     none\n",
              "1483        1483  ...  kitchen\n",
              "740          740  ...     none\n",
              "492          492  ...     none\n",
              "1949        1949  ...     none\n",
              "...          ...  ...      ...\n",
              "3044        3044  ...     none\n",
              "3677        3677  ...  kitchen\n",
              "2318        2318  ...     none\n",
              "322          322  ...  bedroom\n",
              "2322        2322  ...     none\n",
              "\n",
              "[100 rows x 7 columns]"
            ]
          },
          "metadata": {
            "tags": []
          },
          "execution_count": 7
        }
      ]
    },
    {
      "cell_type": "code",
      "metadata": {
        "id": "vftrbGB2bU8B"
      },
      "source": [
        "# test\n",
        "\n",
        "audio_path = []\n",
        "transcription = []\n",
        "initial_audio = \"/content/gdrive/MyDrive/jf8398hf30f0381738rucj3828chfdnchs.tar.gz (Unzipped Files)/fluent_speech_commands_dataset\"\n",
        "#write json file\n",
        "\n",
        "with open(\"/content/sample_data/test.json\" , \"w\") as f:\n",
        "\n",
        "  for i, data in test_df.iterrows():\n",
        "    row_json = {\"file\" :initial_audio + \"/\" + data[\"path\"], \"text\" : data[\"transcription\"]}\n",
        "    json.dump(row_json, f)\n",
        "    f.write(\"\\n\")\n",
        "    if (i == 51):\n",
        "      break"
      ],
      "execution_count": 8,
      "outputs": []
    },
    {
      "cell_type": "markdown",
      "metadata": {
        "id": "tvbdqy_gbaL1"
      },
      "source": [
        "# prepare dataset"
      ]
    },
    {
      "cell_type": "code",
      "metadata": {
        "colab": {
          "base_uri": "https://localhost:8080/",
          "height": 87,
          "referenced_widgets": [
            "14580e838ca94d3db263917575d75f58",
            "7a7bec61cf714ee4b438a21eff277ea5",
            "310103dc6e234c6ca01648fe2ca0f0d0",
            "b4f22331adc049e09097e44289017ecd",
            "d60bebaff67a4dfc89fbd02a2d7fe80f",
            "f7358b81873541a5a357590df19f1287",
            "98a3ba45228a4806bd99dc357e811cc3",
            "1c31606d82494905906264b8aaeb7f67"
          ]
        },
        "id": "otZ9-ojlbXLJ",
        "outputId": "43d69026-2629-49da-8543-4321cf9fb82d"
      },
      "source": [
        "timit = load_dataset(\"json\", \n",
        "                     data_files = {\"train\" : \"/content/sample_data/train.json\"}\n",
        "                     )\n"
      ],
      "execution_count": 9,
      "outputs": [
        {
          "output_type": "stream",
          "text": [
            "Using custom data configuration default-2bec19970d3c18a2\n"
          ],
          "name": "stderr"
        },
        {
          "output_type": "stream",
          "text": [
            "Downloading and preparing dataset json/default (download: Unknown size, generated: Unknown size, post-processed: Unknown size, total: Unknown size) to /root/.cache/huggingface/datasets/json/default-2bec19970d3c18a2/0.0.0/dc7ee63ec8b554c48ecc5a8a6fbe27af8071408c244e4347cf9222d6206d83a2...\n"
          ],
          "name": "stdout"
        },
        {
          "output_type": "display_data",
          "data": {
            "application/vnd.jupyter.widget-view+json": {
              "model_id": "14580e838ca94d3db263917575d75f58",
              "version_minor": 0,
              "version_major": 2
            },
            "text/plain": [
              "HBox(children=(FloatProgress(value=1.0, bar_style='info', max=1.0), HTML(value='')))"
            ]
          },
          "metadata": {
            "tags": []
          }
        },
        {
          "output_type": "stream",
          "text": [
            "\rDataset json downloaded and prepared to /root/.cache/huggingface/datasets/json/default-2bec19970d3c18a2/0.0.0/dc7ee63ec8b554c48ecc5a8a6fbe27af8071408c244e4347cf9222d6206d83a2. Subsequent calls will reuse this data.\n"
          ],
          "name": "stdout"
        }
      ]
    },
    {
      "cell_type": "code",
      "metadata": {
        "id": "R1ykNg3sbczb"
      },
      "source": [
        "timit = timit[\"train\"].train_test_split(0.1)"
      ],
      "execution_count": 10,
      "outputs": []
    },
    {
      "cell_type": "code",
      "metadata": {
        "colab": {
          "base_uri": "https://localhost:8080/"
        },
        "id": "zzkSqQi4bfRj",
        "outputId": "c0bf2f04-a13d-4919-ee54-2137d1274eda"
      },
      "source": [
        "timit"
      ],
      "execution_count": 11,
      "outputs": [
        {
          "output_type": "execute_result",
          "data": {
            "text/plain": [
              "DatasetDict({\n",
              "    train: Dataset({\n",
              "        features: ['file', 'text'],\n",
              "        num_rows: 4500\n",
              "    })\n",
              "    test: Dataset({\n",
              "        features: ['file', 'text'],\n",
              "        num_rows: 501\n",
              "    })\n",
              "})"
            ]
          },
          "metadata": {
            "tags": []
          },
          "execution_count": 11
        }
      ]
    },
    {
      "cell_type": "markdown",
      "metadata": {
        "id": "jKnF6m6id2ar"
      },
      "source": [
        "# Trial "
      ]
    },
    {
      "cell_type": "code",
      "metadata": {
        "id": "AMsemAc5bhqS"
      },
      "source": [
        "from datasets import ClassLabel\n",
        "import random\n",
        "import pandas as pd\n",
        "from IPython.display import display, HTML\n",
        "\n",
        "def show_random_elements(dataset, num_examples=10):\n",
        "    assert num_examples <= len(dataset), \"Can't pick more elements than there are in the dataset.\"\n",
        "    picks = []\n",
        "    for _ in range(num_examples):\n",
        "        pick = random.randint(0, len(dataset)-1)\n",
        "        while pick in picks:\n",
        "            pick = random.randint(0, len(dataset)-1)\n",
        "        picks.append(pick)\n",
        "    \n",
        "    df = pd.DataFrame(dataset[picks])\n",
        "    display(HTML(df.to_html()))"
      ],
      "execution_count": 12,
      "outputs": []
    },
    {
      "cell_type": "code",
      "metadata": {
        "colab": {
          "base_uri": "https://localhost:8080/",
          "height": 665
        },
        "id": "NvQkFG3ZbkOb",
        "outputId": "039639e8-332d-4ab6-ecb1-04003f432b65"
      },
      "source": [
        "show_random_elements(timit[\"train\"].remove_columns([\"file\"]), num_examples=20)"
      ],
      "execution_count": 13,
      "outputs": [
        {
          "output_type": "display_data",
          "data": {
            "text/html": [
              "<table border=\"1\" class=\"dataframe\">\n",
              "  <thead>\n",
              "    <tr style=\"text-align: right;\">\n",
              "      <th></th>\n",
              "      <th>text</th>\n",
              "    </tr>\n",
              "  </thead>\n",
              "  <tbody>\n",
              "    <tr>\n",
              "      <th>0</th>\n",
              "      <td>Lights on</td>\n",
              "    </tr>\n",
              "    <tr>\n",
              "      <th>1</th>\n",
              "      <td>Lights off in the bedroom</td>\n",
              "    </tr>\n",
              "    <tr>\n",
              "      <th>2</th>\n",
              "      <td>Turn up the heat in the bathroom</td>\n",
              "    </tr>\n",
              "    <tr>\n",
              "      <th>3</th>\n",
              "      <td>Bring socks</td>\n",
              "    </tr>\n",
              "    <tr>\n",
              "      <th>4</th>\n",
              "      <td>Turn up the bedroom heat</td>\n",
              "    </tr>\n",
              "    <tr>\n",
              "      <th>5</th>\n",
              "      <td>Increase the temperature in the bathroom</td>\n",
              "    </tr>\n",
              "    <tr>\n",
              "      <th>6</th>\n",
              "      <td>Turn the heat down</td>\n",
              "    </tr>\n",
              "    <tr>\n",
              "      <th>7</th>\n",
              "      <td>Washroom heat down</td>\n",
              "    </tr>\n",
              "    <tr>\n",
              "      <th>8</th>\n",
              "      <td>I couldn't hear anything, turn up the volume</td>\n",
              "    </tr>\n",
              "    <tr>\n",
              "      <th>9</th>\n",
              "      <td>Go get me some juice</td>\n",
              "    </tr>\n",
              "    <tr>\n",
              "      <th>10</th>\n",
              "      <td>Turn off the kitchen lights</td>\n",
              "    </tr>\n",
              "    <tr>\n",
              "      <th>11</th>\n",
              "      <td>Stop</td>\n",
              "    </tr>\n",
              "    <tr>\n",
              "      <th>12</th>\n",
              "      <td>Turn up the heat in the washroom</td>\n",
              "    </tr>\n",
              "    <tr>\n",
              "      <th>13</th>\n",
              "      <td>Turn up the washroom temperature</td>\n",
              "    </tr>\n",
              "    <tr>\n",
              "      <th>14</th>\n",
              "      <td>I need to practice my English. Switch the language</td>\n",
              "    </tr>\n",
              "    <tr>\n",
              "      <th>15</th>\n",
              "      <td>Turn up the volume</td>\n",
              "    </tr>\n",
              "    <tr>\n",
              "      <th>16</th>\n",
              "      <td>Resume music</td>\n",
              "    </tr>\n",
              "    <tr>\n",
              "      <th>17</th>\n",
              "      <td>Far too quiet</td>\n",
              "    </tr>\n",
              "    <tr>\n",
              "      <th>18</th>\n",
              "      <td>Decrease the heating in the kitchen</td>\n",
              "    </tr>\n",
              "    <tr>\n",
              "      <th>19</th>\n",
              "      <td>Lights off</td>\n",
              "    </tr>\n",
              "  </tbody>\n",
              "</table>"
            ],
            "text/plain": [
              "<IPython.core.display.HTML object>"
            ]
          },
          "metadata": {
            "tags": []
          }
        }
      ]
    },
    {
      "cell_type": "code",
      "metadata": {
        "id": "_G6VdgOfbmOc"
      },
      "source": [
        "import re\n",
        "chars_to_ignore_regex = '[\\,\\?\\.\\!\\-\\;\\:\\'’\"]'\n",
        "\n",
        "def remove_special_characters(batch):\n",
        "    batch[\"text\"] = re.sub(chars_to_ignore_regex, '', batch[\"text\"]).lower() + \" \"\n",
        "    return batch"
      ],
      "execution_count": 14,
      "outputs": []
    },
    {
      "cell_type": "code",
      "metadata": {
        "colab": {
          "base_uri": "https://localhost:8080/",
          "height": 114,
          "referenced_widgets": [
            "ca154b054def4cb9993133da49ae2ff2",
            "c417b9be638549f4b7393c8b4c436aca",
            "9c1893419f8248528e3da11da3818872",
            "cf4ebcd3d8f34c84bfc23e8414220ad6",
            "04f131d4f5d94b7eab5b8e989994ddad",
            "71ef8f8ca1064dbda8700d406e7ffe03",
            "603c38091b7e458aa60d45eabe493f1a",
            "0354d168d522488d9d66ffa6647de263",
            "fa51187e310646a0a27dd08785d8b2ce",
            "4fc746e3aed6426194ce9ba31f9e8f9e",
            "f70a29d0b7684dc39ea5bc89b15a9ccf",
            "8f2910ad22364a35881d0ad86dc47985",
            "1ca87157ac584beeaa5b495200e9936d",
            "ecbb9501d2a34ec1b9a5d2232af66c10",
            "282ded4cb8394041b8b2193fcc91f5ff",
            "5777e2cdd7784e438cbe12a5744fa1bd"
          ]
        },
        "id": "uk_-HxgcboKl",
        "outputId": "e07248da-9613-43fd-b439-3785d72d805d"
      },
      "source": [
        "timit = timit.map(remove_special_characters)"
      ],
      "execution_count": 15,
      "outputs": [
        {
          "output_type": "display_data",
          "data": {
            "application/vnd.jupyter.widget-view+json": {
              "model_id": "ca154b054def4cb9993133da49ae2ff2",
              "version_minor": 0,
              "version_major": 2
            },
            "text/plain": [
              "HBox(children=(FloatProgress(value=0.0, max=4500.0), HTML(value='')))"
            ]
          },
          "metadata": {
            "tags": []
          }
        },
        {
          "output_type": "stream",
          "text": [
            "\n"
          ],
          "name": "stdout"
        },
        {
          "output_type": "display_data",
          "data": {
            "application/vnd.jupyter.widget-view+json": {
              "model_id": "fa51187e310646a0a27dd08785d8b2ce",
              "version_minor": 0,
              "version_major": 2
            },
            "text/plain": [
              "HBox(children=(FloatProgress(value=0.0, max=501.0), HTML(value='')))"
            ]
          },
          "metadata": {
            "tags": []
          }
        },
        {
          "output_type": "stream",
          "text": [
            "\n"
          ],
          "name": "stdout"
        }
      ]
    },
    {
      "cell_type": "code",
      "metadata": {
        "colab": {
          "base_uri": "https://localhost:8080/",
          "height": 357
        },
        "id": "PxA4wfiobqVL",
        "outputId": "16ccfcda-7e6e-46d9-e1a8-4620e928f856"
      },
      "source": [
        "show_random_elements(timit[\"train\"].remove_columns([\"file\"]))"
      ],
      "execution_count": 16,
      "outputs": [
        {
          "output_type": "display_data",
          "data": {
            "text/html": [
              "<table border=\"1\" class=\"dataframe\">\n",
              "  <thead>\n",
              "    <tr style=\"text-align: right;\">\n",
              "      <th></th>\n",
              "      <th>text</th>\n",
              "    </tr>\n",
              "  </thead>\n",
              "  <tbody>\n",
              "    <tr>\n",
              "      <th>0</th>\n",
              "      <td>turn the volume down</td>\n",
              "    </tr>\n",
              "    <tr>\n",
              "      <th>1</th>\n",
              "      <td>make it louder</td>\n",
              "    </tr>\n",
              "    <tr>\n",
              "      <th>2</th>\n",
              "      <td>decrease the temperature in the kitchen</td>\n",
              "    </tr>\n",
              "    <tr>\n",
              "      <th>3</th>\n",
              "      <td>turn the bedroom heat down</td>\n",
              "    </tr>\n",
              "    <tr>\n",
              "      <th>4</th>\n",
              "      <td>lights on in the bedroom</td>\n",
              "    </tr>\n",
              "    <tr>\n",
              "      <th>5</th>\n",
              "      <td>turn off the lamp</td>\n",
              "    </tr>\n",
              "    <tr>\n",
              "      <th>6</th>\n",
              "      <td>kitchen lights off</td>\n",
              "    </tr>\n",
              "    <tr>\n",
              "      <th>7</th>\n",
              "      <td>could you increase the heating please</td>\n",
              "    </tr>\n",
              "    <tr>\n",
              "      <th>8</th>\n",
              "      <td>turn on the lights in the bedroom</td>\n",
              "    </tr>\n",
              "    <tr>\n",
              "      <th>9</th>\n",
              "      <td>reduce audio volume</td>\n",
              "    </tr>\n",
              "  </tbody>\n",
              "</table>"
            ],
            "text/plain": [
              "<IPython.core.display.HTML object>"
            ]
          },
          "metadata": {
            "tags": []
          }
        }
      ]
    },
    {
      "cell_type": "code",
      "metadata": {
        "id": "oePKTUBzbskS"
      },
      "source": [
        "def extract_all_chars(batch):\n",
        "  all_text = \" \".join(batch[\"text\"])\n",
        "  vocab = list(set(all_text))\n",
        "  return {\"vocab\": [vocab], \"all_text\": [all_text]}"
      ],
      "execution_count": 17,
      "outputs": []
    },
    {
      "cell_type": "code",
      "metadata": {
        "colab": {
          "base_uri": "https://localhost:8080/",
          "height": 114,
          "referenced_widgets": [
            "854a9ebb32734dac9af99f3cc4d03d22",
            "7580a708c2eb43f68b79a52c18889a65",
            "f04814e383bb4ec9b911dfac10f4d680",
            "4a3ab1e1a5d841b1b2b65923d1f45f4c",
            "1c3b52d7d08b4c4c89a427e51423fbe0",
            "28f24a01e181414ca04c55822f3569e3",
            "d9eccdc0ebf549b8ac1e0ee9bf641c85",
            "334c7f6cb7b64615ad8ae4bb712a55df",
            "c30898ba2ba54fd58097aadeaf080459",
            "319cbffecdee4045806c038fe34e33e7",
            "c7a46c2e6e354eb1a19aae8beb08939d",
            "d6cbbfb49217498f9cf776892f994df2",
            "710deab2a72048e5afbeb2e9cf747d3b",
            "37d2f05cd1454980ba61bd97dec9e643",
            "3459386f4661469ca9e1e31af8b87e3f",
            "43d3f6317a5c4d97b57185dc8bfaa542"
          ]
        },
        "id": "iMvSziHwbugS",
        "outputId": "853a20a5-c11f-4f80-fc88-a8c614575b31"
      },
      "source": [
        "vocabs = timit.map(extract_all_chars, batched=True, batch_size=-1, keep_in_memory=True, remove_columns=timit.column_names[\"train\"])"
      ],
      "execution_count": 18,
      "outputs": [
        {
          "output_type": "display_data",
          "data": {
            "application/vnd.jupyter.widget-view+json": {
              "model_id": "854a9ebb32734dac9af99f3cc4d03d22",
              "version_minor": 0,
              "version_major": 2
            },
            "text/plain": [
              "HBox(children=(FloatProgress(value=0.0, max=1.0), HTML(value='')))"
            ]
          },
          "metadata": {
            "tags": []
          }
        },
        {
          "output_type": "stream",
          "text": [
            "\n"
          ],
          "name": "stdout"
        },
        {
          "output_type": "display_data",
          "data": {
            "application/vnd.jupyter.widget-view+json": {
              "model_id": "c30898ba2ba54fd58097aadeaf080459",
              "version_minor": 0,
              "version_major": 2
            },
            "text/plain": [
              "HBox(children=(FloatProgress(value=0.0, max=1.0), HTML(value='')))"
            ]
          },
          "metadata": {
            "tags": []
          }
        },
        {
          "output_type": "stream",
          "text": [
            "\n"
          ],
          "name": "stdout"
        }
      ]
    },
    {
      "cell_type": "code",
      "metadata": {
        "id": "0sdZS0A3bwN9"
      },
      "source": [
        "vocab_list = list(set(vocabs[\"train\"][\"vocab\"][0]))"
      ],
      "execution_count": 19,
      "outputs": []
    },
    {
      "cell_type": "code",
      "metadata": {
        "id": "5wx2cfz5bx4x"
      },
      "source": [
        "vocab_dict = {v: k for k, v in enumerate(vocab_list)}\n",
        "#vocab_dict"
      ],
      "execution_count": 31,
      "outputs": []
    },
    {
      "cell_type": "code",
      "metadata": {
        "id": "q5wGswIFbzqX"
      },
      "source": [
        "vocab_dict[\"|\"] = vocab_dict[\" \"]\n",
        "del vocab_dict[\" \"]"
      ],
      "execution_count": 21,
      "outputs": []
    },
    {
      "cell_type": "code",
      "metadata": {
        "colab": {
          "base_uri": "https://localhost:8080/"
        },
        "id": "z1IkVV-Fb1-_",
        "outputId": "46a610f3-7208-4794-f997-124a1a7cca76"
      },
      "source": [
        "vocab_dict[\"[UNK]\"] = len(vocab_dict)\n",
        "vocab_dict[\"[PAD]\"] = len(vocab_dict)\n",
        "len(vocab_dict)"
      ],
      "execution_count": 22,
      "outputs": [
        {
          "output_type": "execute_result",
          "data": {
            "text/plain": [
              "28"
            ]
          },
          "metadata": {
            "tags": []
          },
          "execution_count": 22
        }
      ]
    },
    {
      "cell_type": "code",
      "metadata": {
        "id": "V0U0c-DLb5tD"
      },
      "source": [
        "import json\n",
        "with open('vocab.json', 'w') as vocab_file:\n",
        "    json.dump(vocab_dict, vocab_file)"
      ],
      "execution_count": 24,
      "outputs": []
    },
    {
      "cell_type": "code",
      "metadata": {
        "id": "VHHp9R7Ub7-g"
      },
      "source": [
        "from transformers import Wav2Vec2CTCTokenizer\n",
        "\n",
        "tokenizer = Wav2Vec2CTCTokenizer(\"./vocab.json\", unk_token=\"[UNK]\", pad_token=\"[PAD]\", word_delimiter_token=\"|\")"
      ],
      "execution_count": 25,
      "outputs": []
    },
    {
      "cell_type": "code",
      "metadata": {
        "id": "uT6eADEUb-Z9"
      },
      "source": [
        "from transformers import Wav2Vec2FeatureExtractor\n",
        "\n",
        "feature_extractor = Wav2Vec2FeatureExtractor(feature_size=1, sampling_rate=16000, padding_value=0.0, do_normalize=True, return_attention_mask=False)"
      ],
      "execution_count": 26,
      "outputs": []
    },
    {
      "cell_type": "code",
      "metadata": {
        "id": "z1Z1Wy7ocABR"
      },
      "source": [
        "from transformers import Wav2Vec2Processor\n",
        "\n",
        "processor = Wav2Vec2Processor(feature_extractor=feature_extractor, tokenizer=tokenizer)"
      ],
      "execution_count": 41,
      "outputs": []
    },
    {
      "cell_type": "code",
      "metadata": {
        "id": "-pC7KqDe-_J9"
      },
      "source": [
        "processor.save_pretrained(\"/content/gdrive/MyDrive/new_123\")"
      ],
      "execution_count": null,
      "outputs": []
    },
    {
      "cell_type": "code",
      "metadata": {
        "colab": {
          "base_uri": "https://localhost:8080/"
        },
        "id": "WRK-JY0NcB6g",
        "outputId": "7008889a-7f5d-49f1-bab7-f59f07170b2e"
      },
      "source": [
        "timit[\"train\"][0]"
      ],
      "execution_count": 28,
      "outputs": [
        {
          "output_type": "execute_result",
          "data": {
            "text/plain": [
              "{'file': '/content/gdrive/MyDrive/jf8398hf30f0381738rucj3828chfdnchs.tar.gz (Unzipped Files)/fluent_speech_commands_dataset/wavs/speakers/AY5e3mMgZkIyG3Ox/78a36910-446d-11e9-beaa-1f3e1eab7bff.wav',\n",
              " 'text': 'could you increase the heating '}"
            ]
          },
          "metadata": {
            "tags": []
          },
          "execution_count": 28
        }
      ]
    },
    {
      "cell_type": "code",
      "metadata": {
        "id": "dBn4uoJhcGmH"
      },
      "source": [
        "import soundfile as sf\n",
        "\n",
        "def speech_file_to_array_fn(batch):\n",
        "    speech_array, sampling_rate = lb.load(batch[\"file\"], sr = 16000)\n",
        "    batch[\"speech\"] = speech_array\n",
        "    batch[\"sampling_rate\"] = sampling_rate\n",
        "    batch[\"target_text\"] = batch[\"text\"]\n",
        "    return batch"
      ],
      "execution_count": 29,
      "outputs": []
    },
    {
      "cell_type": "code",
      "metadata": {
        "colab": {
          "base_uri": "https://localhost:8080/",
          "height": 441,
          "referenced_widgets": [
            "37bd8a2c4cd54e24a9223d425abbe975",
            "702afb9d58f84858a89acc043ea76efc",
            "59cec870ad6f4280a22bbb2be03c354c",
            "cc293d27bdd44360a76ff805e052de00",
            "c434a7565c88465bb014e7ba450f2ab4",
            "a3dfbb59ac5c4e388c286e55f73a4fc9",
            "337dd1fa8f5145bc80267fd418b230c5",
            "164b94cde38c4d2b8b40347500d66cb0",
            "3b738d35c09c444ea296eaa0e7b92fc6",
            "eff0e15677824c4da41e516f5f7111ae",
            "7c965595fa9c4aaaaab91523f2aa85ac",
            "5be8b106eba34e2195de57877787c506",
            "2118d88727c64ec3ae662dbca78ba9e2",
            "d33cd2ba753c498da912895b19c4515e",
            "b49ed7ae25da4d47b2578a0ec092d340",
            "9ab95f588b934cc1b54ae01ae6122f3e",
            "ad285773f778421f882e9fb480ed92cc",
            "113472cd232c4121b1f8a40ae89d0eb0",
            "7039bed05be84d86932e8144decc8a86",
            "ded011090ac2451d95bacf883aef36fa",
            "268d1729b79f485daacb6dcee2f13afd",
            "237aa96ab06545b9a1d7e46325414dab",
            "89aa3909b8714513a4fde7ba278bc2e7",
            "257de9624f1649d4adcc84540bc719f2",
            "0345c0f226484cabbb98b572750eddd1",
            "e168bd9539da43c89e97d1959be2a8bb",
            "a3cfbd91bc8c4055a5923cf7fac7f162",
            "394e5ac886ad4565bde67759c6972e83",
            "eebfaf85326a4baab6bb50ac7de71052",
            "234f626c1e734db0a14da78b30978dca",
            "fc688a5735644f4cb4a84e1c2a398c5a",
            "34ebae730ae04370bc29440c2ce50c04",
            "30133fcaa0e7457f8aebca51881d0acd",
            "08dce7300c134806b1aec18bc8475d84",
            "dee848b6e4ce4df8ae9e4913f3aeb89f",
            "3ef3ae0ee96647ebb4b9d7ce1cdd7e20",
            "a366c17bc2044ae68c8de624d0e0a061",
            "db0f218ff86341a79ee0d891438b8df6",
            "bafd0a1627c54c7ca7f2dda96e3fd6d2",
            "b86fe02ad31c4ca481f28d204cd25174",
            "caec6436d76e4ef89c3ca69a249c0853",
            "4a4712e6afeb4362bdc630a30f9441a6",
            "b18618aaa3cb4245beb334f9d84e281f",
            "db5bcf81db124d45839e8a0fbe06fc6d",
            "844378f865234a5e9b8fd6848108e2c4",
            "d937b2ca34d34c51b699b4b5932dd49c",
            "56f0aab418924931a56a20d136fb576a",
            "c0d0ba95cacd47cdb70cdbe16d07cf1d",
            "e33c93b84bb4409cae2b0acf5f67f58b",
            "0f88d736300a4a478504b8c51e31389b",
            "5d9ab44153e94abfbbe5fb8dd8375bf7",
            "1a18850cfcc84907b123a08282bc693e",
            "a9468973b37a40d8b8a6e79a42db01a5",
            "3e07a3fa32214b89ac562946eaff47ad",
            "7444e354b7804fd180d946c96871e509",
            "bd6ce08ce62146b5849f554b865eef5f",
            "dcf192e994d4492bbb406447621f9e40",
            "105a53c34cf14bf3bb38a6b3101c2765",
            "4313cd8df59747ee9e7816fe46800653",
            "8b140ebc2ec6418ebb82758ebd315fc7",
            "30814414e9bf483b8f035d9af1f8e48f",
            "00ad024a693245199ef9a7294b69fec9",
            "5badea5447b540a595b6bf90ec7622e8",
            "4f6b4337a4f8470a9b33c41ed51f227c"
          ]
        },
        "id": "K1St9diQcJGW",
        "outputId": "8e47dc6e-5137-463c-bd20-148438a2c8b3"
      },
      "source": [
        "timit = timit.map(speech_file_to_array_fn, remove_columns=timit.column_names[\"train\"], num_proc=4)"
      ],
      "execution_count": 49,
      "outputs": [
        {
          "output_type": "stream",
          "text": [
            "    "
          ],
          "name": "stdout"
        },
        {
          "output_type": "display_data",
          "data": {
            "application/vnd.jupyter.widget-view+json": {
              "model_id": "37bd8a2c4cd54e24a9223d425abbe975",
              "version_minor": 0,
              "version_major": 2
            },
            "text/plain": [
              "HBox(children=(FloatProgress(value=0.0, description='#1', max=1125.0, style=ProgressStyle(description_width='i…"
            ]
          },
          "metadata": {
            "tags": []
          }
        },
        {
          "output_type": "display_data",
          "data": {
            "application/vnd.jupyter.widget-view+json": {
              "model_id": "3b738d35c09c444ea296eaa0e7b92fc6",
              "version_minor": 0,
              "version_major": 2
            },
            "text/plain": [
              "HBox(children=(FloatProgress(value=0.0, description='#0', max=1125.0, style=ProgressStyle(description_width='i…"
            ]
          },
          "metadata": {
            "tags": []
          }
        },
        {
          "output_type": "display_data",
          "data": {
            "application/vnd.jupyter.widget-view+json": {
              "model_id": "ad285773f778421f882e9fb480ed92cc",
              "version_minor": 0,
              "version_major": 2
            },
            "text/plain": [
              "HBox(children=(FloatProgress(value=0.0, description='#2', max=1125.0, style=ProgressStyle(description_width='i…"
            ]
          },
          "metadata": {
            "tags": []
          }
        },
        {
          "output_type": "display_data",
          "data": {
            "application/vnd.jupyter.widget-view+json": {
              "model_id": "0345c0f226484cabbb98b572750eddd1",
              "version_minor": 0,
              "version_major": 2
            },
            "text/plain": [
              "HBox(children=(FloatProgress(value=0.0, description='#3', max=1125.0, style=ProgressStyle(description_width='i…"
            ]
          },
          "metadata": {
            "tags": []
          }
        },
        {
          "output_type": "stream",
          "text": [
            "\n",
            "\n",
            "\n",
            "\n",
            "    "
          ],
          "name": "stdout"
        },
        {
          "output_type": "display_data",
          "data": {
            "application/vnd.jupyter.widget-view+json": {
              "model_id": "30133fcaa0e7457f8aebca51881d0acd",
              "version_minor": 0,
              "version_major": 2
            },
            "text/plain": [
              "HBox(children=(FloatProgress(value=0.0, description='#0', max=126.0, style=ProgressStyle(description_width='in…"
            ]
          },
          "metadata": {
            "tags": []
          }
        },
        {
          "output_type": "display_data",
          "data": {
            "application/vnd.jupyter.widget-view+json": {
              "model_id": "caec6436d76e4ef89c3ca69a249c0853",
              "version_minor": 0,
              "version_major": 2
            },
            "text/plain": [
              "HBox(children=(FloatProgress(value=0.0, description='#1', max=125.0, style=ProgressStyle(description_width='in…"
            ]
          },
          "metadata": {
            "tags": []
          }
        },
        {
          "output_type": "display_data",
          "data": {
            "application/vnd.jupyter.widget-view+json": {
              "model_id": "e33c93b84bb4409cae2b0acf5f67f58b",
              "version_minor": 0,
              "version_major": 2
            },
            "text/plain": [
              "HBox(children=(FloatProgress(value=0.0, description='#3', max=125.0, style=ProgressStyle(description_width='in…"
            ]
          },
          "metadata": {
            "tags": []
          }
        },
        {
          "output_type": "display_data",
          "data": {
            "application/vnd.jupyter.widget-view+json": {
              "model_id": "dcf192e994d4492bbb406447621f9e40",
              "version_minor": 0,
              "version_major": 2
            },
            "text/plain": [
              "HBox(children=(FloatProgress(value=0.0, description='#2', max=125.0, style=ProgressStyle(description_width='in…"
            ]
          },
          "metadata": {
            "tags": []
          }
        },
        {
          "output_type": "stream",
          "text": [
            "\n",
            "\n",
            "\n",
            "\n"
          ],
          "name": "stdout"
        }
      ]
    },
    {
      "cell_type": "code",
      "metadata": {
        "colab": {
          "base_uri": "https://localhost:8080/",
          "height": 75
        },
        "id": "ZaFGtWcEcK9F",
        "outputId": "b9a9123a-9bf3-4d50-cf21-bd27ca12f5d0"
      },
      "source": [
        "import IPython.display as ipd\n",
        "import numpy as np\n",
        "import random\n",
        "\n",
        "rand_int = random.randint(0, len(timit[\"train\"]))\n",
        "\n",
        "ipd.Audio(data=np.asarray(timit[\"train\"][rand_int][\"speech\"]), autoplay=True, rate=16000)"
      ],
      "execution_count": 50,
      "outputs": [
        {
          "output_type": "execute_result",
          "data": {
            "text/html": [
              "\n",
              "                <audio controls=\"controls\" autoplay=\"autoplay\">\n",
              "                    <source src=\"data:audio/wav;base64,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\" type=\"audio/wav\" />\n",
              "                    Your browser does not support the audio element.\n",
              "                </audio>\n",
              "              "
            ],
            "text/plain": [
              "<IPython.lib.display.Audio object>"
            ]
          },
          "metadata": {
            "tags": []
          },
          "execution_count": 50
        }
      ]
    },
    {
      "cell_type": "code",
      "metadata": {
        "colab": {
          "base_uri": "https://localhost:8080/"
        },
        "id": "eHjsk622cM42",
        "outputId": "4fa16365-ae21-4395-87ee-85b3d9f67719"
      },
      "source": [
        "rand_int = random.randint(0, len(timit[\"train\"]))\n",
        "\n",
        "print(\"Target text:\", timit[\"train\"][rand_int][\"target_text\"])\n",
        "print(\"Input array shape:\", np.asarray(timit[\"train\"][rand_int][\"speech\"]).shape)\n",
        "print(\"Sampling rate:\", timit[\"train\"][rand_int][\"sampling_rate\"])"
      ],
      "execution_count": 51,
      "outputs": [
        {
          "output_type": "stream",
          "text": [
            "Target text: stop \n",
            "Input array shape: (21845,)\n",
            "Sampling rate: 16000\n"
          ],
          "name": "stdout"
        }
      ]
    },
    {
      "cell_type": "code",
      "metadata": {
        "id": "Q06WrtbLcYMa"
      },
      "source": [
        "def prepare_dataset(batch):\n",
        "    # check that all files have the correct sampling rate\n",
        "    assert (\n",
        "        len(set(batch[\"sampling_rate\"])) == 1\n",
        "    ), f\"Make sure all inputs have the same sampling rate of {processor.feature_extractor.sampling_rate}.\"\n",
        "\n",
        "    batch[\"input_values\"] = processor(batch[\"speech\"], sampling_rate=batch[\"sampling_rate\"][0]).input_values\n",
        "    \n",
        "    with processor.as_target_processor():\n",
        "        batch[\"labels\"] = processor(batch[\"target_text\"]).input_ids\n",
        "    return batch"
      ],
      "execution_count": 52,
      "outputs": []
    },
    {
      "cell_type": "code",
      "metadata": {
        "colab": {
          "base_uri": "https://localhost:8080/",
          "height": 494,
          "referenced_widgets": [
            "6e1208452f85409ea4a557c14b810c02",
            "573ca74a98b04ce69c1eaa9ac00807ac",
            "9197550de1cd4f718689af9aba080cd6",
            "e05fba74e38948fc83b0c771bd5be68c",
            "e7cffd16a4f5442aaf8285291b833909",
            "bfa7dffc47f148d2aee3a3dd411d099b",
            "a85f6dcce7434fde8ef51d4da5f145e8",
            "472fc30d42d946d386a60d2c87039aed",
            "52a3bac4df594287b149bff5a2ae817f",
            "896057ae8255458b916c8d4f89633a9e",
            "e48a50b1aab645b0af16a12e0c5deda7",
            "e90721d401014f5185398ce4c5cc9726",
            "4b048892c1924cae9fd581e52057751b",
            "581ff42324b7453d9311e334402d1c81",
            "a0389879b9014eccaad7b03453d99e26",
            "79cfc24883a64187838ad8e010a032f3",
            "bb75f17f59094ae082410312c4364e59",
            "77ec65851e5a4748aef68f2736805b47",
            "7dcae7280edf4466a96879fe2a608d8a",
            "3120e05b929046678e738609eb822f0e",
            "e3997b893462441a8b0580d1ce99f2f3",
            "aa92efca7a5b4dda83c5c843c1fa010f",
            "1f76597fbbf7413aa9b14ffadac7469c",
            "a9bcdd88f60b4e1fa97ab68caa6c7ba5",
            "693a10d53dff48e1818a7e81c35a1a12",
            "9b4f1cbcd4db4f9196735320b3e8c8da",
            "f0ec35d89b2d4aa4a97cf92ffb8177d6",
            "17f8a7995664409f80bb0d6cb117c820",
            "53f46b1547f34ef3aa4710eef7a5029c",
            "b9a541b053794432b13ecffd9007054f",
            "af8ce4e165624b3cb04b0b96279bd00c",
            "b452dc4323e94eb5863e3c55618c4962",
            "c5584c6fee7a4da3a6807a9742c3d6e9",
            "14f3d86e57d64317b7461eed7f3f14ec",
            "926f68340fa5497b90541765b3fb7c5f",
            "3f3fc96eafda4bad97c9b55200dc26c2",
            "f10403e3249e449381470776421bc16a",
            "1740fc85006c413aa3981a4cf4933325",
            "26fa24fdb27a469393b41f45ac0cd292",
            "6206bcdb06c142f79e26e4c317140421",
            "70e1e658357248e3b6085a24ac5e1788",
            "3c3708390feb417c9b728ac2a213b65e",
            "fb3dd68d697147259b0ef89d49d21973",
            "5506d97e9dbc4723be157321eb41475a",
            "3be54629c84b4c4e8cfa19767d5bc75e",
            "69a48123502d46fc996311c70122b134",
            "362276e4388d4c50a1859b042b262280",
            "2d05c7ff87aa4fafaa176bb79f3b4450",
            "34e4ff5b5ad449988ac9981c5913bb46",
            "87a41b1d3f70421f934f6dfe272510cd",
            "7364c41ec2d540a8b84e1e5d9d615d63",
            "e20935510abc4518a3f209002215ea18",
            "7aa1aefd5f7f4a3e88c022c78eb3d8a0",
            "1ed8239a71134a76a5881bad53f87b0f",
            "66d31df965bd4166962b47bc66026145",
            "6068ba6e9940433bb411473222274da0",
            "2f41c0dc9dc94156bd32c624cc4be508",
            "594374f1280941e59556e4f7c7547f9b",
            "56b9bb3ffdbc494180e62d74234fead6",
            "9c28b3ad6a424300b3f31701e1177958",
            "3db6872e3e7444239c33b33bec7bae4c",
            "bd0c7bdccdfd4f3b873004bbe76cc71e",
            "e8f657730468438e851a94f17ed004af",
            "186c522f426040408df30d5097d614b1"
          ]
        },
        "id": "LN3XLOApcaMT",
        "outputId": "7b97a339-7b72-4bed-ce67-fefc402aaaab"
      },
      "source": [
        "timit_prepared = timit.map(prepare_dataset, remove_columns=timit.column_names[\"train\"], batch_size=8, num_proc=4, batched=True)"
      ],
      "execution_count": 53,
      "outputs": [
        {
          "output_type": "stream",
          "text": [
            "/usr/local/lib/python3.7/dist-packages/numpy/core/_asarray.py:83: VisibleDeprecationWarning: Creating an ndarray from ragged nested sequences (which is a list-or-tuple of lists-or-tuples-or ndarrays with different lengths or shapes) is deprecated. If you meant to do this, you must specify 'dtype=object' when creating the ndarray\n",
            "  return array(a, dtype, copy=False, order=order)\n"
          ],
          "name": "stderr"
        },
        {
          "output_type": "stream",
          "text": [
            "    "
          ],
          "name": "stdout"
        },
        {
          "output_type": "display_data",
          "data": {
            "application/vnd.jupyter.widget-view+json": {
              "model_id": "6e1208452f85409ea4a557c14b810c02",
              "version_minor": 0,
              "version_major": 2
            },
            "text/plain": [
              "HBox(children=(FloatProgress(value=0.0, description='#1', max=141.0, style=ProgressStyle(description_width='in…"
            ]
          },
          "metadata": {
            "tags": []
          }
        },
        {
          "output_type": "display_data",
          "data": {
            "application/vnd.jupyter.widget-view+json": {
              "model_id": "52a3bac4df594287b149bff5a2ae817f",
              "version_minor": 0,
              "version_major": 2
            },
            "text/plain": [
              "HBox(children=(FloatProgress(value=0.0, description='#0', max=141.0, style=ProgressStyle(description_width='in…"
            ]
          },
          "metadata": {
            "tags": []
          }
        },
        {
          "output_type": "display_data",
          "data": {
            "application/vnd.jupyter.widget-view+json": {
              "model_id": "bb75f17f59094ae082410312c4364e59",
              "version_minor": 0,
              "version_major": 2
            },
            "text/plain": [
              "HBox(children=(FloatProgress(value=0.0, description='#3', max=141.0, style=ProgressStyle(description_width='in…"
            ]
          },
          "metadata": {
            "tags": []
          }
        },
        {
          "output_type": "display_data",
          "data": {
            "application/vnd.jupyter.widget-view+json": {
              "model_id": "693a10d53dff48e1818a7e81c35a1a12",
              "version_minor": 0,
              "version_major": 2
            },
            "text/plain": [
              "HBox(children=(FloatProgress(value=0.0, description='#2', max=141.0, style=ProgressStyle(description_width='in…"
            ]
          },
          "metadata": {
            "tags": []
          }
        },
        {
          "output_type": "stream",
          "text": [
            "\n",
            "\n",
            "\n",
            "\n",
            "    "
          ],
          "name": "stdout"
        },
        {
          "output_type": "display_data",
          "data": {
            "application/vnd.jupyter.widget-view+json": {
              "model_id": "c5584c6fee7a4da3a6807a9742c3d6e9",
              "version_minor": 0,
              "version_major": 2
            },
            "text/plain": [
              "HBox(children=(FloatProgress(value=0.0, description='#0', max=16.0, style=ProgressStyle(description_width='ini…"
            ]
          },
          "metadata": {
            "tags": []
          }
        },
        {
          "output_type": "display_data",
          "data": {
            "application/vnd.jupyter.widget-view+json": {
              "model_id": "70e1e658357248e3b6085a24ac5e1788",
              "version_minor": 0,
              "version_major": 2
            },
            "text/plain": [
              "HBox(children=(FloatProgress(value=0.0, description='#1', max=16.0, style=ProgressStyle(description_width='ini…"
            ]
          },
          "metadata": {
            "tags": []
          }
        },
        {
          "output_type": "display_data",
          "data": {
            "application/vnd.jupyter.widget-view+json": {
              "model_id": "34e4ff5b5ad449988ac9981c5913bb46",
              "version_minor": 0,
              "version_major": 2
            },
            "text/plain": [
              "HBox(children=(FloatProgress(value=0.0, description='#3', max=16.0, style=ProgressStyle(description_width='ini…"
            ]
          },
          "metadata": {
            "tags": []
          }
        },
        {
          "output_type": "display_data",
          "data": {
            "application/vnd.jupyter.widget-view+json": {
              "model_id": "2f41c0dc9dc94156bd32c624cc4be508",
              "version_minor": 0,
              "version_major": 2
            },
            "text/plain": [
              "HBox(children=(FloatProgress(value=0.0, description='#2', max=16.0, style=ProgressStyle(description_width='ini…"
            ]
          },
          "metadata": {
            "tags": []
          }
        },
        {
          "output_type": "stream",
          "text": [
            "\n",
            "\n",
            "\n",
            "\n"
          ],
          "name": "stdout"
        }
      ]
    },
    {
      "cell_type": "code",
      "metadata": {
        "id": "RCtNtVdKccaL"
      },
      "source": [
        "import torch\n",
        "\n",
        "from dataclasses import dataclass, field\n",
        "from typing import Any, Dict, List, Optional, Union\n",
        "\n",
        "@dataclass\n",
        "class DataCollatorCTCWithPadding:\n",
        "    \"\"\"\n",
        "    Data collator that will dynamically pad the inputs received.\n",
        "    Args:\n",
        "        processor (:class:`~transformers.Wav2Vec2Processor`)\n",
        "            The processor used for proccessing the data.\n",
        "        padding (:obj:`bool`, :obj:`str` or :class:`~transformers.tokenization_utils_base.PaddingStrategy`, `optional`, defaults to :obj:`True`):\n",
        "            Select a strategy to pad the returned sequences (according to the model's padding side and padding index)\n",
        "            among:\n",
        "            * :obj:`True` or :obj:`'longest'`: Pad to the longest sequence in the batch (or no padding if only a single\n",
        "              sequence if provided).\n",
        "            * :obj:`'max_length'`: Pad to a maximum length specified with the argument :obj:`max_length` or to the\n",
        "              maximum acceptable input length for the model if that argument is not provided.\n",
        "            * :obj:`False` or :obj:`'do_not_pad'` (default): No padding (i.e., can output a batch with sequences of\n",
        "              different lengths).\n",
        "        max_length (:obj:`int`, `optional`):\n",
        "            Maximum length of the ``input_values`` of the returned list and optionally padding length (see above).\n",
        "        max_length_labels (:obj:`int`, `optional`):\n",
        "            Maximum length of the ``labels`` returned list and optionally padding length (see above).\n",
        "        pad_to_multiple_of (:obj:`int`, `optional`):\n",
        "            If set will pad the sequence to a multiple of the provided value.\n",
        "            This is especially useful to enable the use of Tensor Cores on NVIDIA hardware with compute capability >=\n",
        "            7.5 (Volta).\n",
        "    \"\"\"\n",
        "\n",
        "    processor: Wav2Vec2Processor\n",
        "    padding: Union[bool, str] = True\n",
        "    max_length: Optional[int] = None\n",
        "    max_length_labels: Optional[int] = None\n",
        "    pad_to_multiple_of: Optional[int] = None\n",
        "    pad_to_multiple_of_labels: Optional[int] = None\n",
        "\n",
        "    def __call__(self, features: List[Dict[str, Union[List[int], torch.Tensor]]]) -> Dict[str, torch.Tensor]:\n",
        "        # split inputs and labels since they have to be of different lenghts and need\n",
        "        # different padding methods\n",
        "        input_features = [{\"input_values\": feature[\"input_values\"]} for feature in features]\n",
        "        label_features = [{\"input_ids\": feature[\"labels\"]} for feature in features]\n",
        "\n",
        "        batch = self.processor.pad(\n",
        "            input_features,\n",
        "            padding=self.padding,\n",
        "            max_length=self.max_length,\n",
        "            pad_to_multiple_of=self.pad_to_multiple_of,\n",
        "            return_tensors=\"pt\",\n",
        "        )\n",
        "        with self.processor.as_target_processor():\n",
        "            labels_batch = self.processor.pad(\n",
        "                label_features,\n",
        "                padding=self.padding,\n",
        "                max_length=self.max_length_labels,\n",
        "                pad_to_multiple_of=self.pad_to_multiple_of_labels,\n",
        "                return_tensors=\"pt\",\n",
        "            )\n",
        "\n",
        "        # replace padding with -100 to ignore loss correctly\n",
        "        labels = labels_batch[\"input_ids\"].masked_fill(labels_batch.attention_mask.ne(1), -100)\n",
        "\n",
        "        batch[\"labels\"] = labels\n",
        "\n",
        "        return batch"
      ],
      "execution_count": null,
      "outputs": []
    },
    {
      "cell_type": "code",
      "metadata": {
        "id": "K1BUlTnvce1I"
      },
      "source": [
        "data_collator = DataCollatorCTCWithPadding(processor=processor, padding=True)"
      ],
      "execution_count": null,
      "outputs": []
    },
    {
      "cell_type": "code",
      "metadata": {
        "colab": {
          "base_uri": "https://localhost:8080/",
          "height": 66,
          "referenced_widgets": [
            "0799496c133641a1ae56c2d0bdbedf94",
            "e7ff5979d75b434491a14b4f485901d5",
            "bb13abe1af1740d39c9f7a43ea99842e",
            "9678e4b20e864913b1be7bc0a961ce4c",
            "4bfa779cd7e04e3d8d22e3905348e8ef",
            "0ea1b1131fc04f7badbede7399d78c39",
            "0686c425d92a42a3abf2ba12798a09c4",
            "4f1f421b3288492c81e8471a890e587e"
          ]
        },
        "id": "lBu3CrcIcgnx",
        "outputId": "1f3af4e3-7d3c-459a-f7fb-25733d8be551"
      },
      "source": [
        "wer_metric = load_metric(\"wer\")"
      ],
      "execution_count": null,
      "outputs": [
        {
          "output_type": "display_data",
          "data": {
            "application/vnd.jupyter.widget-view+json": {
              "model_id": "0799496c133641a1ae56c2d0bdbedf94",
              "version_major": 2,
              "version_minor": 0
            },
            "text/plain": [
              "HBox(children=(FloatProgress(value=0.0, description='Downloading', max=1764.0, style=ProgressStyle(description…"
            ]
          },
          "metadata": {
            "tags": []
          }
        },
        {
          "output_type": "stream",
          "text": [
            "\n"
          ],
          "name": "stdout"
        }
      ]
    },
    {
      "cell_type": "code",
      "metadata": {
        "id": "Kak45HihciQk"
      },
      "source": [
        "def compute_metrics(pred):\n",
        "    pred_logits = pred.predictions\n",
        "    pred_ids = np.argmax(pred_logits, axis=-1)\n",
        "\n",
        "    pred.label_ids[pred.label_ids == -100] = processor.tokenizer.pad_token_id\n",
        "\n",
        "    pred_str = processor.batch_decode(pred_ids)\n",
        "    # we do not want to group tokens when computing the metrics\n",
        "    label_str = processor.batch_decode(pred.label_ids, group_tokens=False)\n",
        "\n",
        "    wer = wer_metric.compute(predictions=pred_str, references=label_str)\n",
        "\n",
        "    return {\"wer\": wer}"
      ],
      "execution_count": null,
      "outputs": []
    },
    {
      "cell_type": "code",
      "metadata": {
        "colab": {
          "base_uri": "https://localhost:8080/",
          "height": 218,
          "referenced_widgets": [
            "d78c821d1fa54105a4e042214f5d16c3",
            "f6528a34278b4aa88273dea09e20e03c",
            "a53d8cffb42243ca904f4c4f2bccd5cb",
            "70ef8cca9be34abdb9db68efb369374b",
            "7f42f41e30ab422b8afdb85d60a79288",
            "6cccf6544db34190b167e1e9cbf7381c",
            "b49a6a4b2a2c4a2b936230b15f159c0d",
            "85685feb1402477db92c4b92d928e141",
            "612c41dcac314676a8891617091b68d4",
            "94bc63708d164d4f983cd3fbf8404987",
            "bde392f07bc54a3a8b9629532432dd6c",
            "0a523935dc13412783f7d945ad80a7e0",
            "3506d10d0b1a4556ada661b0f3acbfd8",
            "33fa9c96a2ed449c8bb1dfdd5c4f3fba",
            "6b182170e51847eea85aac4845c352fe",
            "b0f72921836d406a8d8af62e473cad02"
          ]
        },
        "id": "9byHFgOhckYM",
        "outputId": "36488077-abe2-4aed-ec09-a0035613f35e"
      },
      "source": [
        "from transformers import Wav2Vec2ForCTC\n",
        "\n",
        "model = Wav2Vec2ForCTC.from_pretrained(\n",
        "    \"facebook/wav2vec2-base\", \n",
        "    gradient_checkpointing=True, \n",
        "    ctc_loss_reduction=\"mean\", \n",
        "    pad_token_id=processor.tokenizer.pad_token_id,\n",
        ")"
      ],
      "execution_count": 34,
      "outputs": [
        {
          "output_type": "display_data",
          "data": {
            "application/vnd.jupyter.widget-view+json": {
              "model_id": "d78c821d1fa54105a4e042214f5d16c3",
              "version_minor": 0,
              "version_major": 2
            },
            "text/plain": [
              "HBox(children=(FloatProgress(value=0.0, description='Downloading', max=1843.0, style=ProgressStyle(description…"
            ]
          },
          "metadata": {
            "tags": []
          }
        },
        {
          "output_type": "stream",
          "text": [
            "\n"
          ],
          "name": "stdout"
        },
        {
          "output_type": "display_data",
          "data": {
            "application/vnd.jupyter.widget-view+json": {
              "model_id": "612c41dcac314676a8891617091b68d4",
              "version_minor": 0,
              "version_major": 2
            },
            "text/plain": [
              "HBox(children=(FloatProgress(value=0.0, description='Downloading', max=380267417.0, style=ProgressStyle(descri…"
            ]
          },
          "metadata": {
            "tags": []
          }
        },
        {
          "output_type": "stream",
          "text": [
            "\n"
          ],
          "name": "stdout"
        },
        {
          "output_type": "stream",
          "text": [
            "Some weights of the model checkpoint at facebook/wav2vec2-base were not used when initializing Wav2Vec2ForCTC: ['quantizer.codevectors', 'quantizer.weight_proj.weight', 'quantizer.weight_proj.bias', 'project_q.weight', 'project_q.bias', 'project_hid.weight', 'project_hid.bias']\n",
            "- This IS expected if you are initializing Wav2Vec2ForCTC from the checkpoint of a model trained on another task or with another architecture (e.g. initializing a BertForSequenceClassification model from a BertForPreTraining model).\n",
            "- This IS NOT expected if you are initializing Wav2Vec2ForCTC from the checkpoint of a model that you expect to be exactly identical (initializing a BertForSequenceClassification model from a BertForSequenceClassification model).\n",
            "Some weights of Wav2Vec2ForCTC were not initialized from the model checkpoint at facebook/wav2vec2-base and are newly initialized: ['lm_head.weight', 'lm_head.bias']\n",
            "You should probably TRAIN this model on a down-stream task to be able to use it for predictions and inference.\n"
          ],
          "name": "stderr"
        }
      ]
    },
    {
      "cell_type": "code",
      "metadata": {
        "id": "g3o8B-bxcmSf"
      },
      "source": [
        "model.freeze_feature_extractor()"
      ],
      "execution_count": null,
      "outputs": []
    },
    {
      "cell_type": "code",
      "metadata": {
        "id": "ffW9Nv3kcpl3"
      },
      "source": [
        "from transformers import TrainingArguments\n",
        "\n",
        "training_args = TrainingArguments(\n",
        "  output_dir = \"/content/gdrive/MyDrive/new_123\",\n",
        "  group_by_length=True,\n",
        "  per_device_train_batch_size=32,\n",
        "  evaluation_strategy=\"steps\",\n",
        "  num_train_epochs=50,\n",
        "  fp16=True,\n",
        "  save_steps=500,\n",
        "  eval_steps=500,\n",
        "  logging_steps=500,\n",
        "  learning_rate=1e-4,\n",
        "  weight_decay=0.005,\n",
        "  warmup_steps=1000,\n",
        "  save_total_limit=2,\n",
        ")"
      ],
      "execution_count": null,
      "outputs": []
    },
    {
      "cell_type": "code",
      "metadata": {
        "colab": {
          "base_uri": "https://localhost:8080/"
        },
        "id": "UmNGi6sdcrN2",
        "outputId": "f1ea0d34-1ac7-4fd0-d4a4-a4ed5f5d1095"
      },
      "source": [
        "timit_prepared[\"train\"]"
      ],
      "execution_count": null,
      "outputs": [
        {
          "output_type": "execute_result",
          "data": {
            "text/plain": [
              "Dataset({\n",
              "    features: ['input_values', 'labels'],\n",
              "    num_rows: 4500\n",
              "})"
            ]
          },
          "metadata": {
            "tags": []
          },
          "execution_count": 50
        }
      ]
    },
    {
      "cell_type": "code",
      "metadata": {
        "colab": {
          "base_uri": "https://localhost:8080/"
        },
        "id": "vWi2mCx2cs9o",
        "outputId": "e8980790-d1a0-42db-c637-4a836b5f41f9"
      },
      "source": [
        "timit_prepared[\"test\"]"
      ],
      "execution_count": null,
      "outputs": [
        {
          "output_type": "execute_result",
          "data": {
            "text/plain": [
              "Dataset({\n",
              "    features: ['input_values', 'labels'],\n",
              "    num_rows: 501\n",
              "})"
            ]
          },
          "metadata": {
            "tags": []
          },
          "execution_count": 51
        }
      ]
    },
    {
      "cell_type": "code",
      "metadata": {
        "id": "zmgn_s0qcuhc"
      },
      "source": [
        "from transformers import Trainer\n",
        "\n",
        "trainer = Trainer(\n",
        "    model=model,\n",
        "    data_collator=data_collator,\n",
        "    args=training_args,\n",
        "    compute_metrics=compute_metrics,\n",
        "    train_dataset=timit_prepared[\"train\"],\n",
        "    eval_dataset=timit_prepared[\"test\"],\n",
        "    tokenizer=processor.feature_extractor,\n",
        ")"
      ],
      "execution_count": null,
      "outputs": []
    },
    {
      "cell_type": "code",
      "metadata": {
        "id": "paRHHLbhcwop"
      },
      "source": [
        "trainer.train()"
      ],
      "execution_count": null,
      "outputs": []
    },
    {
      "cell_type": "markdown",
      "metadata": {
        "id": "kPvx6AmiR5ws"
      },
      "source": [
        "# inference"
      ]
    },
    {
      "cell_type": "code",
      "metadata": {
        "colab": {
          "base_uri": "https://localhost:8080/"
        },
        "id": "bTFxQvv5SRzQ",
        "outputId": "b3e4a08c-2fd0-4cdf-9363-aec7879cd332"
      },
      "source": [
        "from transformers import Wav2Vec2ForCTC\n",
        "\n",
        "model = Wav2Vec2ForCTC.from_pretrained(\n",
        "    \"facebook/wav2vec2-base\", \n",
        "    gradient_checkpointing=True, \n",
        "    ctc_loss_reduction=\"mean\", \n",
        "    pad_token_id=processor.tokenizer.pad_token_id,\n",
        ")"
      ],
      "execution_count": 54,
      "outputs": [
        {
          "output_type": "stream",
          "text": [
            "Some weights of the model checkpoint at facebook/wav2vec2-base were not used when initializing Wav2Vec2ForCTC: ['quantizer.codevectors', 'quantizer.weight_proj.weight', 'quantizer.weight_proj.bias', 'project_q.weight', 'project_q.bias', 'project_hid.weight', 'project_hid.bias']\n",
            "- This IS expected if you are initializing Wav2Vec2ForCTC from the checkpoint of a model trained on another task or with another architecture (e.g. initializing a BertForSequenceClassification model from a BertForPreTraining model).\n",
            "- This IS NOT expected if you are initializing Wav2Vec2ForCTC from the checkpoint of a model that you expect to be exactly identical (initializing a BertForSequenceClassification model from a BertForSequenceClassification model).\n",
            "Some weights of Wav2Vec2ForCTC were not initialized from the model checkpoint at facebook/wav2vec2-base and are newly initialized: ['lm_head.weight', 'lm_head.bias']\n",
            "You should probably TRAIN this model on a down-stream task to be able to use it for predictions and inference.\n"
          ],
          "name": "stderr"
        }
      ]
    },
    {
      "cell_type": "code",
      "metadata": {
        "id": "qXmeo5kjSgWQ"
      },
      "source": [
        "from transformers import Wav2Vec2CTCTokenizer\n",
        "\n",
        "tokenizer = Wav2Vec2CTCTokenizer(\"./vocab.json\", unk_token=\"[UNK]\", pad_token=\"[PAD]\", word_delimiter_token=\"|\")"
      ],
      "execution_count": 55,
      "outputs": []
    },
    {
      "cell_type": "code",
      "metadata": {
        "id": "UJLEGizP6gf7"
      },
      "source": [
        "model = Wav2Vec2ForCTC.from_pretrained(\"/content/gdrive/MyDrive/new_123/checkpoint-7000\")"
      ],
      "execution_count": 63,
      "outputs": []
    },
    {
      "cell_type": "code",
      "metadata": {
        "id": "2l5kJU5P6sB4"
      },
      "source": [
        "def map_to_result(batch):\n",
        "  model.to(\"cuda\")\n",
        "  input_values = processor(\n",
        "      batch[\"speech\"], \n",
        "      sampling_rate=batch[\"sampling_rate\"], \n",
        "      return_tensors=\"pt\"\n",
        "  ).input_values.to(\"cuda\")\n",
        "\n",
        "  with torch.no_grad():\n",
        "    logits = model(input_values).logits\n",
        "\n",
        "  pred_ids = torch.argmax(logits, dim=-1)\n",
        "  batch[\"pred_str\"] = processor.batch_decode(pred_ids)[0]\n",
        "  \n",
        "  return batch"
      ],
      "execution_count": 64,
      "outputs": []
    },
    {
      "cell_type": "code",
      "metadata": {
        "colab": {
          "base_uri": "https://localhost:8080/",
          "height": 66,
          "referenced_widgets": [
            "d1613b745e7842e7823f6c8fe86b41ed",
            "476ef991f090469992d5ed1600580371",
            "fbc332907bee4ddbbc7a1474017de7d8",
            "08469e22c18141b4bbac7ee4b5729431",
            "a246362a767f4ab098858849cb729548",
            "951e92ec67174e1db3bcde6c8f292e75",
            "4eccbe1bef464631b7f9d34ca429237b",
            "be3c73993486478b8d6d9e2583014433"
          ]
        },
        "id": "knvHhbvDTgLN",
        "outputId": "2d7c8352-2659-4d1e-9386-459a5854d0b1"
      },
      "source": [
        "def map_to_result(batch):\n",
        "  model.to(\"cuda\")\n",
        "  input_values = processor(\n",
        "      batch[\"speech\"], \n",
        "      sampling_rate=batch[\"sampling_rate\"], \n",
        "      return_tensors=\"pt\",\n",
        "  ).input_values.to(\"cuda\")\n",
        "\n",
        "  with torch.no_grad():\n",
        "    logits = model(input_values).logits\n",
        "\n",
        "  pred_ids = torch.argmax(logits, dim=-1)\n",
        "  batch[\"pred_str\"] = processor.batch_decode(pred_ids)[0]\n",
        "\n",
        "  return batch\n",
        "\n",
        "results = timit[\"test\"].map(map_to_result)"
      ],
      "execution_count": 65,
      "outputs": [
        {
          "output_type": "display_data",
          "data": {
            "application/vnd.jupyter.widget-view+json": {
              "model_id": "d1613b745e7842e7823f6c8fe86b41ed",
              "version_minor": 0,
              "version_major": 2
            },
            "text/plain": [
              "HBox(children=(FloatProgress(value=0.0, max=501.0), HTML(value='')))"
            ]
          },
          "metadata": {
            "tags": []
          }
        },
        {
          "output_type": "stream",
          "text": [
            "\n"
          ],
          "name": "stdout"
        }
      ]
    },
    {
      "cell_type": "code",
      "metadata": {
        "colab": {
          "base_uri": "https://localhost:8080/",
          "height": 162
        },
        "id": "5YUkT5mX6y2p",
        "outputId": "6b46faa4-cc1f-4f9c-cc2f-8c1076d5eab6"
      },
      "source": [
        "print(\"Test WER: {:.3f}\".format(wer_metric.compute(predictions=results[\"pred_str\"], references=results[\"target_text\"])))"
      ],
      "execution_count": 66,
      "outputs": [
        {
          "output_type": "error",
          "ename": "NameError",
          "evalue": "ignored",
          "traceback": [
            "\u001b[0;31m---------------------------------------------------------------------------\u001b[0m",
            "\u001b[0;31mNameError\u001b[0m                                 Traceback (most recent call last)",
            "\u001b[0;32m<ipython-input-66-24777ae7ed70>\u001b[0m in \u001b[0;36m<module>\u001b[0;34m()\u001b[0m\n\u001b[0;32m----> 1\u001b[0;31m \u001b[0mprint\u001b[0m\u001b[0;34m(\u001b[0m\u001b[0;34m\"Test WER: {:.3f}\"\u001b[0m\u001b[0;34m.\u001b[0m\u001b[0mformat\u001b[0m\u001b[0;34m(\u001b[0m\u001b[0mwer_metric\u001b[0m\u001b[0;34m.\u001b[0m\u001b[0mcompute\u001b[0m\u001b[0;34m(\u001b[0m\u001b[0mpredictions\u001b[0m\u001b[0;34m=\u001b[0m\u001b[0mresults\u001b[0m\u001b[0;34m[\u001b[0m\u001b[0;34m\"pred_str\"\u001b[0m\u001b[0;34m]\u001b[0m\u001b[0;34m,\u001b[0m \u001b[0mreferences\u001b[0m\u001b[0;34m=\u001b[0m\u001b[0mresults\u001b[0m\u001b[0;34m[\u001b[0m\u001b[0;34m\"target_text\"\u001b[0m\u001b[0;34m]\u001b[0m\u001b[0;34m)\u001b[0m\u001b[0;34m)\u001b[0m\u001b[0;34m)\u001b[0m\u001b[0;34m\u001b[0m\u001b[0;34m\u001b[0m\u001b[0m\n\u001b[0m",
            "\u001b[0;31mNameError\u001b[0m: name 'wer_metric' is not defined"
          ]
        }
      ]
    },
    {
      "cell_type": "code",
      "metadata": {
        "colab": {
          "base_uri": "https://localhost:8080/",
          "height": 357
        },
        "id": "ljVhyRej90IG",
        "outputId": "1232560a-af0a-4e2a-aeeb-e30954ff7f2f"
      },
      "source": [
        "show_random_elements(results.remove_columns([\"speech\", \"sampling_rate\"]))"
      ],
      "execution_count": null,
      "outputs": [
        {
          "output_type": "display_data",
          "data": {
            "text/html": [
              "<table border=\"1\" class=\"dataframe\">\n",
              "  <thead>\n",
              "    <tr style=\"text-align: right;\">\n",
              "      <th></th>\n",
              "      <th>pred_str</th>\n",
              "      <th>target_text</th>\n",
              "    </tr>\n",
              "  </thead>\n",
              "  <tbody>\n",
              "    <tr>\n",
              "      <th>0</th>\n",
              "      <td>turn the lamp off</td>\n",
              "      <td>turn the lamp off</td>\n",
              "    </tr>\n",
              "    <tr>\n",
              "      <th>1</th>\n",
              "      <td>turn down the volume</td>\n",
              "      <td>turn down the volume</td>\n",
              "    </tr>\n",
              "    <tr>\n",
              "      <th>2</th>\n",
              "      <td>turn the bedroom lights on</td>\n",
              "      <td>turn the bedroom lights on</td>\n",
              "    </tr>\n",
              "    <tr>\n",
              "      <th>3</th>\n",
              "      <td>change language</td>\n",
              "      <td>change language</td>\n",
              "    </tr>\n",
              "    <tr>\n",
              "      <th>4</th>\n",
              "      <td>lights on in the kitchen</td>\n",
              "      <td>lights on in the kitchen</td>\n",
              "    </tr>\n",
              "    <tr>\n",
              "      <th>5</th>\n",
              "      <td>play</td>\n",
              "      <td>play</td>\n",
              "    </tr>\n",
              "    <tr>\n",
              "      <th>6</th>\n",
              "      <td>switch on the lamp</td>\n",
              "      <td>switch on the lamp</td>\n",
              "    </tr>\n",
              "    <tr>\n",
              "      <th>7</th>\n",
              "      <td>switch on the lights</td>\n",
              "      <td>switch on the lights</td>\n",
              "    </tr>\n",
              "    <tr>\n",
              "      <th>8</th>\n",
              "      <td>turn the temperature down</td>\n",
              "      <td>turn the temperature down</td>\n",
              "    </tr>\n",
              "    <tr>\n",
              "      <th>9</th>\n",
              "      <td>volume down</td>\n",
              "      <td>volume down</td>\n",
              "    </tr>\n",
              "  </tbody>\n",
              "</table>"
            ],
            "text/plain": [
              "<IPython.core.display.HTML object>"
            ]
          },
          "metadata": {
            "tags": []
          }
        }
      ]
    }
  ]
}